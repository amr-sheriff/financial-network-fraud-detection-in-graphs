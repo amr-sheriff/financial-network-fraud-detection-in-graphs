{
 "cells": [
  {
   "metadata": {},
   "cell_type": "markdown",
   "source": [
    "### **Financial Network Fraud Detection in Graphs**\n",
    "#### **Dataset preprocessing**\n",
    "\n",
    "The notebook provides a comprehensive data preprocessing and feature extraction for a fraud detection task on a private transaction dataset. It includes the steps to clean, transform, handling missing values, and engineer features from raw data to prepare it for Graph construction and ML models.  \n",
    "\n",
    "It includes the following key components:  \n",
    "1. **Data preparation**:  \n",
    "- Loading raw data files\n",
    "- Filters, merges, selects, and aggregates data\n",
    "\n",
    "2. **Data cleaning & transformation**:\n",
    "- Handling missing values\n",
    "- Data type conversion\n",
    "- Handling duplicates\n",
    "- Temporary data transformation\n",
    "- Handling categorical & numerical data\n",
    "- Text data cleaning\n",
    "\n",
    "3. **Feature extraction & engineering based on domain knowledge**:\n",
    "- Adding new derived features\n",
    "- Computing time-based features\n",
    "- Adding relative time features\n",
    "\n",
    "4. **Splitting data**:\n",
    "- Splitting data into training, validation, and testing sets\n",
    "\n",
    "Author: Amr Sherif  \n",
    "Created Date: 2024-11-05  \n",
    "Updated Date: 2024-11-08  \n",
    "Version: 1.0"
   ],
   "id": "3c531f7cce6c6e89"
  },
  {
   "cell_type": "code",
   "id": "initial_id",
   "metadata": {
    "collapsed": true,
    "ExecuteTime": {
     "end_time": "2024-11-07T14:59:48.179843Z",
     "start_time": "2024-11-07T14:59:47.874705Z"
    }
   },
   "source": [
    "import pandas as pd\n",
    "import numpy as np\n",
    "import os\n",
    "from pathlib import Path"
   ],
   "outputs": [],
   "execution_count": 1
  },
  {
   "metadata": {
    "ExecuteTime": {
     "end_time": "2024-11-07T14:59:48.230917Z",
     "start_time": "2024-11-07T14:59:48.229048Z"
    }
   },
   "cell_type": "code",
   "source": [
    "cwd = Path.cwd()\n",
    "rawData_dir = cwd / \"rawData\""
   ],
   "id": "abae3f3ce4947da1",
   "outputs": [],
   "execution_count": 2
  },
  {
   "cell_type": "code",
   "source": [
    "orders = pd.read_csv(rawData_dir / 'orders.csv')\n",
    "installments = pd.read_csv(rawData_dir / 'installments.csv')\n",
    "installments_plans = pd.read_csv(rawData_dir / 'installments_plans.csv')\n",
    "transactions = pd.read_csv(rawData_dir / 'transactions.csv')\n",
    "\n",
    "addresses = pd.read_csv(rawData_dir / 'addresses.csv')\n",
    "cart = pd.read_csv(rawData_dir / 'cart.csv')\n",
    "checkouts = pd.read_csv(rawData_dir / 'checkouts.csv')\n",
    "customers = pd.read_csv(rawData_dir / 'customers.csv')\n",
    "idv = pd.read_csv(rawData_dir / 'idv.csv')\n",
    "ekata = pd.read_csv(rawData_dir / 'ekata.csv')\n",
    "merchants = pd.read_csv(rawData_dir / 'merchants.csv')\n",
    "\n",
    "seon = pd.read_csv(rawData_dir / 'seon.csv')\n",
    "orders_district = pd.read_csv(rawData_dir / 'orders_district.csv')\n",
    "bin_codes = pd.read_csv(rawData_dir / 'bin_codes.csv')\n",
    "merchants_category = pd.read_csv(rawData_dir / 'merchants_category.csv')\n",
    "orders_fraud_category = pd.read_csv(rawData_dir / 'orders_fraud_category.csv')"
   ],
   "metadata": {
    "collapsed": false,
    "ExecuteTime": {
     "end_time": "2024-11-07T15:00:42.016828Z",
     "start_time": "2024-11-07T14:59:48.715710Z"
    }
   },
   "id": "4e0b789853493ded",
   "outputs": [
    {
     "name": "stderr",
     "output_type": "stream",
     "text": [
      "/var/folders/3s/rv8h_gcs26l2ll42x85k40j80000gn/T/ipykernel_20911/441442133.py:1: DtypeWarning: Columns (2,25,26,27,28,29,35,37,39,41,42,43,44,45) have mixed types. Specify dtype option on import or set low_memory=False.\n",
      "  orders = pd.read_csv(rawData_dir / 'orders.csv')\n",
      "/var/folders/3s/rv8h_gcs26l2ll42x85k40j80000gn/T/ipykernel_20911/441442133.py:3: DtypeWarning: Columns (22) have mixed types. Specify dtype option on import or set low_memory=False.\n",
      "  installments_plans = pd.read_csv(rawData_dir / 'installments_plans.csv')\n",
      "/var/folders/3s/rv8h_gcs26l2ll42x85k40j80000gn/T/ipykernel_20911/441442133.py:7: DtypeWarning: Columns (1) have mixed types. Specify dtype option on import or set low_memory=False.\n",
      "  cart = pd.read_csv(rawData_dir / 'cart.csv')\n",
      "/var/folders/3s/rv8h_gcs26l2ll42x85k40j80000gn/T/ipykernel_20911/441442133.py:9: DtypeWarning: Columns (7) have mixed types. Specify dtype option on import or set low_memory=False.\n",
      "  customers = pd.read_csv(rawData_dir / 'customers.csv')\n",
      "/var/folders/3s/rv8h_gcs26l2ll42x85k40j80000gn/T/ipykernel_20911/441442133.py:11: DtypeWarning: Columns (10) have mixed types. Specify dtype option on import or set low_memory=False.\n",
      "  ekata = pd.read_csv(rawData_dir / 'ekata.csv')\n",
      "/var/folders/3s/rv8h_gcs26l2ll42x85k40j80000gn/T/ipykernel_20911/441442133.py:14: DtypeWarning: Columns (5,11,12,13,15,32,63,64,66,76,77,78,79,80,81,82,109,110,114,117,118,119,121,122) have mixed types. Specify dtype option on import or set low_memory=False.\n",
      "  seon = pd.read_csv(rawData_dir / 'seon.csv')\n"
     ]
    }
   ],
   "execution_count": 3
  },
  {
   "cell_type": "code",
   "source": [
    "orders = orders.loc[(orders['num_instalments'] >1) & \n",
    "                    (orders['currency'] == 'AED') & \n",
    "                    (orders['status'].isin(['captured', 'denied']))\n",
    "                    ]\n",
    "\n",
    "installments_plans = installments_plans.loc[(installments_plans['num_instalments'] >1) &\n",
    "                                            (installments_plans['currency'] == 'AED')\n",
    "                                            ]\n",
    "\n",
    "checkouts = checkouts.loc[(checkouts['num_instalments'] >1)]\n"
   ],
   "metadata": {
    "collapsed": false,
    "ExecuteTime": {
     "end_time": "2024-11-07T15:00:43.923686Z",
     "start_time": "2024-11-07T15:00:42.021260Z"
    }
   },
   "id": "666c4011d792aec4",
   "outputs": [],
   "execution_count": 4
  },
  {
   "cell_type": "code",
   "source": [
    "# add suffix to columns\n",
    "orders = orders.add_suffix('_orders')\n",
    "installments_plans = installments_plans.add_suffix('_installments_plans')\n",
    "checkouts = checkouts.add_suffix('_checkouts')\n",
    "addresses = addresses.add_suffix('_addresses')\n",
    "customers = customers.add_suffix('_customers')\n",
    "cart = cart.add_suffix('_cart')\n",
    "idv = idv.add_suffix('_idv')\n",
    "ekata = ekata.add_suffix('_ekata')\n",
    "merchants = merchants.add_suffix('_merchants')\n",
    "seon = seon.add_suffix('_seon')\n",
    "orders_district = orders_district.add_suffix('_district')\n",
    "bin_codes = bin_codes.add_suffix('_bin')\n",
    "merchants_category = merchants_category.add_suffix('_merchantcategory')\n",
    "orders_fraud_category = orders_fraud_category.add_suffix('_fraudcategory')"
   ],
   "metadata": {
    "collapsed": false,
    "ExecuteTime": {
     "end_time": "2024-11-07T15:00:45.680166Z",
     "start_time": "2024-11-07T15:00:44.315875Z"
    }
   },
   "id": "c2dc1fd2f3f2e445",
   "outputs": [],
   "execution_count": 5
  },
  {
   "cell_type": "code",
   "source": [
    "# eliminating irrelevant records for gift card & pp card >> ex. MAF\n",
    "orders = orders.loc[~orders['checkout_type_orders'].isin(['gift-card', 'postpay-card'])]\n",
    "orders = orders.loc[~(orders['customer_id_orders'] == '')]\n",
    "\n",
    "# dropping duplicates and keeping the latest records in seon and ekata\n",
    "seon = seon.sort_values(by='created_at_seon', ascending=False)\n",
    "seon = seon.drop_duplicates(subset='decision_id_seon', keep='first')\n",
    "\n",
    "ekata = ekata.sort_values(by='created_at_ekata', ascending=False)\n",
    "ekata = ekata.drop_duplicates(subset='decision_id_ekata', keep='first')"
   ],
   "metadata": {
    "collapsed": false,
    "ExecuteTime": {
     "end_time": "2024-11-07T15:00:47.096588Z",
     "start_time": "2024-11-07T15:00:46.040794Z"
    }
   },
   "id": "b09b44e470a09b25",
   "outputs": [],
   "execution_count": 6
  },
  {
   "cell_type": "code",
   "source": [
    "# PK & FK data type conversion\n",
    "orders['order_id_orders'] = orders['order_id_orders'].astype('int64')\n",
    "installments_plans['order_id_installments_plans'] = installments_plans['order_id_installments_plans'].astype('int64')\n",
    "checkouts['order_id_checkouts'] = checkouts['order_id_checkouts'].astype('int64')\n",
    "orders['shipping_address_id_orders'] = orders['shipping_address_id_orders'].astype('Int64')\n",
    "addresses['id_addresses'] = addresses['id_addresses'].astype('int64')\n",
    "customers['customer_id_customers'] = customers['customer_id_customers'].astype('int64')\n",
    "orders['customer_id_orders'] = orders['customer_id_orders'].astype('int64')\n",
    "cart['order_id_cart'] = cart['order_id_cart'].astype('Int64')\n",
    "idv['customer_id_idv'] = idv['customer_id_idv'].astype('int64')\n",
    "orders_district['order_id_district'] = orders_district['order_id_district'].astype('int64')\n",
    "merchants_category['merchant_id_merchantcategory'] = merchants_category['merchant_id_merchantcategory'].astype('str')\n",
    "orders['merchant_id_orders'] = orders['merchant_id_orders'].astype('str')"
   ],
   "metadata": {
    "collapsed": false,
    "ExecuteTime": {
     "end_time": "2024-11-07T15:00:48.038660Z",
     "start_time": "2024-11-07T15:00:47.460521Z"
    }
   },
   "id": "c38ff791fa72c958",
   "outputs": [],
   "execution_count": 7
  },
  {
   "cell_type": "code",
   "source": [
    "# orders['shipping_address_id_orders'].dtype\n",
    "# addresses['id_addresses'].dtype\n",
    "# cart['order_id_cart'].dtype\n",
    "# idv['customer_id_idv'].dtype\n",
    "# ekata['decision_id_ekata'].dtype\n",
    "# orders['decision_id_orders'].dtype\n",
    "# seon['decision_id_seon'].dtype\n",
    "# orders_district['order_id_district'].dtype\n",
    "# bin_codes['bin_bin'].dtype\n",
    "# orders['card_first_six_digits_orders'].dtype\n",
    "# merchants_category['merchant_id_merchantcategory'].dtype\n",
    "# orders['merchant_id_orders'].dtype\n",
    "# orders_fraud_category['order_id_fraudcategory'].dtype\n",
    "# orders['decision_id_orders'].dtype\n",
    "# installments_plans['card_first_six_digits_installments_plans'].dtype"
   ],
   "metadata": {
    "collapsed": false,
    "ExecuteTime": {
     "end_time": "2024-11-07T15:02:40.493684Z",
     "start_time": "2024-11-07T15:02:40.491357Z"
    }
   },
   "id": "ff4b12a7358a2562",
   "outputs": [],
   "execution_count": 8
  },
  {
   "cell_type": "code",
   "source": [
    "orders_agg = pd.merge(orders, installments_plans, left_on='order_id_orders', right_on='order_id_installments_plans', how='left')\n",
    "orders_agg = pd.merge(orders_agg, checkouts, left_on='order_id_orders', right_on='order_id_checkouts', how='left')\n",
    "orders_agg = pd.merge(orders_agg, addresses, left_on='shipping_address_id_orders', right_on='id_addresses', how='left')"
   ],
   "metadata": {
    "collapsed": false,
    "ExecuteTime": {
     "end_time": "2024-11-07T15:02:48.466434Z",
     "start_time": "2024-11-07T15:02:41.884782Z"
    }
   },
   "id": "53d335e5dd1f78e5",
   "outputs": [],
   "execution_count": 9
  },
  {
   "cell_type": "code",
   "source": [
    "cart = cart[['order_id_cart', 'name_cart', 'qty_cart']].reset_index()\n",
    "cart = cart.dropna()"
   ],
   "metadata": {
    "collapsed": false,
    "ExecuteTime": {
     "end_time": "2024-11-07T15:33:00.525267Z",
     "start_time": "2024-11-07T15:32:59.680636Z"
    }
   },
   "id": "3e47fc7d600baeea",
   "outputs": [],
   "execution_count": 33
  },
  {
   "cell_type": "code",
   "source": [
    "def aggregate_order(df):\n",
    "    max_qty_row = df.loc[df['qty_cart'].idxmax()]\n",
    "    \n",
    "    max_qty = max_qty_row['qty_cart']\n",
    "    max_qty_name = max_qty_row['name_cart']\n",
    "    concatenated_names = ', '.join(df['name_cart'])\n",
    "    total_qty = df['qty_cart'].sum()\n",
    "\n",
    "    return pd.Series({'concatenated_names': concatenated_names,\n",
    "                      'total_quantity': total_qty,\n",
    "                      'max_quantity_name': max_qty_name,\n",
    "                      'max_quantity': max_qty})"
   ],
   "metadata": {
    "collapsed": false,
    "ExecuteTime": {
     "end_time": "2024-11-07T15:33:03.474566Z",
     "start_time": "2024-11-07T15:33:03.471444Z"
    }
   },
   "id": "abd57b71e2ad0fff",
   "outputs": [],
   "execution_count": 34
  },
  {
   "cell_type": "code",
   "source": [
    "cart_agg = cart.groupby('order_id_cart').apply(aggregate_order).reset_index()"
   ],
   "metadata": {
    "collapsed": false,
    "ExecuteTime": {
     "end_time": "2024-11-07T15:40:23.305326Z",
     "start_time": "2024-11-07T15:33:05.556761Z"
    }
   },
   "id": "eddff1e15f407982",
   "outputs": [
    {
     "name": "stderr",
     "output_type": "stream",
     "text": [
      "/var/folders/3s/rv8h_gcs26l2ll42x85k40j80000gn/T/ipykernel_20911/963531719.py:1: DeprecationWarning: DataFrameGroupBy.apply operated on the grouping columns. This behavior is deprecated, and in a future version of pandas the grouping columns will be excluded from the operation. Either pass `include_groups=False` to exclude the groupings or explicitly select the grouping columns after groupby to silence this warning.\n",
      "  cart_agg = cart.groupby('order_id_cart').apply(aggregate_order).reset_index()\n"
     ]
    }
   ],
   "execution_count": 35
  },
  {
   "cell_type": "code",
   "source": [
    "orders_agg = pd.merge(orders_agg, cart_agg, left_on='order_id_orders', right_on='order_id_cart', how='left')"
   ],
   "metadata": {
    "collapsed": false,
    "ExecuteTime": {
     "end_time": "2024-11-07T15:44:03.940595Z",
     "start_time": "2024-11-07T15:43:59.771970Z"
    }
   },
   "id": "16f4c0af946db7bb",
   "outputs": [],
   "execution_count": 36
  },
  {
   "cell_type": "code",
   "source": [
    "orders_agg = pd.merge(orders_agg, customers, left_on='customer_id_orders', right_on='customer_id_customers', how='left')"
   ],
   "metadata": {
    "collapsed": false,
    "ExecuteTime": {
     "end_time": "2024-11-07T15:44:06.730026Z",
     "start_time": "2024-11-07T15:44:03.946330Z"
    }
   },
   "id": "5544883028683861",
   "outputs": [],
   "execution_count": 37
  },
  {
   "cell_type": "code",
   "source": [
    "orders_agg = pd.merge(orders_agg, idv, left_on='customer_id_orders', right_on='customer_id_idv', how='left')"
   ],
   "metadata": {
    "collapsed": false,
    "ExecuteTime": {
     "end_time": "2024-11-07T15:44:11.454180Z",
     "start_time": "2024-11-07T15:44:07.600701Z"
    }
   },
   "id": "f28752e1ff3bbe33",
   "outputs": [],
   "execution_count": 38
  },
  {
   "cell_type": "code",
   "source": [
    "orders_agg = pd.merge(orders_agg, ekata, left_on='decision_id_orders', right_on='decision_id_ekata', how='left')\n",
    "orders_agg = pd.merge(orders_agg, seon, left_on='decision_id_orders', right_on='decision_id_seon', how='left')\n",
    "orders_agg = pd.merge(orders_agg, orders_district, left_on='order_id_orders', right_on='order_id_district', how='left')\n",
    "orders_agg = pd.merge(orders_agg, bin_codes, left_on='card_first_six_digits_orders', right_on='bin_bin', how='left')\n",
    "orders_agg = pd.merge(orders_agg, merchants_category, left_on='merchant_id_orders', right_on='merchant_id_merchantcategory', how='left')\n",
    "orders_agg = pd.merge(orders_agg, orders_fraud_category, left_on='order_id_orders', right_on='order_id_fraudcategory', how='left')"
   ],
   "metadata": {
    "collapsed": false,
    "ExecuteTime": {
     "end_time": "2024-11-07T15:44:52.836734Z",
     "start_time": "2024-11-07T15:44:12.122934Z"
    }
   },
   "id": "1e15497fa0aa61df",
   "outputs": [],
   "execution_count": 39
  },
  {
   "cell_type": "code",
   "source": "# orders_agg[orders_agg['order_id_orders'].duplicated()==True]",
   "metadata": {
    "collapsed": false,
    "ExecuteTime": {
     "end_time": "2024-11-07T15:45:14.047190Z",
     "start_time": "2024-11-07T15:45:14.021810Z"
    }
   },
   "id": "4bb8b6581a00c729",
   "outputs": [
    {
     "data": {
      "text/plain": [
       "Empty DataFrame\n",
       "Columns: [order_id_orders, shipping_id_orders, merchant_id_orders, total_amount_orders, status_orders, status_changed_orders, billing_address_id_orders, convenience_fee_orders, tax_amount_orders, created_orders, reference_orders, currency_orders, customer_email_orders, customer_date_joined_orders, merchant_name_orders, reference_merchant_id_orders, shipping_amount_orders, shipping_address_id_orders, customer_id_orders, checkout_type_orders, num_instalments_orders, payment_method_id_orders, payment_interval_orders, ip_address_orders, user_agent_orders, rules_orders, secure_orders, decision_id_orders, denied_throttling_reasons_orders, throttling_order_ids_orders, checkout_language_orders, device_fingerprint_orders, checkout_verified_orders, checkout_completed_orders, checkout_metadata_orders, payment_method_fingerprint_orders, payment_method_type_id_orders, payment_method_brand_orders, card_last_four_digits_orders, payment_method_expires_orders, card_first_six_digits_orders, is_apple_pay_orders, payment_method_country_orders, is_mada_orders, payment_method_bank_orders, payment_method_type_orders, instalment_plan_id_installments_plans, created_installments_plans, payment_method_fingerprint_installments_plans, downpayment_amount_installments_plans, billing_address_id_installments_plans, device_fingerprint_installments_plans, payment_method_type_id_installments_plans, total_downpayment_installments_plans, checkout_metadata_installments_plans, checkout_completed_installments_plans, plan_installments_plans, payment_method_brand_installments_plans, convenience_fee_installments_plans, decision_id_installments_plans, customer_whitelisted_installments_plans, payment_method_expires_installments_plans, card_last_four_digits_installments_plans, shipping_address_id_installments_plans, card_first_six_digits_installments_plans, checkout_id_installments_plans, secure_installments_plans, total_amount_installments_plans, merchant_id_installments_plans, payment_method_id_installments_plans, is_apple_pay_installments_plans, currency_installments_plans, customer_id_installments_plans, gateway_name_installments_plans, id_number_installments_plans, cancelled_installments_plans, checkout_verified_installments_plans, payment_method_country_installments_plans, shipping_amount_installments_plans, reference_installments_plans, completed_installments_plans, id_verification_level_installments_plans, merchant_name_installments_plans, is_mada_installments_plans, payment_interval_installments_plans, customer_date_joined_installments_plans, status_changed_installments_plans, order_id_installments_plans, checkout_type_installments_plans, customer_email_installments_plans, checkout_language_installments_plans, status_installments_plans, tax_amount_installments_plans, num_instalments_installments_plans, payment_method_bank_installments_plans, customer_blacklisted_installments_plans, shipping_id_installments_plans, payment_method_type_installments_plans, date_of_birth_installments_plans, phone_installments_plans, ...]\n",
       "Index: []\n",
       "\n",
       "[0 rows x 375 columns]"
      ],
      "text/html": [
       "<div>\n",
       "<style scoped>\n",
       "    .dataframe tbody tr th:only-of-type {\n",
       "        vertical-align: middle;\n",
       "    }\n",
       "\n",
       "    .dataframe tbody tr th {\n",
       "        vertical-align: top;\n",
       "    }\n",
       "\n",
       "    .dataframe thead th {\n",
       "        text-align: right;\n",
       "    }\n",
       "</style>\n",
       "<table border=\"1\" class=\"dataframe\">\n",
       "  <thead>\n",
       "    <tr style=\"text-align: right;\">\n",
       "      <th></th>\n",
       "      <th>order_id_orders</th>\n",
       "      <th>shipping_id_orders</th>\n",
       "      <th>merchant_id_orders</th>\n",
       "      <th>total_amount_orders</th>\n",
       "      <th>status_orders</th>\n",
       "      <th>status_changed_orders</th>\n",
       "      <th>billing_address_id_orders</th>\n",
       "      <th>convenience_fee_orders</th>\n",
       "      <th>tax_amount_orders</th>\n",
       "      <th>created_orders</th>\n",
       "      <th>...</th>\n",
       "      <th>bin_bin</th>\n",
       "      <th>card_type_cleaned_bin</th>\n",
       "      <th>card_brand_cleaned_bin</th>\n",
       "      <th>card_level_cleaned_bin</th>\n",
       "      <th>merchant_id_merchantcategory</th>\n",
       "      <th>merchant_name_merchantcategory</th>\n",
       "      <th>category_merchantcategory</th>\n",
       "      <th>order_id_fraudcategory</th>\n",
       "      <th>fraud_category_fraudcategory</th>\n",
       "      <th>status_fraudcategory</th>\n",
       "    </tr>\n",
       "  </thead>\n",
       "  <tbody>\n",
       "  </tbody>\n",
       "</table>\n",
       "<p>0 rows × 375 columns</p>\n",
       "</div>"
      ]
     },
     "execution_count": 40,
     "metadata": {},
     "output_type": "execute_result"
    }
   ],
   "execution_count": 40
  },
  {
   "cell_type": "code",
   "source": [
    "# select desired columns for visibility\n",
    "# suffix = 'installments_plans'\n",
    "# orders_agg.filter(regex=f'.*_{suffix}$')"
   ],
   "metadata": {
    "collapsed": false,
    "ExecuteTime": {
     "end_time": "2024-11-07T23:03:13.174865Z",
     "start_time": "2024-11-07T23:03:13.172679Z"
    }
   },
   "id": "4617ebcb02c39576",
   "outputs": [],
   "execution_count": 127
  },
  {
   "cell_type": "code",
   "source": [
    "# filter and separate captured orders (only captured non-fraud) and all fraud orders (captured + denied)\n",
    "orders_agg_fraud = orders_agg[orders_agg['fraud_category_fraudcategory'].isin(['Fraud', 'Suspected Fraud'])].reset_index(drop=True)\n",
    "\n",
    "orders_agg_captured = orders_agg[orders_agg['status_orders'].isin(['captured'])].reset_index(drop=True)\n",
    "\n",
    "orders_agg_captured = orders_agg_captured[~orders_agg_captured['fraud_category_fraudcategory'].isin(['Fraud', 'Suspected Fraud'])].reset_index(drop=True)\n",
    "orders_agg_captured = orders_agg_captured.sort_values(by='created_orders', ascending=False)"
   ],
   "metadata": {
    "collapsed": false,
    "ExecuteTime": {
     "end_time": "2024-11-07T17:54:30.518298Z",
     "start_time": "2024-11-07T17:54:20.848633Z"
    }
   },
   "id": "99fbd7e473d5cbc9",
   "outputs": [],
   "execution_count": 42
  },
  {
   "metadata": {
    "ExecuteTime": {
     "end_time": "2024-11-07T17:54:32.611838Z",
     "start_time": "2024-11-07T17:54:32.601323Z"
    }
   },
   "cell_type": "code",
   "source": "orders_agg_captured.info()",
   "id": "19e15d082f55a4ec",
   "outputs": [
    {
     "name": "stdout",
     "output_type": "stream",
     "text": [
      "<class 'pandas.core.frame.DataFrame'>\n",
      "Index: 376049 entries, 264693 to 105355\n",
      "Columns: 375 entries, order_id_orders to status_fraudcategory\n",
      "dtypes: Int64(2), float64(102), int64(3), object(268)\n",
      "memory usage: 1.1+ GB\n"
     ]
    }
   ],
   "execution_count": 43
  },
  {
   "cell_type": "code",
   "source": [
    "# select a subset of captured orders for initial experimentation\n",
    "# orders_agg_captured = orders_agg_captured.iloc[:105000]"
   ],
   "metadata": {
    "collapsed": false
   },
   "id": "937b54a84b13644e",
   "outputs": [],
   "execution_count": null
  },
  {
   "cell_type": "code",
   "source": [
    "orders_agg_captured = pd.concat([orders_agg_captured, orders_agg_fraud], axis=0, ignore_index=True)\n",
    "orders_agg_captured = orders_agg_captured.sample(frac=1).reset_index(drop=True)"
   ],
   "metadata": {
    "collapsed": false,
    "ExecuteTime": {
     "end_time": "2024-11-07T18:01:47.157623Z",
     "start_time": "2024-11-07T18:01:38.825441Z"
    }
   },
   "id": "6f9c937341dda78d",
   "outputs": [],
   "execution_count": 44
  },
  {
   "cell_type": "code",
   "source": [
    "orders_agg_cleaned = orders_agg_captured[[\n",
    "                        # installments_plans\n",
    "                        'payment_method_brand_installments_plans', 'payment_method_expires_installments_plans', 'card_last_four_digits_installments_plans', 'card_first_six_digits_installments_plans', \n",
    "    'is_apple_pay_installments_plans',\n",
    "                        'payment_method_country_installments_plans', 'payment_method_bank_installments_plans', 'payment_method_type_installments_plans', \n",
    "    'customer_email_installments_plans', \n",
    "    # 'secure_installments_plans', \n",
    "                        'payment_method_fingerprint_installments_plans', 'id_number_installments_plans',\n",
    "                        # orders\n",
    "                        'order_id_orders', 'total_amount_orders', 'created_orders', 'customer_email_orders', 'customer_date_joined_orders', \n",
    "                       'merchant_name_orders', 'category_merchantcategory', 'checkout_type_orders', 'num_instalments_orders', 'ip_address_orders', 'user_agent_orders', \n",
    "                       # 'secure_orders', \n",
    "    'device_fingerprint_orders', 'checkout_verified_orders', 'checkout_metadata_orders', \n",
    "                       'payment_method_fingerprint_orders', 'card_last_four_digits_orders', 'payment_method_expires_orders', \n",
    "                       'card_first_six_digits_orders', 'is_apple_pay_orders', 'payment_method_country_orders','payment_method_bank_orders', \n",
    "                       # bin codes\n",
    "                       'card_type_cleaned_bin', 'card_brand_cleaned_bin', 'card_level_cleaned_bin', 'date_of_birth_installments_plans', \n",
    "                       'phone_installments_plans', \n",
    "                        # addresses details\n",
    "                        'first_name_addresses', 'last_name_addresses', 'line1_addresses', 'line2_addresses', 'final_address_district', \n",
    "                       'formatted_address_district', 'state_emirate_district', 'district_district', 'country_district', 'phone_addresses', \n",
    "                        # cart\n",
    "                        'concatenated_names', 'total_quantity', 'max_quantity_name', 'max_quantity', \n",
    "                        # customers table\n",
    "                        'first_name_customers', 'last_name_customers', 'id_number_customers', 'email_customers', \n",
    "                       'date_of_birth_customers', 'phone_customers', \n",
    "                        # idv\n",
    "                        'full_name_idv', 'identity_number_idv', 'date_of_birth_formatted_idv', 'date_of_expiry_formatted_idv', \n",
    "                       'place_of_issue_idv', 'sex_idv', 'employer_idv', 'occupation_group_idv', 'nationality_code_idv', \n",
    "                        # ekata\n",
    "                        'ip_last_seen_days_ekata', 'primary_email_to_name_ekata', \n",
    "                        'ip_geolocation_country_code_ekata', \n",
    "    # 'primary_phone_valid_ekata', \n",
    "    'primary_address_validity_level_ekata', \n",
    "                       'primary_email_domain_creation_date_ekata', 'ip_risk_ekata', 'ip_risk_score_ekata', 'primary_email_last_seen_days_ekata', 'primary_email_valid_ekata', \n",
    "                       'primary_phone_to_name_ekata', 'ip_primary_address_distance_ekata', 'primary_phone_carrier_ekata', 'identity_network_score_ekata', 'identity_risk_score_ekata', \n",
    "                       'primary_phone_line_type_ekata', 'primary_address_first_seen_days_ekata', 'primary_phone_ip_last_seen_days_ekata', 'ip_connection_type_ekata', \n",
    "                       'primary_address_to_name_ekata', 'primary_email_first_seen_days_ekata', \n",
    "                        # seon\n",
    "                        # 'phone_details_valid_seon', \n",
    "    'phone_details_score_seon', 'phone_details_country_seon', \n",
    "                       'phone_details_carrier_seon', 'phone_details_account_details_whatsapp_registered_seon', 'phone_details_account_details_twitter_registered_seon', \n",
    "                       # 'phone_details_account_details_yahoo_registered_seon', \n",
    "    'phone_details_account_details_facebook_registered_seon', 'phone_details_account_details_telegram_registered_seon', \n",
    "                       'phone_details_account_details_instagram_registered_seon', 'phone_details_account_details_google_registered_seon', \n",
    "                       # 'phone_details_type_seon', \n",
    "    'state_seon', 'ip_details_country_seon', 'ip_details_public_proxy_seon', 'ip_details_city_seon', \n",
    "    # 'ip_details_web_proxy_seon', \n",
    "    'ip_details_spam_number_seon', \n",
    "                       'ip_details_type_seon', 'ip_details_isp_name_seon', 'ip_details_score_seon', 'ip_details_vpn_seon', \n",
    "    # 'ip_details_tor_seon', \n",
    "    'ip_details_state_prov_seon', 'fraud_score_seon', \n",
    "                       'email_details_account_details_github_registered_seon', 'email_details_account_details_facebook_registered_seon', 'email_details_account_details_spotify_registered_seon',\n",
    "                       'email_details_account_details_google_registered_seon', 'email_details_account_details_pinterest_registered_seon', 'email_details_account_details_instagram_registered_seon',\n",
    "                       'email_details_account_details_linkedin_registered_seon', 'email_details_account_details_microsoft_registered_seon', 'email_details_account_details_apple_registered_seon', \n",
    "                       'email_details_account_details_twitter_registered_seon', 'email_details_deliverable_seon', 'email_details_score_seon', 'email_details_domain_details_created_seon', \n",
    "                       'email_details_domain_details_suspicious_tld_seon', 'email_details_domain_details_custom_seon', 'email_details_domain_details_valid_mx_seon', \n",
    "                       'email_details_domain_details_accept_all_seon', 'email_details_domain_details_registrar_name_seon', 'email_details_domain_details_registered_seon', 'email_details_domain_details_registered_to_seon', \n",
    "                       'email_details_domain_details_tld_seon', 'email_details_domain_details_disposable_seon', 'email_details_domain_details_spf_strict_seon', 'email_details_domain_details_website_exists_seon', 'email_details_domain_details_domain_seon',\n",
    "                       'email_details_domain_details_dmarc_enforced_seon', 'email_details_breach_details_first_breach_seon', 'email_details_breach_details_haveibeenpwned_listed_seon', 'email_details_breach_details_number_of_breaches_seon',\n",
    "                        # target\n",
    "                       'fraud_category_fraudcategory']]"
   ],
   "metadata": {
    "collapsed": false,
    "ExecuteTime": {
     "end_time": "2024-11-07T18:01:53.028465Z",
     "start_time": "2024-11-07T18:01:52.685180Z"
    }
   },
   "id": "ec1a78b9732f23a8",
   "outputs": [],
   "execution_count": 45
  },
  {
   "cell_type": "code",
   "source": "# orders_agg_cleaned.describe(include='all')",
   "metadata": {
    "collapsed": false,
    "ExecuteTime": {
     "end_time": "2024-11-07T22:58:12.057163Z",
     "start_time": "2024-11-07T22:58:12.054659Z"
    }
   },
   "id": "5ab62fb64316a800",
   "outputs": [],
   "execution_count": 126
  },
  {
   "cell_type": "code",
   "source": [
    "orders_agg_cleaned[orders_agg_cleaned['total_amount_orders'].isna()==True]"
   ],
   "metadata": {
    "collapsed": false,
    "ExecuteTime": {
     "end_time": "2024-11-07T18:04:12.018449Z",
     "start_time": "2024-11-07T18:04:12.011331Z"
    }
   },
   "id": "62a322bf46fc8290",
   "outputs": [
    {
     "data": {
      "text/plain": [
       "Empty DataFrame\n",
       "Columns: [payment_method_brand_installments_plans, payment_method_expires_installments_plans, card_last_four_digits_installments_plans, card_first_six_digits_installments_plans, is_apple_pay_installments_plans, payment_method_country_installments_plans, payment_method_bank_installments_plans, payment_method_type_installments_plans, customer_email_installments_plans, payment_method_fingerprint_installments_plans, id_number_installments_plans, order_id_orders, total_amount_orders, created_orders, customer_email_orders, customer_date_joined_orders, merchant_name_orders, category_merchantcategory, checkout_type_orders, num_instalments_orders, ip_address_orders, user_agent_orders, device_fingerprint_orders, checkout_verified_orders, checkout_metadata_orders, payment_method_fingerprint_orders, card_last_four_digits_orders, payment_method_expires_orders, card_first_six_digits_orders, is_apple_pay_orders, payment_method_country_orders, payment_method_bank_orders, card_type_cleaned_bin, card_brand_cleaned_bin, card_level_cleaned_bin, date_of_birth_installments_plans, phone_installments_plans, first_name_addresses, last_name_addresses, line1_addresses, line2_addresses, final_address_district, formatted_address_district, state_emirate_district, district_district, country_district, phone_addresses, concatenated_names, total_quantity, max_quantity_name, max_quantity, first_name_customers, last_name_customers, id_number_customers, email_customers, date_of_birth_customers, phone_customers, full_name_idv, identity_number_idv, date_of_birth_formatted_idv, date_of_expiry_formatted_idv, place_of_issue_idv, sex_idv, employer_idv, occupation_group_idv, nationality_code_idv, ip_last_seen_days_ekata, primary_email_to_name_ekata, ip_geolocation_country_code_ekata, primary_address_validity_level_ekata, primary_email_domain_creation_date_ekata, ip_risk_ekata, ip_risk_score_ekata, primary_email_last_seen_days_ekata, primary_email_valid_ekata, primary_phone_to_name_ekata, ip_primary_address_distance_ekata, primary_phone_carrier_ekata, identity_network_score_ekata, identity_risk_score_ekata, primary_phone_line_type_ekata, primary_address_first_seen_days_ekata, primary_phone_ip_last_seen_days_ekata, ip_connection_type_ekata, primary_address_to_name_ekata, primary_email_first_seen_days_ekata, phone_details_score_seon, phone_details_country_seon, phone_details_carrier_seon, phone_details_account_details_whatsapp_registered_seon, phone_details_account_details_twitter_registered_seon, phone_details_account_details_facebook_registered_seon, phone_details_account_details_telegram_registered_seon, phone_details_account_details_instagram_registered_seon, phone_details_account_details_google_registered_seon, state_seon, ip_details_country_seon, ip_details_public_proxy_seon, ip_details_city_seon, ip_details_spam_number_seon, ...]\n",
       "Index: []\n",
       "\n",
       "[0 rows x 136 columns]"
      ],
      "text/html": [
       "<div>\n",
       "<style scoped>\n",
       "    .dataframe tbody tr th:only-of-type {\n",
       "        vertical-align: middle;\n",
       "    }\n",
       "\n",
       "    .dataframe tbody tr th {\n",
       "        vertical-align: top;\n",
       "    }\n",
       "\n",
       "    .dataframe thead th {\n",
       "        text-align: right;\n",
       "    }\n",
       "</style>\n",
       "<table border=\"1\" class=\"dataframe\">\n",
       "  <thead>\n",
       "    <tr style=\"text-align: right;\">\n",
       "      <th></th>\n",
       "      <th>payment_method_brand_installments_plans</th>\n",
       "      <th>payment_method_expires_installments_plans</th>\n",
       "      <th>card_last_four_digits_installments_plans</th>\n",
       "      <th>card_first_six_digits_installments_plans</th>\n",
       "      <th>is_apple_pay_installments_plans</th>\n",
       "      <th>payment_method_country_installments_plans</th>\n",
       "      <th>payment_method_bank_installments_plans</th>\n",
       "      <th>payment_method_type_installments_plans</th>\n",
       "      <th>customer_email_installments_plans</th>\n",
       "      <th>payment_method_fingerprint_installments_plans</th>\n",
       "      <th>...</th>\n",
       "      <th>email_details_domain_details_tld_seon</th>\n",
       "      <th>email_details_domain_details_disposable_seon</th>\n",
       "      <th>email_details_domain_details_spf_strict_seon</th>\n",
       "      <th>email_details_domain_details_website_exists_seon</th>\n",
       "      <th>email_details_domain_details_domain_seon</th>\n",
       "      <th>email_details_domain_details_dmarc_enforced_seon</th>\n",
       "      <th>email_details_breach_details_first_breach_seon</th>\n",
       "      <th>email_details_breach_details_haveibeenpwned_listed_seon</th>\n",
       "      <th>email_details_breach_details_number_of_breaches_seon</th>\n",
       "      <th>fraud_category_fraudcategory</th>\n",
       "    </tr>\n",
       "  </thead>\n",
       "  <tbody>\n",
       "  </tbody>\n",
       "</table>\n",
       "<p>0 rows × 136 columns</p>\n",
       "</div>"
      ]
     },
     "execution_count": 47,
     "metadata": {},
     "output_type": "execute_result"
    }
   ],
   "execution_count": 47
  },
  {
   "cell_type": "code",
   "source": [
    "# orders_agg_cleaned.loc[orders_agg_cleaned['customer_date_joined_orders']=='1754-08-28 22:43:41.128654848', 'customer_date_joined_orders'] = np.nan\n",
    "# orders_agg_cleaned.loc[orders_agg_cleaned['customer_date_joined_orders']=='1900-01-01 09:28:14.790000', 'customer_date_joined_orders'] = np.nan\n",
    "# orders_agg_cleaned.loc[orders_agg_cleaned['date_of_birth_installments_plans']=='1682-09-19 00:00:00', 'date_of_birth_installments_plans'] = np.nan\n",
    "# orders_agg_cleaned.loc[orders_agg_cleaned['date_of_birth_installments_plans']=='1683-06-05 00:00:00', 'date_of_birth_installments_plans'] = np.nan\n",
    "# orders_agg_cleaned.loc[orders_agg_cleaned['date_of_birth_installments_plans']=='1684-05-09 00:00:00', 'date_of_birth_installments_plans'] = np.nan\n"
   ],
   "metadata": {
    "collapsed": false
   },
   "id": "4edb37ee4fbc0995",
   "outputs": [],
   "execution_count": null
  },
  {
   "cell_type": "code",
   "source": [
    "# datetime conversion\n",
    "orders_agg_cleaned['created_orders'] = pd.to_datetime(orders_agg_cleaned['created_orders'], errors='coerce')\n",
    "orders_agg_cleaned['customer_date_joined_orders'] = pd.to_datetime(orders_agg_cleaned['customer_date_joined_orders'], errors='coerce')\n",
    "orders_agg_cleaned['checkout_verified_orders'] = pd.to_datetime(orders_agg_cleaned['checkout_verified_orders'], errors='coerce')\n",
    "orders_agg_cleaned['payment_method_expires_orders'] = pd.to_datetime(orders_agg_cleaned['payment_method_expires_orders'], errors='coerce')\n",
    "orders_agg_cleaned['payment_method_expires_installments_plans'] = pd.to_datetime(orders_agg_cleaned['payment_method_expires_installments_plans'], errors='coerce')\n",
    "orders_agg_cleaned['date_of_birth_installments_plans'] = pd.to_datetime(orders_agg_cleaned['date_of_birth_installments_plans'], errors='coerce')\n",
    "orders_agg_cleaned['date_of_birth_customers'] = pd.to_datetime(orders_agg_cleaned['date_of_birth_customers'], errors='coerce')\n",
    "orders_agg_cleaned['date_of_birth_formatted_idv'] = pd.to_datetime(orders_agg_cleaned['date_of_birth_formatted_idv'], errors='coerce')\n",
    "orders_agg_cleaned['date_of_expiry_formatted_idv'] = pd.to_datetime(orders_agg_cleaned['date_of_expiry_formatted_idv'], errors='coerce')\n",
    "orders_agg_cleaned['primary_email_domain_creation_date_ekata'] = pd.to_datetime(orders_agg_cleaned['primary_email_domain_creation_date_ekata'], errors='coerce')\n",
    "orders_agg_cleaned['email_details_domain_details_created_seon'] = pd.to_datetime(orders_agg_cleaned['email_details_domain_details_created_seon'], errors='coerce')\n",
    "orders_agg_cleaned['email_details_breach_details_first_breach_seon'] = pd.to_datetime(orders_agg_cleaned['email_details_breach_details_first_breach_seon'], errors='coerce')"
   ],
   "metadata": {
    "collapsed": false,
    "ExecuteTime": {
     "end_time": "2024-11-07T18:04:49.368018Z",
     "start_time": "2024-11-07T18:04:48.902772Z"
    }
   },
   "id": "f623f61b87c02ab6",
   "outputs": [
    {
     "name": "stderr",
     "output_type": "stream",
     "text": [
      "/var/folders/3s/rv8h_gcs26l2ll42x85k40j80000gn/T/ipykernel_20911/200276026.py:2: SettingWithCopyWarning: \n",
      "A value is trying to be set on a copy of a slice from a DataFrame.\n",
      "Try using .loc[row_indexer,col_indexer] = value instead\n",
      "\n",
      "See the caveats in the documentation: https://pandas.pydata.org/pandas-docs/stable/user_guide/indexing.html#returning-a-view-versus-a-copy\n",
      "  orders_agg_cleaned['created_orders'] = pd.to_datetime(orders_agg_cleaned['created_orders'], errors='coerce')\n",
      "/var/folders/3s/rv8h_gcs26l2ll42x85k40j80000gn/T/ipykernel_20911/200276026.py:3: SettingWithCopyWarning: \n",
      "A value is trying to be set on a copy of a slice from a DataFrame.\n",
      "Try using .loc[row_indexer,col_indexer] = value instead\n",
      "\n",
      "See the caveats in the documentation: https://pandas.pydata.org/pandas-docs/stable/user_guide/indexing.html#returning-a-view-versus-a-copy\n",
      "  orders_agg_cleaned['customer_date_joined_orders'] = pd.to_datetime(orders_agg_cleaned['customer_date_joined_orders'], errors='coerce')\n",
      "/var/folders/3s/rv8h_gcs26l2ll42x85k40j80000gn/T/ipykernel_20911/200276026.py:4: SettingWithCopyWarning: \n",
      "A value is trying to be set on a copy of a slice from a DataFrame.\n",
      "Try using .loc[row_indexer,col_indexer] = value instead\n",
      "\n",
      "See the caveats in the documentation: https://pandas.pydata.org/pandas-docs/stable/user_guide/indexing.html#returning-a-view-versus-a-copy\n",
      "  orders_agg_cleaned['checkout_verified_orders'] = pd.to_datetime(orders_agg_cleaned['checkout_verified_orders'], errors='coerce')\n",
      "/var/folders/3s/rv8h_gcs26l2ll42x85k40j80000gn/T/ipykernel_20911/200276026.py:5: SettingWithCopyWarning: \n",
      "A value is trying to be set on a copy of a slice from a DataFrame.\n",
      "Try using .loc[row_indexer,col_indexer] = value instead\n",
      "\n",
      "See the caveats in the documentation: https://pandas.pydata.org/pandas-docs/stable/user_guide/indexing.html#returning-a-view-versus-a-copy\n",
      "  orders_agg_cleaned['payment_method_expires_orders'] = pd.to_datetime(orders_agg_cleaned['payment_method_expires_orders'], errors='coerce')\n",
      "/var/folders/3s/rv8h_gcs26l2ll42x85k40j80000gn/T/ipykernel_20911/200276026.py:6: SettingWithCopyWarning: \n",
      "A value is trying to be set on a copy of a slice from a DataFrame.\n",
      "Try using .loc[row_indexer,col_indexer] = value instead\n",
      "\n",
      "See the caveats in the documentation: https://pandas.pydata.org/pandas-docs/stable/user_guide/indexing.html#returning-a-view-versus-a-copy\n",
      "  orders_agg_cleaned['payment_method_expires_installments_plans'] = pd.to_datetime(orders_agg_cleaned['payment_method_expires_installments_plans'], errors='coerce')\n",
      "/var/folders/3s/rv8h_gcs26l2ll42x85k40j80000gn/T/ipykernel_20911/200276026.py:7: SettingWithCopyWarning: \n",
      "A value is trying to be set on a copy of a slice from a DataFrame.\n",
      "Try using .loc[row_indexer,col_indexer] = value instead\n",
      "\n",
      "See the caveats in the documentation: https://pandas.pydata.org/pandas-docs/stable/user_guide/indexing.html#returning-a-view-versus-a-copy\n",
      "  orders_agg_cleaned['date_of_birth_installments_plans'] = pd.to_datetime(orders_agg_cleaned['date_of_birth_installments_plans'], errors='coerce')\n",
      "/var/folders/3s/rv8h_gcs26l2ll42x85k40j80000gn/T/ipykernel_20911/200276026.py:8: SettingWithCopyWarning: \n",
      "A value is trying to be set on a copy of a slice from a DataFrame.\n",
      "Try using .loc[row_indexer,col_indexer] = value instead\n",
      "\n",
      "See the caveats in the documentation: https://pandas.pydata.org/pandas-docs/stable/user_guide/indexing.html#returning-a-view-versus-a-copy\n",
      "  orders_agg_cleaned['date_of_birth_customers'] = pd.to_datetime(orders_agg_cleaned['date_of_birth_customers'], errors='coerce')\n",
      "/var/folders/3s/rv8h_gcs26l2ll42x85k40j80000gn/T/ipykernel_20911/200276026.py:9: SettingWithCopyWarning: \n",
      "A value is trying to be set on a copy of a slice from a DataFrame.\n",
      "Try using .loc[row_indexer,col_indexer] = value instead\n",
      "\n",
      "See the caveats in the documentation: https://pandas.pydata.org/pandas-docs/stable/user_guide/indexing.html#returning-a-view-versus-a-copy\n",
      "  orders_agg_cleaned['date_of_birth_formatted_idv'] = pd.to_datetime(orders_agg_cleaned['date_of_birth_formatted_idv'], errors='coerce')\n",
      "/var/folders/3s/rv8h_gcs26l2ll42x85k40j80000gn/T/ipykernel_20911/200276026.py:10: SettingWithCopyWarning: \n",
      "A value is trying to be set on a copy of a slice from a DataFrame.\n",
      "Try using .loc[row_indexer,col_indexer] = value instead\n",
      "\n",
      "See the caveats in the documentation: https://pandas.pydata.org/pandas-docs/stable/user_guide/indexing.html#returning-a-view-versus-a-copy\n",
      "  orders_agg_cleaned['date_of_expiry_formatted_idv'] = pd.to_datetime(orders_agg_cleaned['date_of_expiry_formatted_idv'], errors='coerce')\n",
      "/var/folders/3s/rv8h_gcs26l2ll42x85k40j80000gn/T/ipykernel_20911/200276026.py:11: SettingWithCopyWarning: \n",
      "A value is trying to be set on a copy of a slice from a DataFrame.\n",
      "Try using .loc[row_indexer,col_indexer] = value instead\n",
      "\n",
      "See the caveats in the documentation: https://pandas.pydata.org/pandas-docs/stable/user_guide/indexing.html#returning-a-view-versus-a-copy\n",
      "  orders_agg_cleaned['primary_email_domain_creation_date_ekata'] = pd.to_datetime(orders_agg_cleaned['primary_email_domain_creation_date_ekata'], errors='coerce')\n",
      "/var/folders/3s/rv8h_gcs26l2ll42x85k40j80000gn/T/ipykernel_20911/200276026.py:12: SettingWithCopyWarning: \n",
      "A value is trying to be set on a copy of a slice from a DataFrame.\n",
      "Try using .loc[row_indexer,col_indexer] = value instead\n",
      "\n",
      "See the caveats in the documentation: https://pandas.pydata.org/pandas-docs/stable/user_guide/indexing.html#returning-a-view-versus-a-copy\n",
      "  orders_agg_cleaned['email_details_domain_details_created_seon'] = pd.to_datetime(orders_agg_cleaned['email_details_domain_details_created_seon'], errors='coerce')\n",
      "/var/folders/3s/rv8h_gcs26l2ll42x85k40j80000gn/T/ipykernel_20911/200276026.py:13: SettingWithCopyWarning: \n",
      "A value is trying to be set on a copy of a slice from a DataFrame.\n",
      "Try using .loc[row_indexer,col_indexer] = value instead\n",
      "\n",
      "See the caveats in the documentation: https://pandas.pydata.org/pandas-docs/stable/user_guide/indexing.html#returning-a-view-versus-a-copy\n",
      "  orders_agg_cleaned['email_details_breach_details_first_breach_seon'] = pd.to_datetime(orders_agg_cleaned['email_details_breach_details_first_breach_seon'], errors='coerce')\n"
     ]
    }
   ],
   "execution_count": 48
  },
  {
   "cell_type": "code",
   "source": [
    "# convert to unix timestamp\n",
    "import time\n",
    "\n",
    "orders_agg_cleaned['TransactionDT'] = orders_agg_cleaned['created_orders'].apply(lambda x: x.timestamp() if not pd.isnull(x) else np.nan)\n",
    "orders_agg_cleaned['customer_date_joined'] = orders_agg_cleaned['customer_date_joined_orders'].apply(lambda x: x.timestamp() if not pd.isnull(x) else np.nan)\n",
    "orders_agg_cleaned['checkout_verified'] = orders_agg_cleaned['checkout_verified_orders'].apply(lambda x: x.timestamp() if not pd.isnull(x) else np.nan)\n",
    "orders_agg_cleaned['payment_method_expires_orders'] = orders_agg_cleaned['payment_method_expires_orders'].apply(lambda x: x.timestamp() if not pd.isnull(x) else np.nan)\n",
    "orders_agg_cleaned['payment_method_expires_installments_plans'] = orders_agg_cleaned['payment_method_expires_installments_plans'].apply(lambda x: x.timestamp() if not pd.isnull(x) else np.nan)\n",
    "\n",
    "orders_agg_cleaned['date_of_birth_installments_plans'] = orders_agg_cleaned['date_of_birth_installments_plans'].apply(lambda x: x.timestamp() if not pd.isnull(x) else np.nan)\n",
    "orders_agg_cleaned['date_of_birth_customers'] = orders_agg_cleaned['date_of_birth_customers'].apply(lambda x: x.timestamp() if not pd.isnull(x) else np.nan)\n",
    "orders_agg_cleaned['date_of_birth_formatted_idv'] = orders_agg_cleaned['date_of_birth_formatted_idv'].apply(lambda x: x.timestamp() if not pd.isnull(x) else np.nan)\n",
    "orders_agg_cleaned['date_of_expiry_formatted_idv'] = orders_agg_cleaned['date_of_expiry_formatted_idv'].apply(lambda x: x.timestamp() if not pd.isnull(x) else np.nan)\n",
    "orders_agg_cleaned['primary_email_domain_creation_date_ekata'] = orders_agg_cleaned['primary_email_domain_creation_date_ekata'].apply(lambda x: x.timestamp() if not pd.isnull(x) else np.nan)\n",
    "orders_agg_cleaned['email_details_domain_details_created_seon'] = orders_agg_cleaned['email_details_domain_details_created_seon'].apply(lambda x: x.timestamp() if not pd.isnull(x) else np.nan)\n",
    "orders_agg_cleaned['email_details_breach_details_first_breach_seon'] = orders_agg_cleaned['email_details_breach_details_first_breach_seon'].apply(lambda x: x.timestamp() if not pd.isnull(x) else np.nan)"
   ],
   "metadata": {
    "collapsed": false,
    "ExecuteTime": {
     "end_time": "2024-11-07T18:05:15.916709Z",
     "start_time": "2024-11-07T18:05:12.701328Z"
    }
   },
   "id": "ba760afbd4447892",
   "outputs": [
    {
     "name": "stderr",
     "output_type": "stream",
     "text": [
      "/var/folders/3s/rv8h_gcs26l2ll42x85k40j80000gn/T/ipykernel_20911/600377930.py:4: SettingWithCopyWarning: \n",
      "A value is trying to be set on a copy of a slice from a DataFrame.\n",
      "Try using .loc[row_indexer,col_indexer] = value instead\n",
      "\n",
      "See the caveats in the documentation: https://pandas.pydata.org/pandas-docs/stable/user_guide/indexing.html#returning-a-view-versus-a-copy\n",
      "  orders_agg_cleaned['TransactionDT'] = orders_agg_cleaned['created_orders'].apply(lambda x: x.timestamp() if not pd.isnull(x) else np.nan)\n",
      "/var/folders/3s/rv8h_gcs26l2ll42x85k40j80000gn/T/ipykernel_20911/600377930.py:5: SettingWithCopyWarning: \n",
      "A value is trying to be set on a copy of a slice from a DataFrame.\n",
      "Try using .loc[row_indexer,col_indexer] = value instead\n",
      "\n",
      "See the caveats in the documentation: https://pandas.pydata.org/pandas-docs/stable/user_guide/indexing.html#returning-a-view-versus-a-copy\n",
      "  orders_agg_cleaned['customer_date_joined'] = orders_agg_cleaned['customer_date_joined_orders'].apply(lambda x: x.timestamp() if not pd.isnull(x) else np.nan)\n",
      "/var/folders/3s/rv8h_gcs26l2ll42x85k40j80000gn/T/ipykernel_20911/600377930.py:6: SettingWithCopyWarning: \n",
      "A value is trying to be set on a copy of a slice from a DataFrame.\n",
      "Try using .loc[row_indexer,col_indexer] = value instead\n",
      "\n",
      "See the caveats in the documentation: https://pandas.pydata.org/pandas-docs/stable/user_guide/indexing.html#returning-a-view-versus-a-copy\n",
      "  orders_agg_cleaned['checkout_verified'] = orders_agg_cleaned['checkout_verified_orders'].apply(lambda x: x.timestamp() if not pd.isnull(x) else np.nan)\n",
      "/var/folders/3s/rv8h_gcs26l2ll42x85k40j80000gn/T/ipykernel_20911/600377930.py:7: SettingWithCopyWarning: \n",
      "A value is trying to be set on a copy of a slice from a DataFrame.\n",
      "Try using .loc[row_indexer,col_indexer] = value instead\n",
      "\n",
      "See the caveats in the documentation: https://pandas.pydata.org/pandas-docs/stable/user_guide/indexing.html#returning-a-view-versus-a-copy\n",
      "  orders_agg_cleaned['payment_method_expires_orders'] = orders_agg_cleaned['payment_method_expires_orders'].apply(lambda x: x.timestamp() if not pd.isnull(x) else np.nan)\n",
      "/var/folders/3s/rv8h_gcs26l2ll42x85k40j80000gn/T/ipykernel_20911/600377930.py:8: SettingWithCopyWarning: \n",
      "A value is trying to be set on a copy of a slice from a DataFrame.\n",
      "Try using .loc[row_indexer,col_indexer] = value instead\n",
      "\n",
      "See the caveats in the documentation: https://pandas.pydata.org/pandas-docs/stable/user_guide/indexing.html#returning-a-view-versus-a-copy\n",
      "  orders_agg_cleaned['payment_method_expires_installments_plans'] = orders_agg_cleaned['payment_method_expires_installments_plans'].apply(lambda x: x.timestamp() if not pd.isnull(x) else np.nan)\n",
      "/var/folders/3s/rv8h_gcs26l2ll42x85k40j80000gn/T/ipykernel_20911/600377930.py:10: SettingWithCopyWarning: \n",
      "A value is trying to be set on a copy of a slice from a DataFrame.\n",
      "Try using .loc[row_indexer,col_indexer] = value instead\n",
      "\n",
      "See the caveats in the documentation: https://pandas.pydata.org/pandas-docs/stable/user_guide/indexing.html#returning-a-view-versus-a-copy\n",
      "  orders_agg_cleaned['date_of_birth_installments_plans'] = orders_agg_cleaned['date_of_birth_installments_plans'].apply(lambda x: x.timestamp() if not pd.isnull(x) else np.nan)\n",
      "/var/folders/3s/rv8h_gcs26l2ll42x85k40j80000gn/T/ipykernel_20911/600377930.py:11: SettingWithCopyWarning: \n",
      "A value is trying to be set on a copy of a slice from a DataFrame.\n",
      "Try using .loc[row_indexer,col_indexer] = value instead\n",
      "\n",
      "See the caveats in the documentation: https://pandas.pydata.org/pandas-docs/stable/user_guide/indexing.html#returning-a-view-versus-a-copy\n",
      "  orders_agg_cleaned['date_of_birth_customers'] = orders_agg_cleaned['date_of_birth_customers'].apply(lambda x: x.timestamp() if not pd.isnull(x) else np.nan)\n",
      "/var/folders/3s/rv8h_gcs26l2ll42x85k40j80000gn/T/ipykernel_20911/600377930.py:12: SettingWithCopyWarning: \n",
      "A value is trying to be set on a copy of a slice from a DataFrame.\n",
      "Try using .loc[row_indexer,col_indexer] = value instead\n",
      "\n",
      "See the caveats in the documentation: https://pandas.pydata.org/pandas-docs/stable/user_guide/indexing.html#returning-a-view-versus-a-copy\n",
      "  orders_agg_cleaned['date_of_birth_formatted_idv'] = orders_agg_cleaned['date_of_birth_formatted_idv'].apply(lambda x: x.timestamp() if not pd.isnull(x) else np.nan)\n",
      "/var/folders/3s/rv8h_gcs26l2ll42x85k40j80000gn/T/ipykernel_20911/600377930.py:13: SettingWithCopyWarning: \n",
      "A value is trying to be set on a copy of a slice from a DataFrame.\n",
      "Try using .loc[row_indexer,col_indexer] = value instead\n",
      "\n",
      "See the caveats in the documentation: https://pandas.pydata.org/pandas-docs/stable/user_guide/indexing.html#returning-a-view-versus-a-copy\n",
      "  orders_agg_cleaned['date_of_expiry_formatted_idv'] = orders_agg_cleaned['date_of_expiry_formatted_idv'].apply(lambda x: x.timestamp() if not pd.isnull(x) else np.nan)\n",
      "/var/folders/3s/rv8h_gcs26l2ll42x85k40j80000gn/T/ipykernel_20911/600377930.py:14: SettingWithCopyWarning: \n",
      "A value is trying to be set on a copy of a slice from a DataFrame.\n",
      "Try using .loc[row_indexer,col_indexer] = value instead\n",
      "\n",
      "See the caveats in the documentation: https://pandas.pydata.org/pandas-docs/stable/user_guide/indexing.html#returning-a-view-versus-a-copy\n",
      "  orders_agg_cleaned['primary_email_domain_creation_date_ekata'] = orders_agg_cleaned['primary_email_domain_creation_date_ekata'].apply(lambda x: x.timestamp() if not pd.isnull(x) else np.nan)\n",
      "/var/folders/3s/rv8h_gcs26l2ll42x85k40j80000gn/T/ipykernel_20911/600377930.py:15: SettingWithCopyWarning: \n",
      "A value is trying to be set on a copy of a slice from a DataFrame.\n",
      "Try using .loc[row_indexer,col_indexer] = value instead\n",
      "\n",
      "See the caveats in the documentation: https://pandas.pydata.org/pandas-docs/stable/user_guide/indexing.html#returning-a-view-versus-a-copy\n",
      "  orders_agg_cleaned['email_details_domain_details_created_seon'] = orders_agg_cleaned['email_details_domain_details_created_seon'].apply(lambda x: x.timestamp() if not pd.isnull(x) else np.nan)\n",
      "/var/folders/3s/rv8h_gcs26l2ll42x85k40j80000gn/T/ipykernel_20911/600377930.py:16: SettingWithCopyWarning: \n",
      "A value is trying to be set on a copy of a slice from a DataFrame.\n",
      "Try using .loc[row_indexer,col_indexer] = value instead\n",
      "\n",
      "See the caveats in the documentation: https://pandas.pydata.org/pandas-docs/stable/user_guide/indexing.html#returning-a-view-versus-a-copy\n",
      "  orders_agg_cleaned['email_details_breach_details_first_breach_seon'] = orders_agg_cleaned['email_details_breach_details_first_breach_seon'].apply(lambda x: x.timestamp() if not pd.isnull(x) else np.nan)\n"
     ]
    }
   ],
   "execution_count": 49
  },
  {
   "cell_type": "code",
   "source": [
    "# fill missing date values\n",
    "orders_agg_cleaned['customer_date_joined'].fillna(orders_agg_cleaned['customer_date_joined'].median(), inplace=True)\n",
    "orders_agg_cleaned['checkout_verified'].fillna(orders_agg_cleaned['checkout_verified'].median(), inplace=True)\n",
    "\n",
    "orders_agg_cleaned['payment_method_expires'] = orders_agg_cleaned['payment_method_expires_orders'].fillna(orders_agg_cleaned['payment_method_expires_installments_plans'])\n",
    "orders_agg_cleaned['payment_method_expires'].fillna(orders_agg_cleaned['payment_method_expires'].median(), inplace=True)\n",
    "\n",
    "orders_agg_cleaned['date_of_birth_cleaned'] = orders_agg_cleaned['date_of_birth_formatted_idv'].fillna(orders_agg_cleaned['date_of_birth_installments_plans']).fillna(orders_agg_cleaned['date_of_birth_customers'])\n",
    "orders_agg_cleaned['date_of_birth_cleaned'].fillna(orders_agg_cleaned['date_of_birth_cleaned'].median(), inplace=True)\n",
    "\n",
    "orders_agg_cleaned['date_of_expiry_formatted_idv'].fillna(orders_agg_cleaned['date_of_expiry_formatted_idv'].median(), inplace=True)\n",
    "orders_agg_cleaned['primary_email_domain_creation_date_ekata'].fillna(orders_agg_cleaned['primary_email_domain_creation_date_ekata'].median(), inplace=True)\n",
    "orders_agg_cleaned['email_details_domain_details_created_seon'].fillna(orders_agg_cleaned['email_details_domain_details_created_seon'].median(), inplace=True)\n",
    "orders_agg_cleaned['email_details_breach_details_first_breach_seon'].fillna(orders_agg_cleaned['email_details_breach_details_first_breach_seon'].median(), inplace=True)\n",
    "\n",
    "orders_agg_cleaned['card_brand_cleaned_bin'] = orders_agg_cleaned['card_brand_cleaned_bin'].fillna(orders_agg_cleaned['payment_method_brand_installments_plans'])\n",
    "orders_agg_cleaned['card_last_four_digits_orders'] = orders_agg_cleaned['card_last_four_digits_orders'].fillna(orders_agg_cleaned['card_last_four_digits_installments_plans'])\n",
    "orders_agg_cleaned['card_first_six_digits_orders'] = orders_agg_cleaned['card_first_six_digits_orders'].fillna(orders_agg_cleaned['card_first_six_digits_installments_plans'])\n",
    "orders_agg_cleaned['payment_method_country_orders'] = orders_agg_cleaned['payment_method_country_orders'].fillna(orders_agg_cleaned['payment_method_country_installments_plans'])\n",
    "orders_agg_cleaned['payment_method_bank_orders'] = orders_agg_cleaned['payment_method_bank_orders'].fillna(orders_agg_cleaned['payment_method_bank_installments_plans'])\n",
    "orders_agg_cleaned['card_type_cleaned_bin'] = orders_agg_cleaned['card_type_cleaned_bin'].fillna(orders_agg_cleaned['payment_method_type_installments_plans'])\n",
    "orders_agg_cleaned['is_apple_pay_orders'] = orders_agg_cleaned['is_apple_pay_orders'].fillna(orders_agg_cleaned['is_apple_pay_installments_plans'])\n",
    "# orders_agg_cleaned['secure_orders'] = orders_agg_cleaned['secure_orders'].fillna(orders_agg_cleaned['secure_installments_plans'])\n",
    "orders_agg_cleaned['payment_method_fingerprint_orders'] = orders_agg_cleaned['payment_method_fingerprint_orders'].fillna(orders_agg_cleaned['payment_method_fingerprint_installments_plans'])\n",
    "\n",
    "orders_agg_cleaned['customer_email_orders'] = orders_agg_cleaned['customer_email_orders'].fillna(orders_agg_cleaned['customer_email_installments_plans']).fillna(orders_agg_cleaned['email_customers'])\n",
    "orders_agg_cleaned['phone_installments_plans'] = orders_agg_cleaned['phone_installments_plans'].fillna(orders_agg_cleaned['phone_customers'])\n",
    "\n",
    "orders_agg_cleaned['full_name_customers'] = (orders_agg_cleaned['first_name_customers'].fillna('') + ' ' + orders_agg_cleaned['last_name_customers'].fillna(''))\n",
    "orders_agg_cleaned['full_name_addresses'] = (orders_agg_cleaned['first_name_addresses'].fillna('') + ' ' + orders_agg_cleaned['last_name_addresses'].fillna(''))\n",
    "\n",
    "orders_agg_cleaned['full_address_addresses'] = (orders_agg_cleaned['line1_addresses'].fillna('') + ' ' +\n",
    "                                                orders_agg_cleaned['line2_addresses'].fillna(''))\n",
    "orders_agg_cleaned['final_address_district'] = orders_agg_cleaned['final_address_district'].fillna(orders_agg_cleaned['full_address_addresses'])\n",
    "\n",
    "orders_agg_cleaned['id_number_installments_plans'] = orders_agg_cleaned['id_number_installments_plans'].fillna(orders_agg_cleaned['id_number_customers'])\n",
    "\n",
    "\n"
   ],
   "metadata": {
    "collapsed": false,
    "ExecuteTime": {
     "end_time": "2024-11-07T18:05:54.216194Z",
     "start_time": "2024-11-07T18:05:53.210801Z"
    }
   },
   "id": "643f8a1b73756456",
   "outputs": [
    {
     "name": "stderr",
     "output_type": "stream",
     "text": [
      "/var/folders/3s/rv8h_gcs26l2ll42x85k40j80000gn/T/ipykernel_20911/3372636735.py:2: FutureWarning: A value is trying to be set on a copy of a DataFrame or Series through chained assignment using an inplace method.\n",
      "The behavior will change in pandas 3.0. This inplace method will never work because the intermediate object on which we are setting values always behaves as a copy.\n",
      "\n",
      "For example, when doing 'df[col].method(value, inplace=True)', try using 'df.method({col: value}, inplace=True)' or df[col] = df[col].method(value) instead, to perform the operation inplace on the original object.\n",
      "\n",
      "\n",
      "  orders_agg_cleaned['customer_date_joined'].fillna(orders_agg_cleaned['customer_date_joined'].median(), inplace=True)\n",
      "/var/folders/3s/rv8h_gcs26l2ll42x85k40j80000gn/T/ipykernel_20911/3372636735.py:2: SettingWithCopyWarning: \n",
      "A value is trying to be set on a copy of a slice from a DataFrame\n",
      "\n",
      "See the caveats in the documentation: https://pandas.pydata.org/pandas-docs/stable/user_guide/indexing.html#returning-a-view-versus-a-copy\n",
      "  orders_agg_cleaned['customer_date_joined'].fillna(orders_agg_cleaned['customer_date_joined'].median(), inplace=True)\n",
      "/var/folders/3s/rv8h_gcs26l2ll42x85k40j80000gn/T/ipykernel_20911/3372636735.py:3: FutureWarning: A value is trying to be set on a copy of a DataFrame or Series through chained assignment using an inplace method.\n",
      "The behavior will change in pandas 3.0. This inplace method will never work because the intermediate object on which we are setting values always behaves as a copy.\n",
      "\n",
      "For example, when doing 'df[col].method(value, inplace=True)', try using 'df.method({col: value}, inplace=True)' or df[col] = df[col].method(value) instead, to perform the operation inplace on the original object.\n",
      "\n",
      "\n",
      "  orders_agg_cleaned['checkout_verified'].fillna(orders_agg_cleaned['checkout_verified'].median(), inplace=True)\n",
      "/var/folders/3s/rv8h_gcs26l2ll42x85k40j80000gn/T/ipykernel_20911/3372636735.py:3: SettingWithCopyWarning: \n",
      "A value is trying to be set on a copy of a slice from a DataFrame\n",
      "\n",
      "See the caveats in the documentation: https://pandas.pydata.org/pandas-docs/stable/user_guide/indexing.html#returning-a-view-versus-a-copy\n",
      "  orders_agg_cleaned['checkout_verified'].fillna(orders_agg_cleaned['checkout_verified'].median(), inplace=True)\n",
      "/var/folders/3s/rv8h_gcs26l2ll42x85k40j80000gn/T/ipykernel_20911/3372636735.py:5: SettingWithCopyWarning: \n",
      "A value is trying to be set on a copy of a slice from a DataFrame.\n",
      "Try using .loc[row_indexer,col_indexer] = value instead\n",
      "\n",
      "See the caveats in the documentation: https://pandas.pydata.org/pandas-docs/stable/user_guide/indexing.html#returning-a-view-versus-a-copy\n",
      "  orders_agg_cleaned['payment_method_expires'] = orders_agg_cleaned['payment_method_expires_orders'].fillna(orders_agg_cleaned['payment_method_expires_installments_plans'])\n",
      "/var/folders/3s/rv8h_gcs26l2ll42x85k40j80000gn/T/ipykernel_20911/3372636735.py:6: FutureWarning: A value is trying to be set on a copy of a DataFrame or Series through chained assignment using an inplace method.\n",
      "The behavior will change in pandas 3.0. This inplace method will never work because the intermediate object on which we are setting values always behaves as a copy.\n",
      "\n",
      "For example, when doing 'df[col].method(value, inplace=True)', try using 'df.method({col: value}, inplace=True)' or df[col] = df[col].method(value) instead, to perform the operation inplace on the original object.\n",
      "\n",
      "\n",
      "  orders_agg_cleaned['payment_method_expires'].fillna(orders_agg_cleaned['payment_method_expires'].median(), inplace=True)\n",
      "/var/folders/3s/rv8h_gcs26l2ll42x85k40j80000gn/T/ipykernel_20911/3372636735.py:6: SettingWithCopyWarning: \n",
      "A value is trying to be set on a copy of a slice from a DataFrame\n",
      "\n",
      "See the caveats in the documentation: https://pandas.pydata.org/pandas-docs/stable/user_guide/indexing.html#returning-a-view-versus-a-copy\n",
      "  orders_agg_cleaned['payment_method_expires'].fillna(orders_agg_cleaned['payment_method_expires'].median(), inplace=True)\n",
      "/var/folders/3s/rv8h_gcs26l2ll42x85k40j80000gn/T/ipykernel_20911/3372636735.py:8: SettingWithCopyWarning: \n",
      "A value is trying to be set on a copy of a slice from a DataFrame.\n",
      "Try using .loc[row_indexer,col_indexer] = value instead\n",
      "\n",
      "See the caveats in the documentation: https://pandas.pydata.org/pandas-docs/stable/user_guide/indexing.html#returning-a-view-versus-a-copy\n",
      "  orders_agg_cleaned['date_of_birth_cleaned'] = orders_agg_cleaned['date_of_birth_formatted_idv'].fillna(orders_agg_cleaned['date_of_birth_installments_plans']).fillna(orders_agg_cleaned['date_of_birth_customers'])\n",
      "/var/folders/3s/rv8h_gcs26l2ll42x85k40j80000gn/T/ipykernel_20911/3372636735.py:9: FutureWarning: A value is trying to be set on a copy of a DataFrame or Series through chained assignment using an inplace method.\n",
      "The behavior will change in pandas 3.0. This inplace method will never work because the intermediate object on which we are setting values always behaves as a copy.\n",
      "\n",
      "For example, when doing 'df[col].method(value, inplace=True)', try using 'df.method({col: value}, inplace=True)' or df[col] = df[col].method(value) instead, to perform the operation inplace on the original object.\n",
      "\n",
      "\n",
      "  orders_agg_cleaned['date_of_birth_cleaned'].fillna(orders_agg_cleaned['date_of_birth_cleaned'].median(), inplace=True)\n",
      "/var/folders/3s/rv8h_gcs26l2ll42x85k40j80000gn/T/ipykernel_20911/3372636735.py:9: SettingWithCopyWarning: \n",
      "A value is trying to be set on a copy of a slice from a DataFrame\n",
      "\n",
      "See the caveats in the documentation: https://pandas.pydata.org/pandas-docs/stable/user_guide/indexing.html#returning-a-view-versus-a-copy\n",
      "  orders_agg_cleaned['date_of_birth_cleaned'].fillna(orders_agg_cleaned['date_of_birth_cleaned'].median(), inplace=True)\n",
      "/var/folders/3s/rv8h_gcs26l2ll42x85k40j80000gn/T/ipykernel_20911/3372636735.py:11: FutureWarning: A value is trying to be set on a copy of a DataFrame or Series through chained assignment using an inplace method.\n",
      "The behavior will change in pandas 3.0. This inplace method will never work because the intermediate object on which we are setting values always behaves as a copy.\n",
      "\n",
      "For example, when doing 'df[col].method(value, inplace=True)', try using 'df.method({col: value}, inplace=True)' or df[col] = df[col].method(value) instead, to perform the operation inplace on the original object.\n",
      "\n",
      "\n",
      "  orders_agg_cleaned['date_of_expiry_formatted_idv'].fillna(orders_agg_cleaned['date_of_expiry_formatted_idv'].median(), inplace=True)\n",
      "/var/folders/3s/rv8h_gcs26l2ll42x85k40j80000gn/T/ipykernel_20911/3372636735.py:11: SettingWithCopyWarning: \n",
      "A value is trying to be set on a copy of a slice from a DataFrame\n",
      "\n",
      "See the caveats in the documentation: https://pandas.pydata.org/pandas-docs/stable/user_guide/indexing.html#returning-a-view-versus-a-copy\n",
      "  orders_agg_cleaned['date_of_expiry_formatted_idv'].fillna(orders_agg_cleaned['date_of_expiry_formatted_idv'].median(), inplace=True)\n",
      "/var/folders/3s/rv8h_gcs26l2ll42x85k40j80000gn/T/ipykernel_20911/3372636735.py:12: FutureWarning: A value is trying to be set on a copy of a DataFrame or Series through chained assignment using an inplace method.\n",
      "The behavior will change in pandas 3.0. This inplace method will never work because the intermediate object on which we are setting values always behaves as a copy.\n",
      "\n",
      "For example, when doing 'df[col].method(value, inplace=True)', try using 'df.method({col: value}, inplace=True)' or df[col] = df[col].method(value) instead, to perform the operation inplace on the original object.\n",
      "\n",
      "\n",
      "  orders_agg_cleaned['primary_email_domain_creation_date_ekata'].fillna(orders_agg_cleaned['primary_email_domain_creation_date_ekata'].median(), inplace=True)\n",
      "/var/folders/3s/rv8h_gcs26l2ll42x85k40j80000gn/T/ipykernel_20911/3372636735.py:12: SettingWithCopyWarning: \n",
      "A value is trying to be set on a copy of a slice from a DataFrame\n",
      "\n",
      "See the caveats in the documentation: https://pandas.pydata.org/pandas-docs/stable/user_guide/indexing.html#returning-a-view-versus-a-copy\n",
      "  orders_agg_cleaned['primary_email_domain_creation_date_ekata'].fillna(orders_agg_cleaned['primary_email_domain_creation_date_ekata'].median(), inplace=True)\n",
      "/var/folders/3s/rv8h_gcs26l2ll42x85k40j80000gn/T/ipykernel_20911/3372636735.py:13: FutureWarning: A value is trying to be set on a copy of a DataFrame or Series through chained assignment using an inplace method.\n",
      "The behavior will change in pandas 3.0. This inplace method will never work because the intermediate object on which we are setting values always behaves as a copy.\n",
      "\n",
      "For example, when doing 'df[col].method(value, inplace=True)', try using 'df.method({col: value}, inplace=True)' or df[col] = df[col].method(value) instead, to perform the operation inplace on the original object.\n",
      "\n",
      "\n",
      "  orders_agg_cleaned['email_details_domain_details_created_seon'].fillna(orders_agg_cleaned['email_details_domain_details_created_seon'].median(), inplace=True)\n",
      "/var/folders/3s/rv8h_gcs26l2ll42x85k40j80000gn/T/ipykernel_20911/3372636735.py:13: SettingWithCopyWarning: \n",
      "A value is trying to be set on a copy of a slice from a DataFrame\n",
      "\n",
      "See the caveats in the documentation: https://pandas.pydata.org/pandas-docs/stable/user_guide/indexing.html#returning-a-view-versus-a-copy\n",
      "  orders_agg_cleaned['email_details_domain_details_created_seon'].fillna(orders_agg_cleaned['email_details_domain_details_created_seon'].median(), inplace=True)\n",
      "/var/folders/3s/rv8h_gcs26l2ll42x85k40j80000gn/T/ipykernel_20911/3372636735.py:14: FutureWarning: A value is trying to be set on a copy of a DataFrame or Series through chained assignment using an inplace method.\n",
      "The behavior will change in pandas 3.0. This inplace method will never work because the intermediate object on which we are setting values always behaves as a copy.\n",
      "\n",
      "For example, when doing 'df[col].method(value, inplace=True)', try using 'df.method({col: value}, inplace=True)' or df[col] = df[col].method(value) instead, to perform the operation inplace on the original object.\n",
      "\n",
      "\n",
      "  orders_agg_cleaned['email_details_breach_details_first_breach_seon'].fillna(orders_agg_cleaned['email_details_breach_details_first_breach_seon'].median(), inplace=True)\n",
      "/var/folders/3s/rv8h_gcs26l2ll42x85k40j80000gn/T/ipykernel_20911/3372636735.py:14: SettingWithCopyWarning: \n",
      "A value is trying to be set on a copy of a slice from a DataFrame\n",
      "\n",
      "See the caveats in the documentation: https://pandas.pydata.org/pandas-docs/stable/user_guide/indexing.html#returning-a-view-versus-a-copy\n",
      "  orders_agg_cleaned['email_details_breach_details_first_breach_seon'].fillna(orders_agg_cleaned['email_details_breach_details_first_breach_seon'].median(), inplace=True)\n",
      "/var/folders/3s/rv8h_gcs26l2ll42x85k40j80000gn/T/ipykernel_20911/3372636735.py:16: SettingWithCopyWarning: \n",
      "A value is trying to be set on a copy of a slice from a DataFrame.\n",
      "Try using .loc[row_indexer,col_indexer] = value instead\n",
      "\n",
      "See the caveats in the documentation: https://pandas.pydata.org/pandas-docs/stable/user_guide/indexing.html#returning-a-view-versus-a-copy\n",
      "  orders_agg_cleaned['card_brand_cleaned_bin'] = orders_agg_cleaned['card_brand_cleaned_bin'].fillna(orders_agg_cleaned['payment_method_brand_installments_plans'])\n",
      "/var/folders/3s/rv8h_gcs26l2ll42x85k40j80000gn/T/ipykernel_20911/3372636735.py:17: SettingWithCopyWarning: \n",
      "A value is trying to be set on a copy of a slice from a DataFrame.\n",
      "Try using .loc[row_indexer,col_indexer] = value instead\n",
      "\n",
      "See the caveats in the documentation: https://pandas.pydata.org/pandas-docs/stable/user_guide/indexing.html#returning-a-view-versus-a-copy\n",
      "  orders_agg_cleaned['card_last_four_digits_orders'] = orders_agg_cleaned['card_last_four_digits_orders'].fillna(orders_agg_cleaned['card_last_four_digits_installments_plans'])\n",
      "/var/folders/3s/rv8h_gcs26l2ll42x85k40j80000gn/T/ipykernel_20911/3372636735.py:18: SettingWithCopyWarning: \n",
      "A value is trying to be set on a copy of a slice from a DataFrame.\n",
      "Try using .loc[row_indexer,col_indexer] = value instead\n",
      "\n",
      "See the caveats in the documentation: https://pandas.pydata.org/pandas-docs/stable/user_guide/indexing.html#returning-a-view-versus-a-copy\n",
      "  orders_agg_cleaned['card_first_six_digits_orders'] = orders_agg_cleaned['card_first_six_digits_orders'].fillna(orders_agg_cleaned['card_first_six_digits_installments_plans'])\n",
      "/var/folders/3s/rv8h_gcs26l2ll42x85k40j80000gn/T/ipykernel_20911/3372636735.py:19: SettingWithCopyWarning: \n",
      "A value is trying to be set on a copy of a slice from a DataFrame.\n",
      "Try using .loc[row_indexer,col_indexer] = value instead\n",
      "\n",
      "See the caveats in the documentation: https://pandas.pydata.org/pandas-docs/stable/user_guide/indexing.html#returning-a-view-versus-a-copy\n",
      "  orders_agg_cleaned['payment_method_country_orders'] = orders_agg_cleaned['payment_method_country_orders'].fillna(orders_agg_cleaned['payment_method_country_installments_plans'])\n",
      "/var/folders/3s/rv8h_gcs26l2ll42x85k40j80000gn/T/ipykernel_20911/3372636735.py:20: SettingWithCopyWarning: \n",
      "A value is trying to be set on a copy of a slice from a DataFrame.\n",
      "Try using .loc[row_indexer,col_indexer] = value instead\n",
      "\n",
      "See the caveats in the documentation: https://pandas.pydata.org/pandas-docs/stable/user_guide/indexing.html#returning-a-view-versus-a-copy\n",
      "  orders_agg_cleaned['payment_method_bank_orders'] = orders_agg_cleaned['payment_method_bank_orders'].fillna(orders_agg_cleaned['payment_method_bank_installments_plans'])\n",
      "/var/folders/3s/rv8h_gcs26l2ll42x85k40j80000gn/T/ipykernel_20911/3372636735.py:21: SettingWithCopyWarning: \n",
      "A value is trying to be set on a copy of a slice from a DataFrame.\n",
      "Try using .loc[row_indexer,col_indexer] = value instead\n",
      "\n",
      "See the caveats in the documentation: https://pandas.pydata.org/pandas-docs/stable/user_guide/indexing.html#returning-a-view-versus-a-copy\n",
      "  orders_agg_cleaned['card_type_cleaned_bin'] = orders_agg_cleaned['card_type_cleaned_bin'].fillna(orders_agg_cleaned['payment_method_type_installments_plans'])\n",
      "/var/folders/3s/rv8h_gcs26l2ll42x85k40j80000gn/T/ipykernel_20911/3372636735.py:22: SettingWithCopyWarning: \n",
      "A value is trying to be set on a copy of a slice from a DataFrame.\n",
      "Try using .loc[row_indexer,col_indexer] = value instead\n",
      "\n",
      "See the caveats in the documentation: https://pandas.pydata.org/pandas-docs/stable/user_guide/indexing.html#returning-a-view-versus-a-copy\n",
      "  orders_agg_cleaned['is_apple_pay_orders'] = orders_agg_cleaned['is_apple_pay_orders'].fillna(orders_agg_cleaned['is_apple_pay_installments_plans'])\n",
      "/var/folders/3s/rv8h_gcs26l2ll42x85k40j80000gn/T/ipykernel_20911/3372636735.py:24: SettingWithCopyWarning: \n",
      "A value is trying to be set on a copy of a slice from a DataFrame.\n",
      "Try using .loc[row_indexer,col_indexer] = value instead\n",
      "\n",
      "See the caveats in the documentation: https://pandas.pydata.org/pandas-docs/stable/user_guide/indexing.html#returning-a-view-versus-a-copy\n",
      "  orders_agg_cleaned['payment_method_fingerprint_orders'] = orders_agg_cleaned['payment_method_fingerprint_orders'].fillna(orders_agg_cleaned['payment_method_fingerprint_installments_plans'])\n",
      "/var/folders/3s/rv8h_gcs26l2ll42x85k40j80000gn/T/ipykernel_20911/3372636735.py:26: SettingWithCopyWarning: \n",
      "A value is trying to be set on a copy of a slice from a DataFrame.\n",
      "Try using .loc[row_indexer,col_indexer] = value instead\n",
      "\n",
      "See the caveats in the documentation: https://pandas.pydata.org/pandas-docs/stable/user_guide/indexing.html#returning-a-view-versus-a-copy\n",
      "  orders_agg_cleaned['customer_email_orders'] = orders_agg_cleaned['customer_email_orders'].fillna(orders_agg_cleaned['customer_email_installments_plans']).fillna(orders_agg_cleaned['email_customers'])\n",
      "/var/folders/3s/rv8h_gcs26l2ll42x85k40j80000gn/T/ipykernel_20911/3372636735.py:27: SettingWithCopyWarning: \n",
      "A value is trying to be set on a copy of a slice from a DataFrame.\n",
      "Try using .loc[row_indexer,col_indexer] = value instead\n",
      "\n",
      "See the caveats in the documentation: https://pandas.pydata.org/pandas-docs/stable/user_guide/indexing.html#returning-a-view-versus-a-copy\n",
      "  orders_agg_cleaned['phone_installments_plans'] = orders_agg_cleaned['phone_installments_plans'].fillna(orders_agg_cleaned['phone_customers'])\n",
      "/var/folders/3s/rv8h_gcs26l2ll42x85k40j80000gn/T/ipykernel_20911/3372636735.py:29: SettingWithCopyWarning: \n",
      "A value is trying to be set on a copy of a slice from a DataFrame.\n",
      "Try using .loc[row_indexer,col_indexer] = value instead\n",
      "\n",
      "See the caveats in the documentation: https://pandas.pydata.org/pandas-docs/stable/user_guide/indexing.html#returning-a-view-versus-a-copy\n",
      "  orders_agg_cleaned['full_name_customers'] = (orders_agg_cleaned['first_name_customers'].fillna('') + ' ' + orders_agg_cleaned['last_name_customers'].fillna(''))\n",
      "/var/folders/3s/rv8h_gcs26l2ll42x85k40j80000gn/T/ipykernel_20911/3372636735.py:30: SettingWithCopyWarning: \n",
      "A value is trying to be set on a copy of a slice from a DataFrame.\n",
      "Try using .loc[row_indexer,col_indexer] = value instead\n",
      "\n",
      "See the caveats in the documentation: https://pandas.pydata.org/pandas-docs/stable/user_guide/indexing.html#returning-a-view-versus-a-copy\n",
      "  orders_agg_cleaned['full_name_addresses'] = (orders_agg_cleaned['first_name_addresses'].fillna('') + ' ' + orders_agg_cleaned['last_name_addresses'].fillna(''))\n",
      "/var/folders/3s/rv8h_gcs26l2ll42x85k40j80000gn/T/ipykernel_20911/3372636735.py:32: SettingWithCopyWarning: \n",
      "A value is trying to be set on a copy of a slice from a DataFrame.\n",
      "Try using .loc[row_indexer,col_indexer] = value instead\n",
      "\n",
      "See the caveats in the documentation: https://pandas.pydata.org/pandas-docs/stable/user_guide/indexing.html#returning-a-view-versus-a-copy\n",
      "  orders_agg_cleaned['full_address_addresses'] = (orders_agg_cleaned['line1_addresses'].fillna('') + ' ' +\n",
      "/var/folders/3s/rv8h_gcs26l2ll42x85k40j80000gn/T/ipykernel_20911/3372636735.py:34: SettingWithCopyWarning: \n",
      "A value is trying to be set on a copy of a slice from a DataFrame.\n",
      "Try using .loc[row_indexer,col_indexer] = value instead\n",
      "\n",
      "See the caveats in the documentation: https://pandas.pydata.org/pandas-docs/stable/user_guide/indexing.html#returning-a-view-versus-a-copy\n",
      "  orders_agg_cleaned['final_address_district'] = orders_agg_cleaned['final_address_district'].fillna(orders_agg_cleaned['full_address_addresses'])\n",
      "/var/folders/3s/rv8h_gcs26l2ll42x85k40j80000gn/T/ipykernel_20911/3372636735.py:36: SettingWithCopyWarning: \n",
      "A value is trying to be set on a copy of a slice from a DataFrame.\n",
      "Try using .loc[row_indexer,col_indexer] = value instead\n",
      "\n",
      "See the caveats in the documentation: https://pandas.pydata.org/pandas-docs/stable/user_guide/indexing.html#returning-a-view-versus-a-copy\n",
      "  orders_agg_cleaned['id_number_installments_plans'] = orders_agg_cleaned['id_number_installments_plans'].fillna(orders_agg_cleaned['id_number_customers'])\n"
     ]
    }
   ],
   "execution_count": 50
  },
  {
   "cell_type": "code",
   "source": [
    "# calculating card expiry in months\n",
    "from datetime import datetime\n",
    "\n",
    "current_date = pd.Timestamp(datetime.now())\n",
    "orders_agg_cleaned['payment_method_expires_in_months'] = ((pd.to_datetime(orders_agg_cleaned['payment_method_expires'], unit='s') - pd.to_datetime(orders_agg_cleaned['TransactionDT'], unit='s')) / pd.Timedelta(days=30)).astype(int)"
   ],
   "metadata": {
    "collapsed": false,
    "ExecuteTime": {
     "end_time": "2024-11-07T18:06:09.696290Z",
     "start_time": "2024-11-07T18:06:09.597836Z"
    }
   },
   "id": "791e91a7cb738528",
   "outputs": [
    {
     "name": "stderr",
     "output_type": "stream",
     "text": [
      "/var/folders/3s/rv8h_gcs26l2ll42x85k40j80000gn/T/ipykernel_20911/3008081364.py:5: SettingWithCopyWarning: \n",
      "A value is trying to be set on a copy of a slice from a DataFrame.\n",
      "Try using .loc[row_indexer,col_indexer] = value instead\n",
      "\n",
      "See the caveats in the documentation: https://pandas.pydata.org/pandas-docs/stable/user_guide/indexing.html#returning-a-view-versus-a-copy\n",
      "  orders_agg_cleaned['payment_method_expires_in_months'] = ((pd.to_datetime(orders_agg_cleaned['payment_method_expires'], unit='s') - pd.to_datetime(orders_agg_cleaned['TransactionDT'], unit='s')) / pd.Timedelta(days=30)).astype(int)\n"
     ]
    }
   ],
   "execution_count": 51
  },
  {
   "cell_type": "code",
   "source": [
    "# adding card expires before tenure flag\n",
    "orders_agg_cleaned['card_expires_before_tenure'] = np.where(orders_agg_cleaned['num_instalments_orders'] >= orders_agg_cleaned['payment_method_expires_in_months'], True, False)"
   ],
   "metadata": {
    "collapsed": false,
    "ExecuteTime": {
     "end_time": "2024-11-07T18:06:14.231053Z",
     "start_time": "2024-11-07T18:06:14.226100Z"
    }
   },
   "id": "9fe0da1285efd7c5",
   "outputs": [
    {
     "name": "stderr",
     "output_type": "stream",
     "text": [
      "/var/folders/3s/rv8h_gcs26l2ll42x85k40j80000gn/T/ipykernel_20911/816759196.py:2: SettingWithCopyWarning: \n",
      "A value is trying to be set on a copy of a slice from a DataFrame.\n",
      "Try using .loc[row_indexer,col_indexer] = value instead\n",
      "\n",
      "See the caveats in the documentation: https://pandas.pydata.org/pandas-docs/stable/user_guide/indexing.html#returning-a-view-versus-a-copy\n",
      "  orders_agg_cleaned['card_expires_before_tenure'] = np.where(orders_agg_cleaned['num_instalments_orders'] >= orders_agg_cleaned['payment_method_expires_in_months'], True, False)\n"
     ]
    }
   ],
   "execution_count": 52
  },
  {
   "cell_type": "code",
   "source": [
    "# drop unnecessary columns\n",
    "orders_agg_cleaned.drop(columns=['created_orders', 'customer_date_joined_orders', 'checkout_verified_orders', 'payment_method_expires_orders', \n",
    "                                 'date_of_birth_installments_plans', 'date_of_birth_customers', 'date_of_birth_formatted_idv', 'checkout_metadata_orders', \n",
    "                                 'payment_method_brand_installments_plans', 'payment_method_expires_installments_plans', 'card_last_four_digits_installments_plans', 'card_first_six_digits_installments_plans', 'is_apple_pay_installments_plans',\n",
    "                                 'payment_method_country_installments_plans', 'payment_method_bank_installments_plans', 'payment_method_type_installments_plans', 'customer_email_installments_plans', \n",
    "                                 # 'secure_installments_plans',\n",
    "                                 'payment_method_fingerprint_installments_plans', 'phone_customers', 'phone_addresses', 'first_name_customers', 'last_name_customers', 'first_name_addresses', 'last_name_addresses', \n",
    "                                 'line1_addresses', 'line2_addresses', 'full_address_addresses', 'id_number_customers', 'email_customers'], \n",
    "                        inplace=True)"
   ],
   "metadata": {
    "collapsed": false,
    "ExecuteTime": {
     "end_time": "2024-11-07T18:06:27.083902Z",
     "start_time": "2024-11-07T18:06:25.903084Z"
    }
   },
   "id": "48a5abe4be298160",
   "outputs": [
    {
     "name": "stderr",
     "output_type": "stream",
     "text": [
      "/var/folders/3s/rv8h_gcs26l2ll42x85k40j80000gn/T/ipykernel_20911/1705524371.py:2: SettingWithCopyWarning: \n",
      "A value is trying to be set on a copy of a slice from a DataFrame\n",
      "\n",
      "See the caveats in the documentation: https://pandas.pydata.org/pandas-docs/stable/user_guide/indexing.html#returning-a-view-versus-a-copy\n",
      "  orders_agg_cleaned.drop(columns=['created_orders', 'customer_date_joined_orders', 'checkout_verified_orders', 'payment_method_expires_orders',\n"
     ]
    }
   ],
   "execution_count": 53
  },
  {
   "cell_type": "code",
   "source": [
    "# adding new derived columns\n",
    "# orders_agg_cleaned['card_first_six_digits_orders'] = orders_agg_cleaned['card_first_six_digits_orders'].astype('int64')\n",
    "# orders_agg_cleaned['card_last_four_digits_orders'] = orders_agg_cleaned['card_last_four_digits_orders'].astype('int64')\n",
    "\n",
    "orders_agg_cleaned['card_unique_identifier'] = orders_agg_cleaned['card_first_six_digits_orders'].astype(str) + '***' + orders_agg_cleaned['card_last_four_digits_orders'].astype(str)"
   ],
   "metadata": {
    "collapsed": false,
    "ExecuteTime": {
     "end_time": "2024-11-07T18:08:03.797648Z",
     "start_time": "2024-11-07T18:08:03.550755Z"
    }
   },
   "id": "ade6ad42b2436710",
   "outputs": [
    {
     "name": "stderr",
     "output_type": "stream",
     "text": [
      "/var/folders/3s/rv8h_gcs26l2ll42x85k40j80000gn/T/ipykernel_20911/2595032985.py:5: SettingWithCopyWarning: \n",
      "A value is trying to be set on a copy of a slice from a DataFrame.\n",
      "Try using .loc[row_indexer,col_indexer] = value instead\n",
      "\n",
      "See the caveats in the documentation: https://pandas.pydata.org/pandas-docs/stable/user_guide/indexing.html#returning-a-view-versus-a-copy\n",
      "  orders_agg_cleaned['card_unique_identifier'] = orders_agg_cleaned['card_first_six_digits_orders'].astype(str) + '***' + orders_agg_cleaned['card_last_four_digits_orders'].astype(str)\n"
     ]
    }
   ],
   "execution_count": 54
  },
  {
   "cell_type": "code",
   "source": [
    "orders_agg_cleaned.drop(columns=['card_last_four_digits_orders', 'card_first_six_digits_orders'],\n",
    "                        inplace=True)"
   ],
   "metadata": {
    "collapsed": false,
    "ExecuteTime": {
     "end_time": "2024-11-07T18:08:13.444248Z",
     "start_time": "2024-11-07T18:08:12.864932Z"
    }
   },
   "id": "c12ad5dfa32be485",
   "outputs": [
    {
     "name": "stderr",
     "output_type": "stream",
     "text": [
      "/var/folders/3s/rv8h_gcs26l2ll42x85k40j80000gn/T/ipykernel_20911/96225648.py:1: SettingWithCopyWarning: \n",
      "A value is trying to be set on a copy of a slice from a DataFrame\n",
      "\n",
      "See the caveats in the documentation: https://pandas.pydata.org/pandas-docs/stable/user_guide/indexing.html#returning-a-view-versus-a-copy\n",
      "  orders_agg_cleaned.drop(columns=['card_last_four_digits_orders', 'card_first_six_digits_orders'],\n"
     ]
    }
   ],
   "execution_count": 55
  },
  {
   "cell_type": "code",
   "source": [
    "# filter desired period\n",
    "orders_agg_cleaned = orders_agg_cleaned.loc[(orders_agg_cleaned['TransactionDT'] >= pd.Timestamp('2022-01-01 00:00:00').timestamp()) & (orders_agg_cleaned['TransactionDT'] <= pd.Timestamp('2023-10-31 00:00:00').timestamp())]"
   ],
   "metadata": {
    "collapsed": false,
    "ExecuteTime": {
     "end_time": "2024-11-07T18:09:00.411919Z",
     "start_time": "2024-11-07T18:09:00.098442Z"
    }
   },
   "id": "f1d72a64484fa260",
   "outputs": [],
   "execution_count": 56
  },
  {
   "cell_type": "code",
   "source": [
    "# filling missing values in numerical columns\n",
    "orders_agg_cleaned[orders_agg_cleaned['phone_details_score_seon'].isna()==True].head()"
   ],
   "metadata": {
    "collapsed": false,
    "ExecuteTime": {
     "end_time": "2024-11-07T18:19:10.203214Z",
     "start_time": "2024-11-07T18:19:10.195749Z"
    }
   },
   "id": "c1b65a4ebb9e9d65",
   "outputs": [
    {
     "data": {
      "text/plain": [
       "Empty DataFrame\n",
       "Columns: [id_number_installments_plans, order_id_orders, total_amount_orders, customer_email_orders, merchant_name_orders, category_merchantcategory, checkout_type_orders, num_instalments_orders, ip_address_orders, user_agent_orders, device_fingerprint_orders, payment_method_fingerprint_orders, is_apple_pay_orders, payment_method_country_orders, payment_method_bank_orders, card_type_cleaned_bin, card_brand_cleaned_bin, card_level_cleaned_bin, phone_installments_plans, final_address_district, formatted_address_district, state_emirate_district, district_district, country_district, concatenated_names, total_quantity, max_quantity_name, max_quantity, full_name_idv, identity_number_idv, date_of_expiry_formatted_idv, place_of_issue_idv, sex_idv, employer_idv, occupation_group_idv, nationality_code_idv, ip_last_seen_days_ekata, primary_email_to_name_ekata, ip_geolocation_country_code_ekata, primary_address_validity_level_ekata, primary_email_domain_creation_date_ekata, ip_risk_ekata, ip_risk_score_ekata, primary_email_last_seen_days_ekata, primary_email_valid_ekata, primary_phone_to_name_ekata, ip_primary_address_distance_ekata, primary_phone_carrier_ekata, identity_network_score_ekata, identity_risk_score_ekata, primary_phone_line_type_ekata, primary_address_first_seen_days_ekata, primary_phone_ip_last_seen_days_ekata, ip_connection_type_ekata, primary_address_to_name_ekata, primary_email_first_seen_days_ekata, phone_details_score_seon, phone_details_country_seon, phone_details_carrier_seon, phone_details_account_details_whatsapp_registered_seon, phone_details_account_details_twitter_registered_seon, phone_details_account_details_facebook_registered_seon, phone_details_account_details_telegram_registered_seon, phone_details_account_details_instagram_registered_seon, phone_details_account_details_google_registered_seon, state_seon, ip_details_country_seon, ip_details_public_proxy_seon, ip_details_city_seon, ip_details_spam_number_seon, ip_details_type_seon, ip_details_isp_name_seon, ip_details_score_seon, ip_details_vpn_seon, ip_details_state_prov_seon, fraud_score_seon, email_details_account_details_github_registered_seon, email_details_account_details_facebook_registered_seon, email_details_account_details_spotify_registered_seon, email_details_account_details_google_registered_seon, email_details_account_details_pinterest_registered_seon, email_details_account_details_instagram_registered_seon, email_details_account_details_linkedin_registered_seon, email_details_account_details_microsoft_registered_seon, email_details_account_details_apple_registered_seon, email_details_account_details_twitter_registered_seon, email_details_deliverable_seon, email_details_score_seon, email_details_domain_details_created_seon, email_details_domain_details_suspicious_tld_seon, email_details_domain_details_custom_seon, email_details_domain_details_valid_mx_seon, email_details_domain_details_accept_all_seon, email_details_domain_details_registrar_name_seon, email_details_domain_details_registered_seon, email_details_domain_details_registered_to_seon, email_details_domain_details_tld_seon, email_details_domain_details_disposable_seon, email_details_domain_details_spf_strict_seon, email_details_domain_details_website_exists_seon, ...]\n",
       "Index: []\n",
       "\n",
       "[0 rows x 116 columns]"
      ],
      "text/html": [
       "<div>\n",
       "<style scoped>\n",
       "    .dataframe tbody tr th:only-of-type {\n",
       "        vertical-align: middle;\n",
       "    }\n",
       "\n",
       "    .dataframe tbody tr th {\n",
       "        vertical-align: top;\n",
       "    }\n",
       "\n",
       "    .dataframe thead th {\n",
       "        text-align: right;\n",
       "    }\n",
       "</style>\n",
       "<table border=\"1\" class=\"dataframe\">\n",
       "  <thead>\n",
       "    <tr style=\"text-align: right;\">\n",
       "      <th></th>\n",
       "      <th>id_number_installments_plans</th>\n",
       "      <th>order_id_orders</th>\n",
       "      <th>total_amount_orders</th>\n",
       "      <th>customer_email_orders</th>\n",
       "      <th>merchant_name_orders</th>\n",
       "      <th>category_merchantcategory</th>\n",
       "      <th>checkout_type_orders</th>\n",
       "      <th>num_instalments_orders</th>\n",
       "      <th>ip_address_orders</th>\n",
       "      <th>user_agent_orders</th>\n",
       "      <th>...</th>\n",
       "      <th>TransactionDT</th>\n",
       "      <th>customer_date_joined</th>\n",
       "      <th>checkout_verified</th>\n",
       "      <th>payment_method_expires</th>\n",
       "      <th>date_of_birth_cleaned</th>\n",
       "      <th>full_name_customers</th>\n",
       "      <th>full_name_addresses</th>\n",
       "      <th>payment_method_expires_in_months</th>\n",
       "      <th>card_expires_before_tenure</th>\n",
       "      <th>card_unique_identifier</th>\n",
       "    </tr>\n",
       "  </thead>\n",
       "  <tbody>\n",
       "  </tbody>\n",
       "</table>\n",
       "<p>0 rows × 116 columns</p>\n",
       "</div>"
      ]
     },
     "execution_count": 63,
     "metadata": {},
     "output_type": "execute_result"
    }
   ],
   "execution_count": 63
  },
  {
   "cell_type": "code",
   "source": [
    "orders_agg_cleaned[orders_agg_cleaned['card_unique_identifier'].isna()==True]#.sum()"
   ],
   "metadata": {
    "collapsed": false,
    "ExecuteTime": {
     "end_time": "2024-11-07T18:11:05.975365Z",
     "start_time": "2024-11-07T18:11:05.955152Z"
    }
   },
   "id": "9355fd386a430831",
   "outputs": [
    {
     "data": {
      "text/plain": [
       "Empty DataFrame\n",
       "Columns: [id_number_installments_plans, order_id_orders, total_amount_orders, customer_email_orders, merchant_name_orders, category_merchantcategory, checkout_type_orders, num_instalments_orders, ip_address_orders, user_agent_orders, device_fingerprint_orders, payment_method_fingerprint_orders, is_apple_pay_orders, payment_method_country_orders, payment_method_bank_orders, card_type_cleaned_bin, card_brand_cleaned_bin, card_level_cleaned_bin, phone_installments_plans, final_address_district, formatted_address_district, state_emirate_district, district_district, country_district, concatenated_names, total_quantity, max_quantity_name, max_quantity, full_name_idv, identity_number_idv, date_of_expiry_formatted_idv, place_of_issue_idv, sex_idv, employer_idv, occupation_group_idv, nationality_code_idv, ip_last_seen_days_ekata, primary_email_to_name_ekata, ip_geolocation_country_code_ekata, primary_address_validity_level_ekata, primary_email_domain_creation_date_ekata, ip_risk_ekata, ip_risk_score_ekata, primary_email_last_seen_days_ekata, primary_email_valid_ekata, primary_phone_to_name_ekata, ip_primary_address_distance_ekata, primary_phone_carrier_ekata, identity_network_score_ekata, identity_risk_score_ekata, primary_phone_line_type_ekata, primary_address_first_seen_days_ekata, primary_phone_ip_last_seen_days_ekata, ip_connection_type_ekata, primary_address_to_name_ekata, primary_email_first_seen_days_ekata, phone_details_score_seon, phone_details_country_seon, phone_details_carrier_seon, phone_details_account_details_whatsapp_registered_seon, phone_details_account_details_twitter_registered_seon, phone_details_account_details_facebook_registered_seon, phone_details_account_details_telegram_registered_seon, phone_details_account_details_instagram_registered_seon, phone_details_account_details_google_registered_seon, state_seon, ip_details_country_seon, ip_details_public_proxy_seon, ip_details_city_seon, ip_details_spam_number_seon, ip_details_type_seon, ip_details_isp_name_seon, ip_details_score_seon, ip_details_vpn_seon, ip_details_state_prov_seon, fraud_score_seon, email_details_account_details_github_registered_seon, email_details_account_details_facebook_registered_seon, email_details_account_details_spotify_registered_seon, email_details_account_details_google_registered_seon, email_details_account_details_pinterest_registered_seon, email_details_account_details_instagram_registered_seon, email_details_account_details_linkedin_registered_seon, email_details_account_details_microsoft_registered_seon, email_details_account_details_apple_registered_seon, email_details_account_details_twitter_registered_seon, email_details_deliverable_seon, email_details_score_seon, email_details_domain_details_created_seon, email_details_domain_details_suspicious_tld_seon, email_details_domain_details_custom_seon, email_details_domain_details_valid_mx_seon, email_details_domain_details_accept_all_seon, email_details_domain_details_registrar_name_seon, email_details_domain_details_registered_seon, email_details_domain_details_registered_to_seon, email_details_domain_details_tld_seon, email_details_domain_details_disposable_seon, email_details_domain_details_spf_strict_seon, email_details_domain_details_website_exists_seon, ...]\n",
       "Index: []\n",
       "\n",
       "[0 rows x 116 columns]"
      ],
      "text/html": [
       "<div>\n",
       "<style scoped>\n",
       "    .dataframe tbody tr th:only-of-type {\n",
       "        vertical-align: middle;\n",
       "    }\n",
       "\n",
       "    .dataframe tbody tr th {\n",
       "        vertical-align: top;\n",
       "    }\n",
       "\n",
       "    .dataframe thead th {\n",
       "        text-align: right;\n",
       "    }\n",
       "</style>\n",
       "<table border=\"1\" class=\"dataframe\">\n",
       "  <thead>\n",
       "    <tr style=\"text-align: right;\">\n",
       "      <th></th>\n",
       "      <th>id_number_installments_plans</th>\n",
       "      <th>order_id_orders</th>\n",
       "      <th>total_amount_orders</th>\n",
       "      <th>customer_email_orders</th>\n",
       "      <th>merchant_name_orders</th>\n",
       "      <th>category_merchantcategory</th>\n",
       "      <th>checkout_type_orders</th>\n",
       "      <th>num_instalments_orders</th>\n",
       "      <th>ip_address_orders</th>\n",
       "      <th>user_agent_orders</th>\n",
       "      <th>...</th>\n",
       "      <th>TransactionDT</th>\n",
       "      <th>customer_date_joined</th>\n",
       "      <th>checkout_verified</th>\n",
       "      <th>payment_method_expires</th>\n",
       "      <th>date_of_birth_cleaned</th>\n",
       "      <th>full_name_customers</th>\n",
       "      <th>full_name_addresses</th>\n",
       "      <th>payment_method_expires_in_months</th>\n",
       "      <th>card_expires_before_tenure</th>\n",
       "      <th>card_unique_identifier</th>\n",
       "    </tr>\n",
       "  </thead>\n",
       "  <tbody>\n",
       "  </tbody>\n",
       "</table>\n",
       "<p>0 rows × 116 columns</p>\n",
       "</div>"
      ]
     },
     "execution_count": 59,
     "metadata": {},
     "output_type": "execute_result"
    }
   ],
   "execution_count": 59
  },
  {
   "cell_type": "code",
   "source": "# orders[orders['order_id_orders']==1712883]",
   "metadata": {
    "collapsed": false,
    "ExecuteTime": {
     "end_time": "2024-11-07T18:19:43.516809Z",
     "start_time": "2024-11-07T18:19:43.514986Z"
    }
   },
   "id": "f1a7418680dbe93f",
   "outputs": [],
   "execution_count": 65
  },
  {
   "cell_type": "code",
   "source": [
    "# filling missing values in numerical columns\n",
    "orders_agg_cleaned['total_quantity'].fillna(0, inplace=True)\n",
    "orders_agg_cleaned['max_quantity'].fillna(0, inplace=True)\n",
    "\n",
    "orders_agg_cleaned['ip_last_seen_days_ekata'].fillna(orders_agg_cleaned['ip_last_seen_days_ekata'].median(), inplace=True)\n",
    "orders_agg_cleaned['ip_risk_score_ekata'].fillna(orders_agg_cleaned['ip_risk_score_ekata'].median(), inplace=True)\n",
    "orders_agg_cleaned['primary_email_last_seen_days_ekata'].fillna(orders_agg_cleaned['primary_email_last_seen_days_ekata'].median(), inplace=True)\n",
    "orders_agg_cleaned['ip_primary_address_distance_ekata'].fillna(orders_agg_cleaned['ip_primary_address_distance_ekata'].median(), inplace=True)\n",
    "orders_agg_cleaned['identity_network_score_ekata'].fillna(orders_agg_cleaned['identity_network_score_ekata'].median(), inplace=True)\n",
    "orders_agg_cleaned['identity_risk_score_ekata'].fillna(orders_agg_cleaned['identity_risk_score_ekata'].median(), inplace=True)\n",
    "orders_agg_cleaned['primary_address_first_seen_days_ekata'].fillna(orders_agg_cleaned['primary_address_first_seen_days_ekata'].median(), inplace=True)\n",
    "orders_agg_cleaned['primary_phone_ip_last_seen_days_ekata'].fillna(orders_agg_cleaned['primary_phone_ip_last_seen_days_ekata'].median(), inplace=True)\n",
    "orders_agg_cleaned['primary_email_first_seen_days_ekata'].fillna(orders_agg_cleaned['primary_email_first_seen_days_ekata'].median(), inplace=True)\n",
    "orders_agg_cleaned['phone_details_score_seon'].fillna(orders_agg_cleaned['phone_details_score_seon'].median(), inplace=True)\n",
    "orders_agg_cleaned['ip_details_spam_number_seon'].fillna(orders_agg_cleaned['ip_details_spam_number_seon'].median(), inplace=True)\n",
    "orders_agg_cleaned['ip_details_score_seon'].fillna(orders_agg_cleaned['ip_details_score_seon'].median(), inplace=True)\n",
    "orders_agg_cleaned['fraud_score_seon'].fillna(orders_agg_cleaned['fraud_score_seon'].median(), inplace=True)\n",
    "orders_agg_cleaned['email_details_score_seon'].fillna(orders_agg_cleaned['email_details_score_seon'].median(), inplace=True)\n",
    "orders_agg_cleaned['email_details_breach_details_number_of_breaches_seon'].fillna(orders_agg_cleaned['email_details_breach_details_number_of_breaches_seon'].median(), inplace=True)\n",
    "orders_agg_cleaned['payment_method_expires_in_months'].fillna(orders_agg_cleaned['payment_method_expires_in_months'].median(), inplace=True)\n",
    "\n",
    "# filling missing values in categorical columns\n",
    "orders_agg_cleaned['customer_email_orders'].fillna('unknown', inplace=True)\n",
    "orders_agg_cleaned['category_merchantcategory'].fillna('unknown', inplace=True)\n",
    "orders_agg_cleaned['ip_address_orders'].fillna('unknown', inplace=True)\n",
    "orders_agg_cleaned['user_agent_orders'].fillna('unknown', inplace=True)\n",
    "# orders_agg_cleaned['secure_orders'].fillna('unknown', inplace=True)\n",
    "orders_agg_cleaned['device_fingerprint_orders'].fillna('unknown', inplace=True)\n",
    "orders_agg_cleaned['payment_method_fingerprint_orders'].fillna('unknown', inplace=True)\n",
    "orders_agg_cleaned['id_number_installments_plans'].fillna('unknown', inplace=True)\n",
    "orders_agg_cleaned['is_apple_pay_orders'].fillna('unknown', inplace=True)\n",
    "orders_agg_cleaned['merchant_name_orders'].fillna('unknown', inplace=True)\n",
    "orders_agg_cleaned['payment_method_country_orders'].fillna('unknown', inplace=True)\n",
    "orders_agg_cleaned['checkout_type_orders'].fillna('unknown', inplace=True)\n",
    "orders_agg_cleaned['num_instalments_orders'].fillna('unknown', inplace=True)\n",
    "orders_agg_cleaned['payment_method_bank_orders'].fillna('unknown', inplace=True)\n",
    "orders_agg_cleaned['card_type_cleaned_bin'].fillna('unknown', inplace=True)\n",
    "orders_agg_cleaned['card_brand_cleaned_bin'].fillna('unknown', inplace=True)\n",
    "orders_agg_cleaned['card_level_cleaned_bin'].fillna('unknown', inplace=True)\n",
    "orders_agg_cleaned['phone_installments_plans'].fillna('unknown', inplace=True)\n",
    "orders_agg_cleaned['final_address_district'].fillna('unknown', inplace=True)\n",
    "orders_agg_cleaned['formatted_address_district'].fillna('unknown', inplace=True)\n",
    "orders_agg_cleaned['state_emirate_district'].fillna('unknown', inplace=True)\n",
    "orders_agg_cleaned['district_district'].fillna('unknown', inplace=True)\n",
    "orders_agg_cleaned['country_district'].fillna('unknown', inplace=True)\n",
    "orders_agg_cleaned['concatenated_names'].fillna('unknown', inplace=True)\n",
    "orders_agg_cleaned['max_quantity_name'].fillna('unknown', inplace=True)\n",
    "orders_agg_cleaned['full_name_idv'].fillna('unknown', inplace=True)\n",
    "orders_agg_cleaned['identity_number_idv'].fillna('unknown', inplace=True)\n",
    "orders_agg_cleaned['place_of_issue_idv'].fillna('unknown', inplace=True)\n",
    "orders_agg_cleaned['sex_idv'].fillna('unknown', inplace=True)\n",
    "orders_agg_cleaned['employer_idv'].fillna('unknown', inplace=True)\n",
    "orders_agg_cleaned['occupation_group_idv'].fillna('unknown', inplace=True)\n",
    "orders_agg_cleaned['nationality_code_idv'].fillna('unknown', inplace=True)\n",
    "orders_agg_cleaned['primary_email_to_name_ekata'].fillna('unknown', inplace=True)\n",
    "# orders_agg_cleaned['secondary_address_validity_level_ekata'].fillna('unknown', inplace=True)\n",
    "orders_agg_cleaned['ip_geolocation_country_code_ekata'].fillna('unknown', inplace=True)\n",
    "# orders_agg_cleaned['primary_phone_valid_ekata'].fillna('unknown', inplace=True)\n",
    "orders_agg_cleaned['primary_address_validity_level_ekata'].fillna('unknown', inplace=True)\n",
    "orders_agg_cleaned['ip_risk_ekata'].fillna('unknown', inplace=True)\n",
    "orders_agg_cleaned['primary_email_valid_ekata'].fillna('unknown', inplace=True)\n",
    "orders_agg_cleaned['primary_phone_to_name_ekata'].fillna('unknown', inplace=True)\n",
    "orders_agg_cleaned['primary_phone_carrier_ekata'].fillna('unknown', inplace=True)\n",
    "orders_agg_cleaned['primary_phone_line_type_ekata'].fillna('unknown', inplace=True)\n",
    "orders_agg_cleaned['ip_connection_type_ekata'].fillna('unknown', inplace=True)\n",
    "orders_agg_cleaned['primary_address_to_name_ekata'].fillna('unknown', inplace=True)\n",
    "# orders_agg_cleaned['phone_details_valid_seon'].fillna('unknown', inplace=True)\n",
    "orders_agg_cleaned['phone_details_country_seon'].fillna('unknown', inplace=True)\n",
    "orders_agg_cleaned['phone_details_carrier_seon'].fillna('unknown', inplace=True)\n",
    "orders_agg_cleaned['phone_details_account_details_whatsapp_registered_seon'].fillna('unknown', inplace=True)\n",
    "orders_agg_cleaned['phone_details_account_details_twitter_registered_seon'].fillna('unknown', inplace=True)\n",
    "# orders_agg_cleaned['phone_details_account_details_yahoo_registered_seon'].fillna('unknown', inplace=True)\n",
    "orders_agg_cleaned['phone_details_account_details_facebook_registered_seon'].fillna('unknown', inplace=True)\n",
    "orders_agg_cleaned['phone_details_account_details_telegram_registered_seon'].fillna('unknown', inplace=True)\n",
    "orders_agg_cleaned['phone_details_account_details_instagram_registered_seon'].fillna('unknown', inplace=True)\n",
    "orders_agg_cleaned['phone_details_account_details_google_registered_seon'].fillna('unknown', inplace=True)\n",
    "# orders_agg_cleaned['phone_details_type_seon'].fillna('unknown', inplace=True)\n",
    "orders_agg_cleaned['state_seon'].fillna('unknown', inplace=True)\n",
    "orders_agg_cleaned['ip_details_country_seon'].fillna('unknown', inplace=True)\n",
    "orders_agg_cleaned['ip_details_public_proxy_seon'].fillna('unknown', inplace=True)\n",
    "orders_agg_cleaned['ip_details_city_seon'].fillna('unknown', inplace=True)\n",
    "# orders_agg_cleaned['ip_details_web_proxy_seon'].fillna('unknown', inplace=True)\n",
    "orders_agg_cleaned['ip_details_type_seon'].fillna('unknown', inplace=True)\n",
    "orders_agg_cleaned['ip_details_isp_name_seon'].fillna('unknown', inplace=True)\n",
    "orders_agg_cleaned['ip_details_vpn_seon'].fillna('unknown', inplace=True)\n",
    "# orders_agg_cleaned['ip_details_tor_seon'].fillna('unknown', inplace=True)\n",
    "orders_agg_cleaned['ip_details_state_prov_seon'].fillna('unknown', inplace=True)\n",
    "orders_agg_cleaned['email_details_account_details_github_registered_seon'].fillna('unknown', inplace=True)\n",
    "orders_agg_cleaned['email_details_account_details_facebook_registered_seon'].fillna('unknown', inplace=True)\n",
    "orders_agg_cleaned['email_details_account_details_spotify_registered_seon'].fillna('unknown', inplace=True)\n",
    "orders_agg_cleaned['email_details_account_details_google_registered_seon'].fillna('unknown', inplace=True)\n",
    "orders_agg_cleaned['email_details_account_details_pinterest_registered_seon'].fillna('unknown', inplace=True)\n",
    "orders_agg_cleaned['email_details_account_details_instagram_registered_seon'].fillna('unknown', inplace=True)\n",
    "orders_agg_cleaned['email_details_account_details_linkedin_registered_seon'].fillna('unknown', inplace=True)\n",
    "orders_agg_cleaned['email_details_account_details_microsoft_registered_seon'].fillna('unknown', inplace=True)\n",
    "orders_agg_cleaned['email_details_account_details_apple_registered_seon'].fillna('unknown', inplace=True)\n",
    "orders_agg_cleaned['email_details_account_details_twitter_registered_seon'].fillna('unknown', inplace=True)\n",
    "orders_agg_cleaned['email_details_deliverable_seon'].fillna('unknown', inplace=True)\n",
    "orders_agg_cleaned['email_details_domain_details_suspicious_tld_seon'].fillna('unknown', inplace=True)\n",
    "orders_agg_cleaned['email_details_domain_details_custom_seon'].fillna('unknown', inplace=True)\n",
    "orders_agg_cleaned['email_details_domain_details_valid_mx_seon'].fillna('unknown', inplace=True)\n",
    "orders_agg_cleaned['email_details_domain_details_accept_all_seon'].fillna('unknown', inplace=True)\n",
    "orders_agg_cleaned['email_details_domain_details_registrar_name_seon'].fillna('unknown', inplace=True)\n",
    "orders_agg_cleaned['email_details_domain_details_registered_seon'].fillna('unknown', inplace=True)\n",
    "orders_agg_cleaned['email_details_domain_details_registered_to_seon'].fillna('unknown', inplace=True)\n",
    "orders_agg_cleaned['email_details_domain_details_tld_seon'].fillna('unknown', inplace=True)\n",
    "orders_agg_cleaned['email_details_domain_details_disposable_seon'].fillna('unknown', inplace=True)\n",
    "orders_agg_cleaned['email_details_domain_details_spf_strict_seon'].fillna('unknown', inplace=True)\n",
    "orders_agg_cleaned['email_details_domain_details_website_exists_seon'].fillna('unknown', inplace=True)\n",
    "orders_agg_cleaned['email_details_domain_details_domain_seon'].fillna('unknown', inplace=True)\n",
    "orders_agg_cleaned['email_details_domain_details_dmarc_enforced_seon'].fillna('unknown', inplace=True)\n",
    "orders_agg_cleaned['email_details_account_details_linkedin_registered_seon'].fillna('unknown', inplace=True)\n",
    "orders_agg_cleaned['email_details_breach_details_haveibeenpwned_listed_seon'].fillna('unknown', inplace=True)\n",
    "orders_agg_cleaned['full_name_customers'].fillna('unknown', inplace=True)\n",
    "orders_agg_cleaned['full_name_addresses'].fillna('unknown', inplace=True)\n",
    "orders_agg_cleaned['card_expires_before_tenure'].fillna('unknown', inplace=True)\n",
    "orders_agg_cleaned['card_unique_identifier'].fillna('unknown', inplace=True)"
   ],
   "metadata": {
    "collapsed": false,
    "ExecuteTime": {
     "end_time": "2024-11-07T18:15:35.258436Z",
     "start_time": "2024-11-07T18:15:34.214025Z"
    }
   },
   "id": "76355b4d5a97daa1",
   "outputs": [
    {
     "name": "stderr",
     "output_type": "stream",
     "text": [
      "/var/folders/3s/rv8h_gcs26l2ll42x85k40j80000gn/T/ipykernel_20911/2011538286.py:2: FutureWarning: A value is trying to be set on a copy of a DataFrame or Series through chained assignment using an inplace method.\n",
      "The behavior will change in pandas 3.0. This inplace method will never work because the intermediate object on which we are setting values always behaves as a copy.\n",
      "\n",
      "For example, when doing 'df[col].method(value, inplace=True)', try using 'df.method({col: value}, inplace=True)' or df[col] = df[col].method(value) instead, to perform the operation inplace on the original object.\n",
      "\n",
      "\n",
      "  orders_agg_cleaned['total_quantity'].fillna(0, inplace=True)\n",
      "/var/folders/3s/rv8h_gcs26l2ll42x85k40j80000gn/T/ipykernel_20911/2011538286.py:3: FutureWarning: A value is trying to be set on a copy of a DataFrame or Series through chained assignment using an inplace method.\n",
      "The behavior will change in pandas 3.0. This inplace method will never work because the intermediate object on which we are setting values always behaves as a copy.\n",
      "\n",
      "For example, when doing 'df[col].method(value, inplace=True)', try using 'df.method({col: value}, inplace=True)' or df[col] = df[col].method(value) instead, to perform the operation inplace on the original object.\n",
      "\n",
      "\n",
      "  orders_agg_cleaned['max_quantity'].fillna(0, inplace=True)\n",
      "/var/folders/3s/rv8h_gcs26l2ll42x85k40j80000gn/T/ipykernel_20911/2011538286.py:5: FutureWarning: A value is trying to be set on a copy of a DataFrame or Series through chained assignment using an inplace method.\n",
      "The behavior will change in pandas 3.0. This inplace method will never work because the intermediate object on which we are setting values always behaves as a copy.\n",
      "\n",
      "For example, when doing 'df[col].method(value, inplace=True)', try using 'df.method({col: value}, inplace=True)' or df[col] = df[col].method(value) instead, to perform the operation inplace on the original object.\n",
      "\n",
      "\n",
      "  orders_agg_cleaned['ip_last_seen_days_ekata'].fillna(orders_agg_cleaned['ip_last_seen_days_ekata'].median(), inplace=True)\n",
      "/var/folders/3s/rv8h_gcs26l2ll42x85k40j80000gn/T/ipykernel_20911/2011538286.py:6: FutureWarning: A value is trying to be set on a copy of a DataFrame or Series through chained assignment using an inplace method.\n",
      "The behavior will change in pandas 3.0. This inplace method will never work because the intermediate object on which we are setting values always behaves as a copy.\n",
      "\n",
      "For example, when doing 'df[col].method(value, inplace=True)', try using 'df.method({col: value}, inplace=True)' or df[col] = df[col].method(value) instead, to perform the operation inplace on the original object.\n",
      "\n",
      "\n",
      "  orders_agg_cleaned['ip_risk_score_ekata'].fillna(orders_agg_cleaned['ip_risk_score_ekata'].median(), inplace=True)\n",
      "/var/folders/3s/rv8h_gcs26l2ll42x85k40j80000gn/T/ipykernel_20911/2011538286.py:7: FutureWarning: A value is trying to be set on a copy of a DataFrame or Series through chained assignment using an inplace method.\n",
      "The behavior will change in pandas 3.0. This inplace method will never work because the intermediate object on which we are setting values always behaves as a copy.\n",
      "\n",
      "For example, when doing 'df[col].method(value, inplace=True)', try using 'df.method({col: value}, inplace=True)' or df[col] = df[col].method(value) instead, to perform the operation inplace on the original object.\n",
      "\n",
      "\n",
      "  orders_agg_cleaned['primary_email_last_seen_days_ekata'].fillna(orders_agg_cleaned['primary_email_last_seen_days_ekata'].median(), inplace=True)\n",
      "/var/folders/3s/rv8h_gcs26l2ll42x85k40j80000gn/T/ipykernel_20911/2011538286.py:8: FutureWarning: A value is trying to be set on a copy of a DataFrame or Series through chained assignment using an inplace method.\n",
      "The behavior will change in pandas 3.0. This inplace method will never work because the intermediate object on which we are setting values always behaves as a copy.\n",
      "\n",
      "For example, when doing 'df[col].method(value, inplace=True)', try using 'df.method({col: value}, inplace=True)' or df[col] = df[col].method(value) instead, to perform the operation inplace on the original object.\n",
      "\n",
      "\n",
      "  orders_agg_cleaned['ip_primary_address_distance_ekata'].fillna(orders_agg_cleaned['ip_primary_address_distance_ekata'].median(), inplace=True)\n",
      "/var/folders/3s/rv8h_gcs26l2ll42x85k40j80000gn/T/ipykernel_20911/2011538286.py:9: FutureWarning: A value is trying to be set on a copy of a DataFrame or Series through chained assignment using an inplace method.\n",
      "The behavior will change in pandas 3.0. This inplace method will never work because the intermediate object on which we are setting values always behaves as a copy.\n",
      "\n",
      "For example, when doing 'df[col].method(value, inplace=True)', try using 'df.method({col: value}, inplace=True)' or df[col] = df[col].method(value) instead, to perform the operation inplace on the original object.\n",
      "\n",
      "\n",
      "  orders_agg_cleaned['identity_network_score_ekata'].fillna(orders_agg_cleaned['identity_network_score_ekata'].median(), inplace=True)\n",
      "/var/folders/3s/rv8h_gcs26l2ll42x85k40j80000gn/T/ipykernel_20911/2011538286.py:10: FutureWarning: A value is trying to be set on a copy of a DataFrame or Series through chained assignment using an inplace method.\n",
      "The behavior will change in pandas 3.0. This inplace method will never work because the intermediate object on which we are setting values always behaves as a copy.\n",
      "\n",
      "For example, when doing 'df[col].method(value, inplace=True)', try using 'df.method({col: value}, inplace=True)' or df[col] = df[col].method(value) instead, to perform the operation inplace on the original object.\n",
      "\n",
      "\n",
      "  orders_agg_cleaned['identity_risk_score_ekata'].fillna(orders_agg_cleaned['identity_risk_score_ekata'].median(), inplace=True)\n",
      "/var/folders/3s/rv8h_gcs26l2ll42x85k40j80000gn/T/ipykernel_20911/2011538286.py:11: FutureWarning: A value is trying to be set on a copy of a DataFrame or Series through chained assignment using an inplace method.\n",
      "The behavior will change in pandas 3.0. This inplace method will never work because the intermediate object on which we are setting values always behaves as a copy.\n",
      "\n",
      "For example, when doing 'df[col].method(value, inplace=True)', try using 'df.method({col: value}, inplace=True)' or df[col] = df[col].method(value) instead, to perform the operation inplace on the original object.\n",
      "\n",
      "\n",
      "  orders_agg_cleaned['primary_address_first_seen_days_ekata'].fillna(orders_agg_cleaned['primary_address_first_seen_days_ekata'].median(), inplace=True)\n",
      "/var/folders/3s/rv8h_gcs26l2ll42x85k40j80000gn/T/ipykernel_20911/2011538286.py:12: FutureWarning: A value is trying to be set on a copy of a DataFrame or Series through chained assignment using an inplace method.\n",
      "The behavior will change in pandas 3.0. This inplace method will never work because the intermediate object on which we are setting values always behaves as a copy.\n",
      "\n",
      "For example, when doing 'df[col].method(value, inplace=True)', try using 'df.method({col: value}, inplace=True)' or df[col] = df[col].method(value) instead, to perform the operation inplace on the original object.\n",
      "\n",
      "\n",
      "  orders_agg_cleaned['primary_phone_ip_last_seen_days_ekata'].fillna(orders_agg_cleaned['primary_phone_ip_last_seen_days_ekata'].median(), inplace=True)\n",
      "/var/folders/3s/rv8h_gcs26l2ll42x85k40j80000gn/T/ipykernel_20911/2011538286.py:13: FutureWarning: A value is trying to be set on a copy of a DataFrame or Series through chained assignment using an inplace method.\n",
      "The behavior will change in pandas 3.0. This inplace method will never work because the intermediate object on which we are setting values always behaves as a copy.\n",
      "\n",
      "For example, when doing 'df[col].method(value, inplace=True)', try using 'df.method({col: value}, inplace=True)' or df[col] = df[col].method(value) instead, to perform the operation inplace on the original object.\n",
      "\n",
      "\n",
      "  orders_agg_cleaned['primary_email_first_seen_days_ekata'].fillna(orders_agg_cleaned['primary_email_first_seen_days_ekata'].median(), inplace=True)\n",
      "/var/folders/3s/rv8h_gcs26l2ll42x85k40j80000gn/T/ipykernel_20911/2011538286.py:14: FutureWarning: A value is trying to be set on a copy of a DataFrame or Series through chained assignment using an inplace method.\n",
      "The behavior will change in pandas 3.0. This inplace method will never work because the intermediate object on which we are setting values always behaves as a copy.\n",
      "\n",
      "For example, when doing 'df[col].method(value, inplace=True)', try using 'df.method({col: value}, inplace=True)' or df[col] = df[col].method(value) instead, to perform the operation inplace on the original object.\n",
      "\n",
      "\n",
      "  orders_agg_cleaned['phone_details_score_seon'].fillna(orders_agg_cleaned['phone_details_score_seon'].median(), inplace=True)\n",
      "/var/folders/3s/rv8h_gcs26l2ll42x85k40j80000gn/T/ipykernel_20911/2011538286.py:15: FutureWarning: A value is trying to be set on a copy of a DataFrame or Series through chained assignment using an inplace method.\n",
      "The behavior will change in pandas 3.0. This inplace method will never work because the intermediate object on which we are setting values always behaves as a copy.\n",
      "\n",
      "For example, when doing 'df[col].method(value, inplace=True)', try using 'df.method({col: value}, inplace=True)' or df[col] = df[col].method(value) instead, to perform the operation inplace on the original object.\n",
      "\n",
      "\n",
      "  orders_agg_cleaned['ip_details_spam_number_seon'].fillna(orders_agg_cleaned['ip_details_spam_number_seon'].median(), inplace=True)\n",
      "/var/folders/3s/rv8h_gcs26l2ll42x85k40j80000gn/T/ipykernel_20911/2011538286.py:16: FutureWarning: A value is trying to be set on a copy of a DataFrame or Series through chained assignment using an inplace method.\n",
      "The behavior will change in pandas 3.0. This inplace method will never work because the intermediate object on which we are setting values always behaves as a copy.\n",
      "\n",
      "For example, when doing 'df[col].method(value, inplace=True)', try using 'df.method({col: value}, inplace=True)' or df[col] = df[col].method(value) instead, to perform the operation inplace on the original object.\n",
      "\n",
      "\n",
      "  orders_agg_cleaned['ip_details_score_seon'].fillna(orders_agg_cleaned['ip_details_score_seon'].median(), inplace=True)\n",
      "/var/folders/3s/rv8h_gcs26l2ll42x85k40j80000gn/T/ipykernel_20911/2011538286.py:17: FutureWarning: A value is trying to be set on a copy of a DataFrame or Series through chained assignment using an inplace method.\n",
      "The behavior will change in pandas 3.0. This inplace method will never work because the intermediate object on which we are setting values always behaves as a copy.\n",
      "\n",
      "For example, when doing 'df[col].method(value, inplace=True)', try using 'df.method({col: value}, inplace=True)' or df[col] = df[col].method(value) instead, to perform the operation inplace on the original object.\n",
      "\n",
      "\n",
      "  orders_agg_cleaned['fraud_score_seon'].fillna(orders_agg_cleaned['fraud_score_seon'].median(), inplace=True)\n",
      "/var/folders/3s/rv8h_gcs26l2ll42x85k40j80000gn/T/ipykernel_20911/2011538286.py:18: FutureWarning: A value is trying to be set on a copy of a DataFrame or Series through chained assignment using an inplace method.\n",
      "The behavior will change in pandas 3.0. This inplace method will never work because the intermediate object on which we are setting values always behaves as a copy.\n",
      "\n",
      "For example, when doing 'df[col].method(value, inplace=True)', try using 'df.method({col: value}, inplace=True)' or df[col] = df[col].method(value) instead, to perform the operation inplace on the original object.\n",
      "\n",
      "\n",
      "  orders_agg_cleaned['email_details_score_seon'].fillna(orders_agg_cleaned['email_details_score_seon'].median(), inplace=True)\n",
      "/var/folders/3s/rv8h_gcs26l2ll42x85k40j80000gn/T/ipykernel_20911/2011538286.py:19: FutureWarning: A value is trying to be set on a copy of a DataFrame or Series through chained assignment using an inplace method.\n",
      "The behavior will change in pandas 3.0. This inplace method will never work because the intermediate object on which we are setting values always behaves as a copy.\n",
      "\n",
      "For example, when doing 'df[col].method(value, inplace=True)', try using 'df.method({col: value}, inplace=True)' or df[col] = df[col].method(value) instead, to perform the operation inplace on the original object.\n",
      "\n",
      "\n",
      "  orders_agg_cleaned['email_details_breach_details_number_of_breaches_seon'].fillna(orders_agg_cleaned['email_details_breach_details_number_of_breaches_seon'].median(), inplace=True)\n",
      "/var/folders/3s/rv8h_gcs26l2ll42x85k40j80000gn/T/ipykernel_20911/2011538286.py:20: FutureWarning: A value is trying to be set on a copy of a DataFrame or Series through chained assignment using an inplace method.\n",
      "The behavior will change in pandas 3.0. This inplace method will never work because the intermediate object on which we are setting values always behaves as a copy.\n",
      "\n",
      "For example, when doing 'df[col].method(value, inplace=True)', try using 'df.method({col: value}, inplace=True)' or df[col] = df[col].method(value) instead, to perform the operation inplace on the original object.\n",
      "\n",
      "\n",
      "  orders_agg_cleaned['payment_method_expires_in_months'].fillna(orders_agg_cleaned['payment_method_expires_in_months'].median(), inplace=True)\n",
      "/var/folders/3s/rv8h_gcs26l2ll42x85k40j80000gn/T/ipykernel_20911/2011538286.py:23: FutureWarning: A value is trying to be set on a copy of a DataFrame or Series through chained assignment using an inplace method.\n",
      "The behavior will change in pandas 3.0. This inplace method will never work because the intermediate object on which we are setting values always behaves as a copy.\n",
      "\n",
      "For example, when doing 'df[col].method(value, inplace=True)', try using 'df.method({col: value}, inplace=True)' or df[col] = df[col].method(value) instead, to perform the operation inplace on the original object.\n",
      "\n",
      "\n",
      "  orders_agg_cleaned['customer_email_orders'].fillna('unknown', inplace=True)\n",
      "/var/folders/3s/rv8h_gcs26l2ll42x85k40j80000gn/T/ipykernel_20911/2011538286.py:24: FutureWarning: A value is trying to be set on a copy of a DataFrame or Series through chained assignment using an inplace method.\n",
      "The behavior will change in pandas 3.0. This inplace method will never work because the intermediate object on which we are setting values always behaves as a copy.\n",
      "\n",
      "For example, when doing 'df[col].method(value, inplace=True)', try using 'df.method({col: value}, inplace=True)' or df[col] = df[col].method(value) instead, to perform the operation inplace on the original object.\n",
      "\n",
      "\n",
      "  orders_agg_cleaned['category_merchantcategory'].fillna('unknown', inplace=True)\n",
      "/var/folders/3s/rv8h_gcs26l2ll42x85k40j80000gn/T/ipykernel_20911/2011538286.py:25: FutureWarning: A value is trying to be set on a copy of a DataFrame or Series through chained assignment using an inplace method.\n",
      "The behavior will change in pandas 3.0. This inplace method will never work because the intermediate object on which we are setting values always behaves as a copy.\n",
      "\n",
      "For example, when doing 'df[col].method(value, inplace=True)', try using 'df.method({col: value}, inplace=True)' or df[col] = df[col].method(value) instead, to perform the operation inplace on the original object.\n",
      "\n",
      "\n",
      "  orders_agg_cleaned['ip_address_orders'].fillna('unknown', inplace=True)\n",
      "/var/folders/3s/rv8h_gcs26l2ll42x85k40j80000gn/T/ipykernel_20911/2011538286.py:26: FutureWarning: A value is trying to be set on a copy of a DataFrame or Series through chained assignment using an inplace method.\n",
      "The behavior will change in pandas 3.0. This inplace method will never work because the intermediate object on which we are setting values always behaves as a copy.\n",
      "\n",
      "For example, when doing 'df[col].method(value, inplace=True)', try using 'df.method({col: value}, inplace=True)' or df[col] = df[col].method(value) instead, to perform the operation inplace on the original object.\n",
      "\n",
      "\n",
      "  orders_agg_cleaned['user_agent_orders'].fillna('unknown', inplace=True)\n",
      "/var/folders/3s/rv8h_gcs26l2ll42x85k40j80000gn/T/ipykernel_20911/2011538286.py:28: FutureWarning: A value is trying to be set on a copy of a DataFrame or Series through chained assignment using an inplace method.\n",
      "The behavior will change in pandas 3.0. This inplace method will never work because the intermediate object on which we are setting values always behaves as a copy.\n",
      "\n",
      "For example, when doing 'df[col].method(value, inplace=True)', try using 'df.method({col: value}, inplace=True)' or df[col] = df[col].method(value) instead, to perform the operation inplace on the original object.\n",
      "\n",
      "\n",
      "  orders_agg_cleaned['device_fingerprint_orders'].fillna('unknown', inplace=True)\n",
      "/var/folders/3s/rv8h_gcs26l2ll42x85k40j80000gn/T/ipykernel_20911/2011538286.py:29: FutureWarning: A value is trying to be set on a copy of a DataFrame or Series through chained assignment using an inplace method.\n",
      "The behavior will change in pandas 3.0. This inplace method will never work because the intermediate object on which we are setting values always behaves as a copy.\n",
      "\n",
      "For example, when doing 'df[col].method(value, inplace=True)', try using 'df.method({col: value}, inplace=True)' or df[col] = df[col].method(value) instead, to perform the operation inplace on the original object.\n",
      "\n",
      "\n",
      "  orders_agg_cleaned['payment_method_fingerprint_orders'].fillna('unknown', inplace=True)\n",
      "/var/folders/3s/rv8h_gcs26l2ll42x85k40j80000gn/T/ipykernel_20911/2011538286.py:30: FutureWarning: A value is trying to be set on a copy of a DataFrame or Series through chained assignment using an inplace method.\n",
      "The behavior will change in pandas 3.0. This inplace method will never work because the intermediate object on which we are setting values always behaves as a copy.\n",
      "\n",
      "For example, when doing 'df[col].method(value, inplace=True)', try using 'df.method({col: value}, inplace=True)' or df[col] = df[col].method(value) instead, to perform the operation inplace on the original object.\n",
      "\n",
      "\n",
      "  orders_agg_cleaned['id_number_installments_plans'].fillna('unknown', inplace=True)\n",
      "/var/folders/3s/rv8h_gcs26l2ll42x85k40j80000gn/T/ipykernel_20911/2011538286.py:31: FutureWarning: A value is trying to be set on a copy of a DataFrame or Series through chained assignment using an inplace method.\n",
      "The behavior will change in pandas 3.0. This inplace method will never work because the intermediate object on which we are setting values always behaves as a copy.\n",
      "\n",
      "For example, when doing 'df[col].method(value, inplace=True)', try using 'df.method({col: value}, inplace=True)' or df[col] = df[col].method(value) instead, to perform the operation inplace on the original object.\n",
      "\n",
      "\n",
      "  orders_agg_cleaned['is_apple_pay_orders'].fillna('unknown', inplace=True)\n",
      "/var/folders/3s/rv8h_gcs26l2ll42x85k40j80000gn/T/ipykernel_20911/2011538286.py:32: FutureWarning: A value is trying to be set on a copy of a DataFrame or Series through chained assignment using an inplace method.\n",
      "The behavior will change in pandas 3.0. This inplace method will never work because the intermediate object on which we are setting values always behaves as a copy.\n",
      "\n",
      "For example, when doing 'df[col].method(value, inplace=True)', try using 'df.method({col: value}, inplace=True)' or df[col] = df[col].method(value) instead, to perform the operation inplace on the original object.\n",
      "\n",
      "\n",
      "  orders_agg_cleaned['merchant_name_orders'].fillna('unknown', inplace=True)\n",
      "/var/folders/3s/rv8h_gcs26l2ll42x85k40j80000gn/T/ipykernel_20911/2011538286.py:33: FutureWarning: A value is trying to be set on a copy of a DataFrame or Series through chained assignment using an inplace method.\n",
      "The behavior will change in pandas 3.0. This inplace method will never work because the intermediate object on which we are setting values always behaves as a copy.\n",
      "\n",
      "For example, when doing 'df[col].method(value, inplace=True)', try using 'df.method({col: value}, inplace=True)' or df[col] = df[col].method(value) instead, to perform the operation inplace on the original object.\n",
      "\n",
      "\n",
      "  orders_agg_cleaned['payment_method_country_orders'].fillna('unknown', inplace=True)\n",
      "/var/folders/3s/rv8h_gcs26l2ll42x85k40j80000gn/T/ipykernel_20911/2011538286.py:34: FutureWarning: A value is trying to be set on a copy of a DataFrame or Series through chained assignment using an inplace method.\n",
      "The behavior will change in pandas 3.0. This inplace method will never work because the intermediate object on which we are setting values always behaves as a copy.\n",
      "\n",
      "For example, when doing 'df[col].method(value, inplace=True)', try using 'df.method({col: value}, inplace=True)' or df[col] = df[col].method(value) instead, to perform the operation inplace on the original object.\n",
      "\n",
      "\n",
      "  orders_agg_cleaned['checkout_type_orders'].fillna('unknown', inplace=True)\n",
      "/var/folders/3s/rv8h_gcs26l2ll42x85k40j80000gn/T/ipykernel_20911/2011538286.py:35: FutureWarning: A value is trying to be set on a copy of a DataFrame or Series through chained assignment using an inplace method.\n",
      "The behavior will change in pandas 3.0. This inplace method will never work because the intermediate object on which we are setting values always behaves as a copy.\n",
      "\n",
      "For example, when doing 'df[col].method(value, inplace=True)', try using 'df.method({col: value}, inplace=True)' or df[col] = df[col].method(value) instead, to perform the operation inplace on the original object.\n",
      "\n",
      "\n",
      "  orders_agg_cleaned['num_instalments_orders'].fillna('unknown', inplace=True)\n",
      "/var/folders/3s/rv8h_gcs26l2ll42x85k40j80000gn/T/ipykernel_20911/2011538286.py:36: FutureWarning: A value is trying to be set on a copy of a DataFrame or Series through chained assignment using an inplace method.\n",
      "The behavior will change in pandas 3.0. This inplace method will never work because the intermediate object on which we are setting values always behaves as a copy.\n",
      "\n",
      "For example, when doing 'df[col].method(value, inplace=True)', try using 'df.method({col: value}, inplace=True)' or df[col] = df[col].method(value) instead, to perform the operation inplace on the original object.\n",
      "\n",
      "\n",
      "  orders_agg_cleaned['payment_method_bank_orders'].fillna('unknown', inplace=True)\n",
      "/var/folders/3s/rv8h_gcs26l2ll42x85k40j80000gn/T/ipykernel_20911/2011538286.py:37: FutureWarning: A value is trying to be set on a copy of a DataFrame or Series through chained assignment using an inplace method.\n",
      "The behavior will change in pandas 3.0. This inplace method will never work because the intermediate object on which we are setting values always behaves as a copy.\n",
      "\n",
      "For example, when doing 'df[col].method(value, inplace=True)', try using 'df.method({col: value}, inplace=True)' or df[col] = df[col].method(value) instead, to perform the operation inplace on the original object.\n",
      "\n",
      "\n",
      "  orders_agg_cleaned['card_type_cleaned_bin'].fillna('unknown', inplace=True)\n",
      "/var/folders/3s/rv8h_gcs26l2ll42x85k40j80000gn/T/ipykernel_20911/2011538286.py:38: FutureWarning: A value is trying to be set on a copy of a DataFrame or Series through chained assignment using an inplace method.\n",
      "The behavior will change in pandas 3.0. This inplace method will never work because the intermediate object on which we are setting values always behaves as a copy.\n",
      "\n",
      "For example, when doing 'df[col].method(value, inplace=True)', try using 'df.method({col: value}, inplace=True)' or df[col] = df[col].method(value) instead, to perform the operation inplace on the original object.\n",
      "\n",
      "\n",
      "  orders_agg_cleaned['card_brand_cleaned_bin'].fillna('unknown', inplace=True)\n",
      "/var/folders/3s/rv8h_gcs26l2ll42x85k40j80000gn/T/ipykernel_20911/2011538286.py:39: FutureWarning: A value is trying to be set on a copy of a DataFrame or Series through chained assignment using an inplace method.\n",
      "The behavior will change in pandas 3.0. This inplace method will never work because the intermediate object on which we are setting values always behaves as a copy.\n",
      "\n",
      "For example, when doing 'df[col].method(value, inplace=True)', try using 'df.method({col: value}, inplace=True)' or df[col] = df[col].method(value) instead, to perform the operation inplace on the original object.\n",
      "\n",
      "\n",
      "  orders_agg_cleaned['card_level_cleaned_bin'].fillna('unknown', inplace=True)\n",
      "/var/folders/3s/rv8h_gcs26l2ll42x85k40j80000gn/T/ipykernel_20911/2011538286.py:40: FutureWarning: A value is trying to be set on a copy of a DataFrame or Series through chained assignment using an inplace method.\n",
      "The behavior will change in pandas 3.0. This inplace method will never work because the intermediate object on which we are setting values always behaves as a copy.\n",
      "\n",
      "For example, when doing 'df[col].method(value, inplace=True)', try using 'df.method({col: value}, inplace=True)' or df[col] = df[col].method(value) instead, to perform the operation inplace on the original object.\n",
      "\n",
      "\n",
      "  orders_agg_cleaned['phone_installments_plans'].fillna('unknown', inplace=True)\n",
      "/var/folders/3s/rv8h_gcs26l2ll42x85k40j80000gn/T/ipykernel_20911/2011538286.py:41: FutureWarning: A value is trying to be set on a copy of a DataFrame or Series through chained assignment using an inplace method.\n",
      "The behavior will change in pandas 3.0. This inplace method will never work because the intermediate object on which we are setting values always behaves as a copy.\n",
      "\n",
      "For example, when doing 'df[col].method(value, inplace=True)', try using 'df.method({col: value}, inplace=True)' or df[col] = df[col].method(value) instead, to perform the operation inplace on the original object.\n",
      "\n",
      "\n",
      "  orders_agg_cleaned['final_address_district'].fillna('unknown', inplace=True)\n",
      "/var/folders/3s/rv8h_gcs26l2ll42x85k40j80000gn/T/ipykernel_20911/2011538286.py:42: FutureWarning: A value is trying to be set on a copy of a DataFrame or Series through chained assignment using an inplace method.\n",
      "The behavior will change in pandas 3.0. This inplace method will never work because the intermediate object on which we are setting values always behaves as a copy.\n",
      "\n",
      "For example, when doing 'df[col].method(value, inplace=True)', try using 'df.method({col: value}, inplace=True)' or df[col] = df[col].method(value) instead, to perform the operation inplace on the original object.\n",
      "\n",
      "\n",
      "  orders_agg_cleaned['formatted_address_district'].fillna('unknown', inplace=True)\n",
      "/var/folders/3s/rv8h_gcs26l2ll42x85k40j80000gn/T/ipykernel_20911/2011538286.py:43: FutureWarning: A value is trying to be set on a copy of a DataFrame or Series through chained assignment using an inplace method.\n",
      "The behavior will change in pandas 3.0. This inplace method will never work because the intermediate object on which we are setting values always behaves as a copy.\n",
      "\n",
      "For example, when doing 'df[col].method(value, inplace=True)', try using 'df.method({col: value}, inplace=True)' or df[col] = df[col].method(value) instead, to perform the operation inplace on the original object.\n",
      "\n",
      "\n",
      "  orders_agg_cleaned['state_emirate_district'].fillna('unknown', inplace=True)\n",
      "/var/folders/3s/rv8h_gcs26l2ll42x85k40j80000gn/T/ipykernel_20911/2011538286.py:44: FutureWarning: A value is trying to be set on a copy of a DataFrame or Series through chained assignment using an inplace method.\n",
      "The behavior will change in pandas 3.0. This inplace method will never work because the intermediate object on which we are setting values always behaves as a copy.\n",
      "\n",
      "For example, when doing 'df[col].method(value, inplace=True)', try using 'df.method({col: value}, inplace=True)' or df[col] = df[col].method(value) instead, to perform the operation inplace on the original object.\n",
      "\n",
      "\n",
      "  orders_agg_cleaned['district_district'].fillna('unknown', inplace=True)\n",
      "/var/folders/3s/rv8h_gcs26l2ll42x85k40j80000gn/T/ipykernel_20911/2011538286.py:45: FutureWarning: A value is trying to be set on a copy of a DataFrame or Series through chained assignment using an inplace method.\n",
      "The behavior will change in pandas 3.0. This inplace method will never work because the intermediate object on which we are setting values always behaves as a copy.\n",
      "\n",
      "For example, when doing 'df[col].method(value, inplace=True)', try using 'df.method({col: value}, inplace=True)' or df[col] = df[col].method(value) instead, to perform the operation inplace on the original object.\n",
      "\n",
      "\n",
      "  orders_agg_cleaned['country_district'].fillna('unknown', inplace=True)\n",
      "/var/folders/3s/rv8h_gcs26l2ll42x85k40j80000gn/T/ipykernel_20911/2011538286.py:46: FutureWarning: A value is trying to be set on a copy of a DataFrame or Series through chained assignment using an inplace method.\n",
      "The behavior will change in pandas 3.0. This inplace method will never work because the intermediate object on which we are setting values always behaves as a copy.\n",
      "\n",
      "For example, when doing 'df[col].method(value, inplace=True)', try using 'df.method({col: value}, inplace=True)' or df[col] = df[col].method(value) instead, to perform the operation inplace on the original object.\n",
      "\n",
      "\n",
      "  orders_agg_cleaned['concatenated_names'].fillna('unknown', inplace=True)\n",
      "/var/folders/3s/rv8h_gcs26l2ll42x85k40j80000gn/T/ipykernel_20911/2011538286.py:47: FutureWarning: A value is trying to be set on a copy of a DataFrame or Series through chained assignment using an inplace method.\n",
      "The behavior will change in pandas 3.0. This inplace method will never work because the intermediate object on which we are setting values always behaves as a copy.\n",
      "\n",
      "For example, when doing 'df[col].method(value, inplace=True)', try using 'df.method({col: value}, inplace=True)' or df[col] = df[col].method(value) instead, to perform the operation inplace on the original object.\n",
      "\n",
      "\n",
      "  orders_agg_cleaned['max_quantity_name'].fillna('unknown', inplace=True)\n",
      "/var/folders/3s/rv8h_gcs26l2ll42x85k40j80000gn/T/ipykernel_20911/2011538286.py:48: FutureWarning: A value is trying to be set on a copy of a DataFrame or Series through chained assignment using an inplace method.\n",
      "The behavior will change in pandas 3.0. This inplace method will never work because the intermediate object on which we are setting values always behaves as a copy.\n",
      "\n",
      "For example, when doing 'df[col].method(value, inplace=True)', try using 'df.method({col: value}, inplace=True)' or df[col] = df[col].method(value) instead, to perform the operation inplace on the original object.\n",
      "\n",
      "\n",
      "  orders_agg_cleaned['full_name_idv'].fillna('unknown', inplace=True)\n",
      "/var/folders/3s/rv8h_gcs26l2ll42x85k40j80000gn/T/ipykernel_20911/2011538286.py:49: FutureWarning: A value is trying to be set on a copy of a DataFrame or Series through chained assignment using an inplace method.\n",
      "The behavior will change in pandas 3.0. This inplace method will never work because the intermediate object on which we are setting values always behaves as a copy.\n",
      "\n",
      "For example, when doing 'df[col].method(value, inplace=True)', try using 'df.method({col: value}, inplace=True)' or df[col] = df[col].method(value) instead, to perform the operation inplace on the original object.\n",
      "\n",
      "\n",
      "  orders_agg_cleaned['identity_number_idv'].fillna('unknown', inplace=True)\n",
      "/var/folders/3s/rv8h_gcs26l2ll42x85k40j80000gn/T/ipykernel_20911/2011538286.py:50: FutureWarning: A value is trying to be set on a copy of a DataFrame or Series through chained assignment using an inplace method.\n",
      "The behavior will change in pandas 3.0. This inplace method will never work because the intermediate object on which we are setting values always behaves as a copy.\n",
      "\n",
      "For example, when doing 'df[col].method(value, inplace=True)', try using 'df.method({col: value}, inplace=True)' or df[col] = df[col].method(value) instead, to perform the operation inplace on the original object.\n",
      "\n",
      "\n",
      "  orders_agg_cleaned['place_of_issue_idv'].fillna('unknown', inplace=True)\n",
      "/var/folders/3s/rv8h_gcs26l2ll42x85k40j80000gn/T/ipykernel_20911/2011538286.py:51: FutureWarning: A value is trying to be set on a copy of a DataFrame or Series through chained assignment using an inplace method.\n",
      "The behavior will change in pandas 3.0. This inplace method will never work because the intermediate object on which we are setting values always behaves as a copy.\n",
      "\n",
      "For example, when doing 'df[col].method(value, inplace=True)', try using 'df.method({col: value}, inplace=True)' or df[col] = df[col].method(value) instead, to perform the operation inplace on the original object.\n",
      "\n",
      "\n",
      "  orders_agg_cleaned['sex_idv'].fillna('unknown', inplace=True)\n",
      "/var/folders/3s/rv8h_gcs26l2ll42x85k40j80000gn/T/ipykernel_20911/2011538286.py:52: FutureWarning: A value is trying to be set on a copy of a DataFrame or Series through chained assignment using an inplace method.\n",
      "The behavior will change in pandas 3.0. This inplace method will never work because the intermediate object on which we are setting values always behaves as a copy.\n",
      "\n",
      "For example, when doing 'df[col].method(value, inplace=True)', try using 'df.method({col: value}, inplace=True)' or df[col] = df[col].method(value) instead, to perform the operation inplace on the original object.\n",
      "\n",
      "\n",
      "  orders_agg_cleaned['employer_idv'].fillna('unknown', inplace=True)\n",
      "/var/folders/3s/rv8h_gcs26l2ll42x85k40j80000gn/T/ipykernel_20911/2011538286.py:53: FutureWarning: A value is trying to be set on a copy of a DataFrame or Series through chained assignment using an inplace method.\n",
      "The behavior will change in pandas 3.0. This inplace method will never work because the intermediate object on which we are setting values always behaves as a copy.\n",
      "\n",
      "For example, when doing 'df[col].method(value, inplace=True)', try using 'df.method({col: value}, inplace=True)' or df[col] = df[col].method(value) instead, to perform the operation inplace on the original object.\n",
      "\n",
      "\n",
      "  orders_agg_cleaned['occupation_group_idv'].fillna('unknown', inplace=True)\n",
      "/var/folders/3s/rv8h_gcs26l2ll42x85k40j80000gn/T/ipykernel_20911/2011538286.py:54: FutureWarning: A value is trying to be set on a copy of a DataFrame or Series through chained assignment using an inplace method.\n",
      "The behavior will change in pandas 3.0. This inplace method will never work because the intermediate object on which we are setting values always behaves as a copy.\n",
      "\n",
      "For example, when doing 'df[col].method(value, inplace=True)', try using 'df.method({col: value}, inplace=True)' or df[col] = df[col].method(value) instead, to perform the operation inplace on the original object.\n",
      "\n",
      "\n",
      "  orders_agg_cleaned['nationality_code_idv'].fillna('unknown', inplace=True)\n",
      "/var/folders/3s/rv8h_gcs26l2ll42x85k40j80000gn/T/ipykernel_20911/2011538286.py:55: FutureWarning: A value is trying to be set on a copy of a DataFrame or Series through chained assignment using an inplace method.\n",
      "The behavior will change in pandas 3.0. This inplace method will never work because the intermediate object on which we are setting values always behaves as a copy.\n",
      "\n",
      "For example, when doing 'df[col].method(value, inplace=True)', try using 'df.method({col: value}, inplace=True)' or df[col] = df[col].method(value) instead, to perform the operation inplace on the original object.\n",
      "\n",
      "\n",
      "  orders_agg_cleaned['primary_email_to_name_ekata'].fillna('unknown', inplace=True)\n",
      "/var/folders/3s/rv8h_gcs26l2ll42x85k40j80000gn/T/ipykernel_20911/2011538286.py:57: FutureWarning: A value is trying to be set on a copy of a DataFrame or Series through chained assignment using an inplace method.\n",
      "The behavior will change in pandas 3.0. This inplace method will never work because the intermediate object on which we are setting values always behaves as a copy.\n",
      "\n",
      "For example, when doing 'df[col].method(value, inplace=True)', try using 'df.method({col: value}, inplace=True)' or df[col] = df[col].method(value) instead, to perform the operation inplace on the original object.\n",
      "\n",
      "\n",
      "  orders_agg_cleaned['ip_geolocation_country_code_ekata'].fillna('unknown', inplace=True)\n",
      "/var/folders/3s/rv8h_gcs26l2ll42x85k40j80000gn/T/ipykernel_20911/2011538286.py:59: FutureWarning: A value is trying to be set on a copy of a DataFrame or Series through chained assignment using an inplace method.\n",
      "The behavior will change in pandas 3.0. This inplace method will never work because the intermediate object on which we are setting values always behaves as a copy.\n",
      "\n",
      "For example, when doing 'df[col].method(value, inplace=True)', try using 'df.method({col: value}, inplace=True)' or df[col] = df[col].method(value) instead, to perform the operation inplace on the original object.\n",
      "\n",
      "\n",
      "  orders_agg_cleaned['primary_address_validity_level_ekata'].fillna('unknown', inplace=True)\n",
      "/var/folders/3s/rv8h_gcs26l2ll42x85k40j80000gn/T/ipykernel_20911/2011538286.py:60: FutureWarning: A value is trying to be set on a copy of a DataFrame or Series through chained assignment using an inplace method.\n",
      "The behavior will change in pandas 3.0. This inplace method will never work because the intermediate object on which we are setting values always behaves as a copy.\n",
      "\n",
      "For example, when doing 'df[col].method(value, inplace=True)', try using 'df.method({col: value}, inplace=True)' or df[col] = df[col].method(value) instead, to perform the operation inplace on the original object.\n",
      "\n",
      "\n",
      "  orders_agg_cleaned['ip_risk_ekata'].fillna('unknown', inplace=True)\n",
      "/var/folders/3s/rv8h_gcs26l2ll42x85k40j80000gn/T/ipykernel_20911/2011538286.py:61: FutureWarning: A value is trying to be set on a copy of a DataFrame or Series through chained assignment using an inplace method.\n",
      "The behavior will change in pandas 3.0. This inplace method will never work because the intermediate object on which we are setting values always behaves as a copy.\n",
      "\n",
      "For example, when doing 'df[col].method(value, inplace=True)', try using 'df.method({col: value}, inplace=True)' or df[col] = df[col].method(value) instead, to perform the operation inplace on the original object.\n",
      "\n",
      "\n",
      "  orders_agg_cleaned['primary_email_valid_ekata'].fillna('unknown', inplace=True)\n",
      "/var/folders/3s/rv8h_gcs26l2ll42x85k40j80000gn/T/ipykernel_20911/2011538286.py:61: FutureWarning: Setting an item of incompatible dtype is deprecated and will raise an error in a future version of pandas. Value 'unknown' has dtype incompatible with float64, please explicitly cast to a compatible dtype first.\n",
      "  orders_agg_cleaned['primary_email_valid_ekata'].fillna('unknown', inplace=True)\n",
      "/var/folders/3s/rv8h_gcs26l2ll42x85k40j80000gn/T/ipykernel_20911/2011538286.py:62: FutureWarning: A value is trying to be set on a copy of a DataFrame or Series through chained assignment using an inplace method.\n",
      "The behavior will change in pandas 3.0. This inplace method will never work because the intermediate object on which we are setting values always behaves as a copy.\n",
      "\n",
      "For example, when doing 'df[col].method(value, inplace=True)', try using 'df.method({col: value}, inplace=True)' or df[col] = df[col].method(value) instead, to perform the operation inplace on the original object.\n",
      "\n",
      "\n",
      "  orders_agg_cleaned['primary_phone_to_name_ekata'].fillna('unknown', inplace=True)\n",
      "/var/folders/3s/rv8h_gcs26l2ll42x85k40j80000gn/T/ipykernel_20911/2011538286.py:63: FutureWarning: A value is trying to be set on a copy of a DataFrame or Series through chained assignment using an inplace method.\n",
      "The behavior will change in pandas 3.0. This inplace method will never work because the intermediate object on which we are setting values always behaves as a copy.\n",
      "\n",
      "For example, when doing 'df[col].method(value, inplace=True)', try using 'df.method({col: value}, inplace=True)' or df[col] = df[col].method(value) instead, to perform the operation inplace on the original object.\n",
      "\n",
      "\n",
      "  orders_agg_cleaned['primary_phone_carrier_ekata'].fillna('unknown', inplace=True)\n",
      "/var/folders/3s/rv8h_gcs26l2ll42x85k40j80000gn/T/ipykernel_20911/2011538286.py:64: FutureWarning: A value is trying to be set on a copy of a DataFrame or Series through chained assignment using an inplace method.\n",
      "The behavior will change in pandas 3.0. This inplace method will never work because the intermediate object on which we are setting values always behaves as a copy.\n",
      "\n",
      "For example, when doing 'df[col].method(value, inplace=True)', try using 'df.method({col: value}, inplace=True)' or df[col] = df[col].method(value) instead, to perform the operation inplace on the original object.\n",
      "\n",
      "\n",
      "  orders_agg_cleaned['primary_phone_line_type_ekata'].fillna('unknown', inplace=True)\n",
      "/var/folders/3s/rv8h_gcs26l2ll42x85k40j80000gn/T/ipykernel_20911/2011538286.py:65: FutureWarning: A value is trying to be set on a copy of a DataFrame or Series through chained assignment using an inplace method.\n",
      "The behavior will change in pandas 3.0. This inplace method will never work because the intermediate object on which we are setting values always behaves as a copy.\n",
      "\n",
      "For example, when doing 'df[col].method(value, inplace=True)', try using 'df.method({col: value}, inplace=True)' or df[col] = df[col].method(value) instead, to perform the operation inplace on the original object.\n",
      "\n",
      "\n",
      "  orders_agg_cleaned['ip_connection_type_ekata'].fillna('unknown', inplace=True)\n",
      "/var/folders/3s/rv8h_gcs26l2ll42x85k40j80000gn/T/ipykernel_20911/2011538286.py:66: FutureWarning: A value is trying to be set on a copy of a DataFrame or Series through chained assignment using an inplace method.\n",
      "The behavior will change in pandas 3.0. This inplace method will never work because the intermediate object on which we are setting values always behaves as a copy.\n",
      "\n",
      "For example, when doing 'df[col].method(value, inplace=True)', try using 'df.method({col: value}, inplace=True)' or df[col] = df[col].method(value) instead, to perform the operation inplace on the original object.\n",
      "\n",
      "\n",
      "  orders_agg_cleaned['primary_address_to_name_ekata'].fillna('unknown', inplace=True)\n",
      "/var/folders/3s/rv8h_gcs26l2ll42x85k40j80000gn/T/ipykernel_20911/2011538286.py:68: FutureWarning: A value is trying to be set on a copy of a DataFrame or Series through chained assignment using an inplace method.\n",
      "The behavior will change in pandas 3.0. This inplace method will never work because the intermediate object on which we are setting values always behaves as a copy.\n",
      "\n",
      "For example, when doing 'df[col].method(value, inplace=True)', try using 'df.method({col: value}, inplace=True)' or df[col] = df[col].method(value) instead, to perform the operation inplace on the original object.\n",
      "\n",
      "\n",
      "  orders_agg_cleaned['phone_details_country_seon'].fillna('unknown', inplace=True)\n",
      "/var/folders/3s/rv8h_gcs26l2ll42x85k40j80000gn/T/ipykernel_20911/2011538286.py:69: FutureWarning: A value is trying to be set on a copy of a DataFrame or Series through chained assignment using an inplace method.\n",
      "The behavior will change in pandas 3.0. This inplace method will never work because the intermediate object on which we are setting values always behaves as a copy.\n",
      "\n",
      "For example, when doing 'df[col].method(value, inplace=True)', try using 'df.method({col: value}, inplace=True)' or df[col] = df[col].method(value) instead, to perform the operation inplace on the original object.\n",
      "\n",
      "\n",
      "  orders_agg_cleaned['phone_details_carrier_seon'].fillna('unknown', inplace=True)\n",
      "/var/folders/3s/rv8h_gcs26l2ll42x85k40j80000gn/T/ipykernel_20911/2011538286.py:70: FutureWarning: A value is trying to be set on a copy of a DataFrame or Series through chained assignment using an inplace method.\n",
      "The behavior will change in pandas 3.0. This inplace method will never work because the intermediate object on which we are setting values always behaves as a copy.\n",
      "\n",
      "For example, when doing 'df[col].method(value, inplace=True)', try using 'df.method({col: value}, inplace=True)' or df[col] = df[col].method(value) instead, to perform the operation inplace on the original object.\n",
      "\n",
      "\n",
      "  orders_agg_cleaned['phone_details_account_details_whatsapp_registered_seon'].fillna('unknown', inplace=True)\n",
      "/var/folders/3s/rv8h_gcs26l2ll42x85k40j80000gn/T/ipykernel_20911/2011538286.py:71: FutureWarning: A value is trying to be set on a copy of a DataFrame or Series through chained assignment using an inplace method.\n",
      "The behavior will change in pandas 3.0. This inplace method will never work because the intermediate object on which we are setting values always behaves as a copy.\n",
      "\n",
      "For example, when doing 'df[col].method(value, inplace=True)', try using 'df.method({col: value}, inplace=True)' or df[col] = df[col].method(value) instead, to perform the operation inplace on the original object.\n",
      "\n",
      "\n",
      "  orders_agg_cleaned['phone_details_account_details_twitter_registered_seon'].fillna('unknown', inplace=True)\n",
      "/var/folders/3s/rv8h_gcs26l2ll42x85k40j80000gn/T/ipykernel_20911/2011538286.py:73: FutureWarning: A value is trying to be set on a copy of a DataFrame or Series through chained assignment using an inplace method.\n",
      "The behavior will change in pandas 3.0. This inplace method will never work because the intermediate object on which we are setting values always behaves as a copy.\n",
      "\n",
      "For example, when doing 'df[col].method(value, inplace=True)', try using 'df.method({col: value}, inplace=True)' or df[col] = df[col].method(value) instead, to perform the operation inplace on the original object.\n",
      "\n",
      "\n",
      "  orders_agg_cleaned['phone_details_account_details_facebook_registered_seon'].fillna('unknown', inplace=True)\n",
      "/var/folders/3s/rv8h_gcs26l2ll42x85k40j80000gn/T/ipykernel_20911/2011538286.py:74: FutureWarning: A value is trying to be set on a copy of a DataFrame or Series through chained assignment using an inplace method.\n",
      "The behavior will change in pandas 3.0. This inplace method will never work because the intermediate object on which we are setting values always behaves as a copy.\n",
      "\n",
      "For example, when doing 'df[col].method(value, inplace=True)', try using 'df.method({col: value}, inplace=True)' or df[col] = df[col].method(value) instead, to perform the operation inplace on the original object.\n",
      "\n",
      "\n",
      "  orders_agg_cleaned['phone_details_account_details_telegram_registered_seon'].fillna('unknown', inplace=True)\n",
      "/var/folders/3s/rv8h_gcs26l2ll42x85k40j80000gn/T/ipykernel_20911/2011538286.py:75: FutureWarning: A value is trying to be set on a copy of a DataFrame or Series through chained assignment using an inplace method.\n",
      "The behavior will change in pandas 3.0. This inplace method will never work because the intermediate object on which we are setting values always behaves as a copy.\n",
      "\n",
      "For example, when doing 'df[col].method(value, inplace=True)', try using 'df.method({col: value}, inplace=True)' or df[col] = df[col].method(value) instead, to perform the operation inplace on the original object.\n",
      "\n",
      "\n",
      "  orders_agg_cleaned['phone_details_account_details_instagram_registered_seon'].fillna('unknown', inplace=True)\n",
      "/var/folders/3s/rv8h_gcs26l2ll42x85k40j80000gn/T/ipykernel_20911/2011538286.py:76: FutureWarning: A value is trying to be set on a copy of a DataFrame or Series through chained assignment using an inplace method.\n",
      "The behavior will change in pandas 3.0. This inplace method will never work because the intermediate object on which we are setting values always behaves as a copy.\n",
      "\n",
      "For example, when doing 'df[col].method(value, inplace=True)', try using 'df.method({col: value}, inplace=True)' or df[col] = df[col].method(value) instead, to perform the operation inplace on the original object.\n",
      "\n",
      "\n",
      "  orders_agg_cleaned['phone_details_account_details_google_registered_seon'].fillna('unknown', inplace=True)\n",
      "/var/folders/3s/rv8h_gcs26l2ll42x85k40j80000gn/T/ipykernel_20911/2011538286.py:78: FutureWarning: A value is trying to be set on a copy of a DataFrame or Series through chained assignment using an inplace method.\n",
      "The behavior will change in pandas 3.0. This inplace method will never work because the intermediate object on which we are setting values always behaves as a copy.\n",
      "\n",
      "For example, when doing 'df[col].method(value, inplace=True)', try using 'df.method({col: value}, inplace=True)' or df[col] = df[col].method(value) instead, to perform the operation inplace on the original object.\n",
      "\n",
      "\n",
      "  orders_agg_cleaned['state_seon'].fillna('unknown', inplace=True)\n",
      "/var/folders/3s/rv8h_gcs26l2ll42x85k40j80000gn/T/ipykernel_20911/2011538286.py:79: FutureWarning: A value is trying to be set on a copy of a DataFrame or Series through chained assignment using an inplace method.\n",
      "The behavior will change in pandas 3.0. This inplace method will never work because the intermediate object on which we are setting values always behaves as a copy.\n",
      "\n",
      "For example, when doing 'df[col].method(value, inplace=True)', try using 'df.method({col: value}, inplace=True)' or df[col] = df[col].method(value) instead, to perform the operation inplace on the original object.\n",
      "\n",
      "\n",
      "  orders_agg_cleaned['ip_details_country_seon'].fillna('unknown', inplace=True)\n",
      "/var/folders/3s/rv8h_gcs26l2ll42x85k40j80000gn/T/ipykernel_20911/2011538286.py:80: FutureWarning: A value is trying to be set on a copy of a DataFrame or Series through chained assignment using an inplace method.\n",
      "The behavior will change in pandas 3.0. This inplace method will never work because the intermediate object on which we are setting values always behaves as a copy.\n",
      "\n",
      "For example, when doing 'df[col].method(value, inplace=True)', try using 'df.method({col: value}, inplace=True)' or df[col] = df[col].method(value) instead, to perform the operation inplace on the original object.\n",
      "\n",
      "\n",
      "  orders_agg_cleaned['ip_details_public_proxy_seon'].fillna('unknown', inplace=True)\n",
      "/var/folders/3s/rv8h_gcs26l2ll42x85k40j80000gn/T/ipykernel_20911/2011538286.py:81: FutureWarning: A value is trying to be set on a copy of a DataFrame or Series through chained assignment using an inplace method.\n",
      "The behavior will change in pandas 3.0. This inplace method will never work because the intermediate object on which we are setting values always behaves as a copy.\n",
      "\n",
      "For example, when doing 'df[col].method(value, inplace=True)', try using 'df.method({col: value}, inplace=True)' or df[col] = df[col].method(value) instead, to perform the operation inplace on the original object.\n",
      "\n",
      "\n",
      "  orders_agg_cleaned['ip_details_city_seon'].fillna('unknown', inplace=True)\n",
      "/var/folders/3s/rv8h_gcs26l2ll42x85k40j80000gn/T/ipykernel_20911/2011538286.py:83: FutureWarning: A value is trying to be set on a copy of a DataFrame or Series through chained assignment using an inplace method.\n",
      "The behavior will change in pandas 3.0. This inplace method will never work because the intermediate object on which we are setting values always behaves as a copy.\n",
      "\n",
      "For example, when doing 'df[col].method(value, inplace=True)', try using 'df.method({col: value}, inplace=True)' or df[col] = df[col].method(value) instead, to perform the operation inplace on the original object.\n",
      "\n",
      "\n",
      "  orders_agg_cleaned['ip_details_type_seon'].fillna('unknown', inplace=True)\n",
      "/var/folders/3s/rv8h_gcs26l2ll42x85k40j80000gn/T/ipykernel_20911/2011538286.py:84: FutureWarning: A value is trying to be set on a copy of a DataFrame or Series through chained assignment using an inplace method.\n",
      "The behavior will change in pandas 3.0. This inplace method will never work because the intermediate object on which we are setting values always behaves as a copy.\n",
      "\n",
      "For example, when doing 'df[col].method(value, inplace=True)', try using 'df.method({col: value}, inplace=True)' or df[col] = df[col].method(value) instead, to perform the operation inplace on the original object.\n",
      "\n",
      "\n",
      "  orders_agg_cleaned['ip_details_isp_name_seon'].fillna('unknown', inplace=True)\n",
      "/var/folders/3s/rv8h_gcs26l2ll42x85k40j80000gn/T/ipykernel_20911/2011538286.py:85: FutureWarning: A value is trying to be set on a copy of a DataFrame or Series through chained assignment using an inplace method.\n",
      "The behavior will change in pandas 3.0. This inplace method will never work because the intermediate object on which we are setting values always behaves as a copy.\n",
      "\n",
      "For example, when doing 'df[col].method(value, inplace=True)', try using 'df.method({col: value}, inplace=True)' or df[col] = df[col].method(value) instead, to perform the operation inplace on the original object.\n",
      "\n",
      "\n",
      "  orders_agg_cleaned['ip_details_vpn_seon'].fillna('unknown', inplace=True)\n",
      "/var/folders/3s/rv8h_gcs26l2ll42x85k40j80000gn/T/ipykernel_20911/2011538286.py:87: FutureWarning: A value is trying to be set on a copy of a DataFrame or Series through chained assignment using an inplace method.\n",
      "The behavior will change in pandas 3.0. This inplace method will never work because the intermediate object on which we are setting values always behaves as a copy.\n",
      "\n",
      "For example, when doing 'df[col].method(value, inplace=True)', try using 'df.method({col: value}, inplace=True)' or df[col] = df[col].method(value) instead, to perform the operation inplace on the original object.\n",
      "\n",
      "\n",
      "  orders_agg_cleaned['ip_details_state_prov_seon'].fillna('unknown', inplace=True)\n",
      "/var/folders/3s/rv8h_gcs26l2ll42x85k40j80000gn/T/ipykernel_20911/2011538286.py:88: FutureWarning: A value is trying to be set on a copy of a DataFrame or Series through chained assignment using an inplace method.\n",
      "The behavior will change in pandas 3.0. This inplace method will never work because the intermediate object on which we are setting values always behaves as a copy.\n",
      "\n",
      "For example, when doing 'df[col].method(value, inplace=True)', try using 'df.method({col: value}, inplace=True)' or df[col] = df[col].method(value) instead, to perform the operation inplace on the original object.\n",
      "\n",
      "\n",
      "  orders_agg_cleaned['email_details_account_details_github_registered_seon'].fillna('unknown', inplace=True)\n",
      "/var/folders/3s/rv8h_gcs26l2ll42x85k40j80000gn/T/ipykernel_20911/2011538286.py:89: FutureWarning: A value is trying to be set on a copy of a DataFrame or Series through chained assignment using an inplace method.\n",
      "The behavior will change in pandas 3.0. This inplace method will never work because the intermediate object on which we are setting values always behaves as a copy.\n",
      "\n",
      "For example, when doing 'df[col].method(value, inplace=True)', try using 'df.method({col: value}, inplace=True)' or df[col] = df[col].method(value) instead, to perform the operation inplace on the original object.\n",
      "\n",
      "\n",
      "  orders_agg_cleaned['email_details_account_details_facebook_registered_seon'].fillna('unknown', inplace=True)\n",
      "/var/folders/3s/rv8h_gcs26l2ll42x85k40j80000gn/T/ipykernel_20911/2011538286.py:90: FutureWarning: A value is trying to be set on a copy of a DataFrame or Series through chained assignment using an inplace method.\n",
      "The behavior will change in pandas 3.0. This inplace method will never work because the intermediate object on which we are setting values always behaves as a copy.\n",
      "\n",
      "For example, when doing 'df[col].method(value, inplace=True)', try using 'df.method({col: value}, inplace=True)' or df[col] = df[col].method(value) instead, to perform the operation inplace on the original object.\n",
      "\n",
      "\n",
      "  orders_agg_cleaned['email_details_account_details_spotify_registered_seon'].fillna('unknown', inplace=True)\n",
      "/var/folders/3s/rv8h_gcs26l2ll42x85k40j80000gn/T/ipykernel_20911/2011538286.py:91: FutureWarning: A value is trying to be set on a copy of a DataFrame or Series through chained assignment using an inplace method.\n",
      "The behavior will change in pandas 3.0. This inplace method will never work because the intermediate object on which we are setting values always behaves as a copy.\n",
      "\n",
      "For example, when doing 'df[col].method(value, inplace=True)', try using 'df.method({col: value}, inplace=True)' or df[col] = df[col].method(value) instead, to perform the operation inplace on the original object.\n",
      "\n",
      "\n",
      "  orders_agg_cleaned['email_details_account_details_google_registered_seon'].fillna('unknown', inplace=True)\n",
      "/var/folders/3s/rv8h_gcs26l2ll42x85k40j80000gn/T/ipykernel_20911/2011538286.py:92: FutureWarning: A value is trying to be set on a copy of a DataFrame or Series through chained assignment using an inplace method.\n",
      "The behavior will change in pandas 3.0. This inplace method will never work because the intermediate object on which we are setting values always behaves as a copy.\n",
      "\n",
      "For example, when doing 'df[col].method(value, inplace=True)', try using 'df.method({col: value}, inplace=True)' or df[col] = df[col].method(value) instead, to perform the operation inplace on the original object.\n",
      "\n",
      "\n",
      "  orders_agg_cleaned['email_details_account_details_pinterest_registered_seon'].fillna('unknown', inplace=True)\n",
      "/var/folders/3s/rv8h_gcs26l2ll42x85k40j80000gn/T/ipykernel_20911/2011538286.py:93: FutureWarning: A value is trying to be set on a copy of a DataFrame or Series through chained assignment using an inplace method.\n",
      "The behavior will change in pandas 3.0. This inplace method will never work because the intermediate object on which we are setting values always behaves as a copy.\n",
      "\n",
      "For example, when doing 'df[col].method(value, inplace=True)', try using 'df.method({col: value}, inplace=True)' or df[col] = df[col].method(value) instead, to perform the operation inplace on the original object.\n",
      "\n",
      "\n",
      "  orders_agg_cleaned['email_details_account_details_instagram_registered_seon'].fillna('unknown', inplace=True)\n",
      "/var/folders/3s/rv8h_gcs26l2ll42x85k40j80000gn/T/ipykernel_20911/2011538286.py:94: FutureWarning: A value is trying to be set on a copy of a DataFrame or Series through chained assignment using an inplace method.\n",
      "The behavior will change in pandas 3.0. This inplace method will never work because the intermediate object on which we are setting values always behaves as a copy.\n",
      "\n",
      "For example, when doing 'df[col].method(value, inplace=True)', try using 'df.method({col: value}, inplace=True)' or df[col] = df[col].method(value) instead, to perform the operation inplace on the original object.\n",
      "\n",
      "\n",
      "  orders_agg_cleaned['email_details_account_details_linkedin_registered_seon'].fillna('unknown', inplace=True)\n",
      "/var/folders/3s/rv8h_gcs26l2ll42x85k40j80000gn/T/ipykernel_20911/2011538286.py:95: FutureWarning: A value is trying to be set on a copy of a DataFrame or Series through chained assignment using an inplace method.\n",
      "The behavior will change in pandas 3.0. This inplace method will never work because the intermediate object on which we are setting values always behaves as a copy.\n",
      "\n",
      "For example, when doing 'df[col].method(value, inplace=True)', try using 'df.method({col: value}, inplace=True)' or df[col] = df[col].method(value) instead, to perform the operation inplace on the original object.\n",
      "\n",
      "\n",
      "  orders_agg_cleaned['email_details_account_details_microsoft_registered_seon'].fillna('unknown', inplace=True)\n",
      "/var/folders/3s/rv8h_gcs26l2ll42x85k40j80000gn/T/ipykernel_20911/2011538286.py:96: FutureWarning: A value is trying to be set on a copy of a DataFrame or Series through chained assignment using an inplace method.\n",
      "The behavior will change in pandas 3.0. This inplace method will never work because the intermediate object on which we are setting values always behaves as a copy.\n",
      "\n",
      "For example, when doing 'df[col].method(value, inplace=True)', try using 'df.method({col: value}, inplace=True)' or df[col] = df[col].method(value) instead, to perform the operation inplace on the original object.\n",
      "\n",
      "\n",
      "  orders_agg_cleaned['email_details_account_details_apple_registered_seon'].fillna('unknown', inplace=True)\n",
      "/var/folders/3s/rv8h_gcs26l2ll42x85k40j80000gn/T/ipykernel_20911/2011538286.py:97: FutureWarning: A value is trying to be set on a copy of a DataFrame or Series through chained assignment using an inplace method.\n",
      "The behavior will change in pandas 3.0. This inplace method will never work because the intermediate object on which we are setting values always behaves as a copy.\n",
      "\n",
      "For example, when doing 'df[col].method(value, inplace=True)', try using 'df.method({col: value}, inplace=True)' or df[col] = df[col].method(value) instead, to perform the operation inplace on the original object.\n",
      "\n",
      "\n",
      "  orders_agg_cleaned['email_details_account_details_twitter_registered_seon'].fillna('unknown', inplace=True)\n",
      "/var/folders/3s/rv8h_gcs26l2ll42x85k40j80000gn/T/ipykernel_20911/2011538286.py:98: FutureWarning: A value is trying to be set on a copy of a DataFrame or Series through chained assignment using an inplace method.\n",
      "The behavior will change in pandas 3.0. This inplace method will never work because the intermediate object on which we are setting values always behaves as a copy.\n",
      "\n",
      "For example, when doing 'df[col].method(value, inplace=True)', try using 'df.method({col: value}, inplace=True)' or df[col] = df[col].method(value) instead, to perform the operation inplace on the original object.\n",
      "\n",
      "\n",
      "  orders_agg_cleaned['email_details_deliverable_seon'].fillna('unknown', inplace=True)\n",
      "/var/folders/3s/rv8h_gcs26l2ll42x85k40j80000gn/T/ipykernel_20911/2011538286.py:99: FutureWarning: A value is trying to be set on a copy of a DataFrame or Series through chained assignment using an inplace method.\n",
      "The behavior will change in pandas 3.0. This inplace method will never work because the intermediate object on which we are setting values always behaves as a copy.\n",
      "\n",
      "For example, when doing 'df[col].method(value, inplace=True)', try using 'df.method({col: value}, inplace=True)' or df[col] = df[col].method(value) instead, to perform the operation inplace on the original object.\n",
      "\n",
      "\n",
      "  orders_agg_cleaned['email_details_domain_details_suspicious_tld_seon'].fillna('unknown', inplace=True)\n",
      "/var/folders/3s/rv8h_gcs26l2ll42x85k40j80000gn/T/ipykernel_20911/2011538286.py:100: FutureWarning: A value is trying to be set on a copy of a DataFrame or Series through chained assignment using an inplace method.\n",
      "The behavior will change in pandas 3.0. This inplace method will never work because the intermediate object on which we are setting values always behaves as a copy.\n",
      "\n",
      "For example, when doing 'df[col].method(value, inplace=True)', try using 'df.method({col: value}, inplace=True)' or df[col] = df[col].method(value) instead, to perform the operation inplace on the original object.\n",
      "\n",
      "\n",
      "  orders_agg_cleaned['email_details_domain_details_custom_seon'].fillna('unknown', inplace=True)\n",
      "/var/folders/3s/rv8h_gcs26l2ll42x85k40j80000gn/T/ipykernel_20911/2011538286.py:101: FutureWarning: A value is trying to be set on a copy of a DataFrame or Series through chained assignment using an inplace method.\n",
      "The behavior will change in pandas 3.0. This inplace method will never work because the intermediate object on which we are setting values always behaves as a copy.\n",
      "\n",
      "For example, when doing 'df[col].method(value, inplace=True)', try using 'df.method({col: value}, inplace=True)' or df[col] = df[col].method(value) instead, to perform the operation inplace on the original object.\n",
      "\n",
      "\n",
      "  orders_agg_cleaned['email_details_domain_details_valid_mx_seon'].fillna('unknown', inplace=True)\n",
      "/var/folders/3s/rv8h_gcs26l2ll42x85k40j80000gn/T/ipykernel_20911/2011538286.py:102: FutureWarning: A value is trying to be set on a copy of a DataFrame or Series through chained assignment using an inplace method.\n",
      "The behavior will change in pandas 3.0. This inplace method will never work because the intermediate object on which we are setting values always behaves as a copy.\n",
      "\n",
      "For example, when doing 'df[col].method(value, inplace=True)', try using 'df.method({col: value}, inplace=True)' or df[col] = df[col].method(value) instead, to perform the operation inplace on the original object.\n",
      "\n",
      "\n",
      "  orders_agg_cleaned['email_details_domain_details_accept_all_seon'].fillna('unknown', inplace=True)\n",
      "/var/folders/3s/rv8h_gcs26l2ll42x85k40j80000gn/T/ipykernel_20911/2011538286.py:103: FutureWarning: A value is trying to be set on a copy of a DataFrame or Series through chained assignment using an inplace method.\n",
      "The behavior will change in pandas 3.0. This inplace method will never work because the intermediate object on which we are setting values always behaves as a copy.\n",
      "\n",
      "For example, when doing 'df[col].method(value, inplace=True)', try using 'df.method({col: value}, inplace=True)' or df[col] = df[col].method(value) instead, to perform the operation inplace on the original object.\n",
      "\n",
      "\n",
      "  orders_agg_cleaned['email_details_domain_details_registrar_name_seon'].fillna('unknown', inplace=True)\n",
      "/var/folders/3s/rv8h_gcs26l2ll42x85k40j80000gn/T/ipykernel_20911/2011538286.py:104: FutureWarning: A value is trying to be set on a copy of a DataFrame or Series through chained assignment using an inplace method.\n",
      "The behavior will change in pandas 3.0. This inplace method will never work because the intermediate object on which we are setting values always behaves as a copy.\n",
      "\n",
      "For example, when doing 'df[col].method(value, inplace=True)', try using 'df.method({col: value}, inplace=True)' or df[col] = df[col].method(value) instead, to perform the operation inplace on the original object.\n",
      "\n",
      "\n",
      "  orders_agg_cleaned['email_details_domain_details_registered_seon'].fillna('unknown', inplace=True)\n",
      "/var/folders/3s/rv8h_gcs26l2ll42x85k40j80000gn/T/ipykernel_20911/2011538286.py:105: FutureWarning: A value is trying to be set on a copy of a DataFrame or Series through chained assignment using an inplace method.\n",
      "The behavior will change in pandas 3.0. This inplace method will never work because the intermediate object on which we are setting values always behaves as a copy.\n",
      "\n",
      "For example, when doing 'df[col].method(value, inplace=True)', try using 'df.method({col: value}, inplace=True)' or df[col] = df[col].method(value) instead, to perform the operation inplace on the original object.\n",
      "\n",
      "\n",
      "  orders_agg_cleaned['email_details_domain_details_registered_to_seon'].fillna('unknown', inplace=True)\n",
      "/var/folders/3s/rv8h_gcs26l2ll42x85k40j80000gn/T/ipykernel_20911/2011538286.py:106: FutureWarning: A value is trying to be set on a copy of a DataFrame or Series through chained assignment using an inplace method.\n",
      "The behavior will change in pandas 3.0. This inplace method will never work because the intermediate object on which we are setting values always behaves as a copy.\n",
      "\n",
      "For example, when doing 'df[col].method(value, inplace=True)', try using 'df.method({col: value}, inplace=True)' or df[col] = df[col].method(value) instead, to perform the operation inplace on the original object.\n",
      "\n",
      "\n",
      "  orders_agg_cleaned['email_details_domain_details_tld_seon'].fillna('unknown', inplace=True)\n",
      "/var/folders/3s/rv8h_gcs26l2ll42x85k40j80000gn/T/ipykernel_20911/2011538286.py:107: FutureWarning: A value is trying to be set on a copy of a DataFrame or Series through chained assignment using an inplace method.\n",
      "The behavior will change in pandas 3.0. This inplace method will never work because the intermediate object on which we are setting values always behaves as a copy.\n",
      "\n",
      "For example, when doing 'df[col].method(value, inplace=True)', try using 'df.method({col: value}, inplace=True)' or df[col] = df[col].method(value) instead, to perform the operation inplace on the original object.\n",
      "\n",
      "\n",
      "  orders_agg_cleaned['email_details_domain_details_disposable_seon'].fillna('unknown', inplace=True)\n",
      "/var/folders/3s/rv8h_gcs26l2ll42x85k40j80000gn/T/ipykernel_20911/2011538286.py:108: FutureWarning: A value is trying to be set on a copy of a DataFrame or Series through chained assignment using an inplace method.\n",
      "The behavior will change in pandas 3.0. This inplace method will never work because the intermediate object on which we are setting values always behaves as a copy.\n",
      "\n",
      "For example, when doing 'df[col].method(value, inplace=True)', try using 'df.method({col: value}, inplace=True)' or df[col] = df[col].method(value) instead, to perform the operation inplace on the original object.\n",
      "\n",
      "\n",
      "  orders_agg_cleaned['email_details_domain_details_spf_strict_seon'].fillna('unknown', inplace=True)\n",
      "/var/folders/3s/rv8h_gcs26l2ll42x85k40j80000gn/T/ipykernel_20911/2011538286.py:109: FutureWarning: A value is trying to be set on a copy of a DataFrame or Series through chained assignment using an inplace method.\n",
      "The behavior will change in pandas 3.0. This inplace method will never work because the intermediate object on which we are setting values always behaves as a copy.\n",
      "\n",
      "For example, when doing 'df[col].method(value, inplace=True)', try using 'df.method({col: value}, inplace=True)' or df[col] = df[col].method(value) instead, to perform the operation inplace on the original object.\n",
      "\n",
      "\n",
      "  orders_agg_cleaned['email_details_domain_details_website_exists_seon'].fillna('unknown', inplace=True)\n",
      "/var/folders/3s/rv8h_gcs26l2ll42x85k40j80000gn/T/ipykernel_20911/2011538286.py:110: FutureWarning: A value is trying to be set on a copy of a DataFrame or Series through chained assignment using an inplace method.\n",
      "The behavior will change in pandas 3.0. This inplace method will never work because the intermediate object on which we are setting values always behaves as a copy.\n",
      "\n",
      "For example, when doing 'df[col].method(value, inplace=True)', try using 'df.method({col: value}, inplace=True)' or df[col] = df[col].method(value) instead, to perform the operation inplace on the original object.\n",
      "\n",
      "\n",
      "  orders_agg_cleaned['email_details_domain_details_domain_seon'].fillna('unknown', inplace=True)\n",
      "/var/folders/3s/rv8h_gcs26l2ll42x85k40j80000gn/T/ipykernel_20911/2011538286.py:111: FutureWarning: A value is trying to be set on a copy of a DataFrame or Series through chained assignment using an inplace method.\n",
      "The behavior will change in pandas 3.0. This inplace method will never work because the intermediate object on which we are setting values always behaves as a copy.\n",
      "\n",
      "For example, when doing 'df[col].method(value, inplace=True)', try using 'df.method({col: value}, inplace=True)' or df[col] = df[col].method(value) instead, to perform the operation inplace on the original object.\n",
      "\n",
      "\n",
      "  orders_agg_cleaned['email_details_domain_details_dmarc_enforced_seon'].fillna('unknown', inplace=True)\n",
      "/var/folders/3s/rv8h_gcs26l2ll42x85k40j80000gn/T/ipykernel_20911/2011538286.py:113: FutureWarning: A value is trying to be set on a copy of a DataFrame or Series through chained assignment using an inplace method.\n",
      "The behavior will change in pandas 3.0. This inplace method will never work because the intermediate object on which we are setting values always behaves as a copy.\n",
      "\n",
      "For example, when doing 'df[col].method(value, inplace=True)', try using 'df.method({col: value}, inplace=True)' or df[col] = df[col].method(value) instead, to perform the operation inplace on the original object.\n",
      "\n",
      "\n",
      "  orders_agg_cleaned['email_details_breach_details_haveibeenpwned_listed_seon'].fillna('unknown', inplace=True)\n",
      "/var/folders/3s/rv8h_gcs26l2ll42x85k40j80000gn/T/ipykernel_20911/2011538286.py:114: FutureWarning: A value is trying to be set on a copy of a DataFrame or Series through chained assignment using an inplace method.\n",
      "The behavior will change in pandas 3.0. This inplace method will never work because the intermediate object on which we are setting values always behaves as a copy.\n",
      "\n",
      "For example, when doing 'df[col].method(value, inplace=True)', try using 'df.method({col: value}, inplace=True)' or df[col] = df[col].method(value) instead, to perform the operation inplace on the original object.\n",
      "\n",
      "\n",
      "  orders_agg_cleaned['full_name_customers'].fillna('unknown', inplace=True)\n",
      "/var/folders/3s/rv8h_gcs26l2ll42x85k40j80000gn/T/ipykernel_20911/2011538286.py:115: FutureWarning: A value is trying to be set on a copy of a DataFrame or Series through chained assignment using an inplace method.\n",
      "The behavior will change in pandas 3.0. This inplace method will never work because the intermediate object on which we are setting values always behaves as a copy.\n",
      "\n",
      "For example, when doing 'df[col].method(value, inplace=True)', try using 'df.method({col: value}, inplace=True)' or df[col] = df[col].method(value) instead, to perform the operation inplace on the original object.\n",
      "\n",
      "\n",
      "  orders_agg_cleaned['full_name_addresses'].fillna('unknown', inplace=True)\n",
      "/var/folders/3s/rv8h_gcs26l2ll42x85k40j80000gn/T/ipykernel_20911/2011538286.py:116: FutureWarning: A value is trying to be set on a copy of a DataFrame or Series through chained assignment using an inplace method.\n",
      "The behavior will change in pandas 3.0. This inplace method will never work because the intermediate object on which we are setting values always behaves as a copy.\n",
      "\n",
      "For example, when doing 'df[col].method(value, inplace=True)', try using 'df.method({col: value}, inplace=True)' or df[col] = df[col].method(value) instead, to perform the operation inplace on the original object.\n",
      "\n",
      "\n",
      "  orders_agg_cleaned['card_expires_before_tenure'].fillna('unknown', inplace=True)\n",
      "/var/folders/3s/rv8h_gcs26l2ll42x85k40j80000gn/T/ipykernel_20911/2011538286.py:117: FutureWarning: A value is trying to be set on a copy of a DataFrame or Series through chained assignment using an inplace method.\n",
      "The behavior will change in pandas 3.0. This inplace method will never work because the intermediate object on which we are setting values always behaves as a copy.\n",
      "\n",
      "For example, when doing 'df[col].method(value, inplace=True)', try using 'df.method({col: value}, inplace=True)' or df[col] = df[col].method(value) instead, to perform the operation inplace on the original object.\n",
      "\n",
      "\n",
      "  orders_agg_cleaned['card_unique_identifier'].fillna('unknown', inplace=True)\n"
     ]
    }
   ],
   "execution_count": 61
  },
  {
   "cell_type": "code",
   "source": [
    "# target variable\n",
    "orders_agg_cleaned['isFraud'] = np.where(orders_agg_cleaned['fraud_category_fraudcategory'].isin(['Fraud', 'Suspected Fraud']), True, False)"
   ],
   "metadata": {
    "collapsed": false,
    "ExecuteTime": {
     "end_time": "2024-11-07T18:20:13.599601Z",
     "start_time": "2024-11-07T18:20:13.589919Z"
    }
   },
   "id": "6357dc51a2f3abe0",
   "outputs": [],
   "execution_count": 66
  },
  {
   "cell_type": "code",
   "source": [
    "orders_agg_cleaned = orders_agg_cleaned[~orders_agg_cleaned['fraud_category_fraudcategory'].isna()].reset_index(drop=True)"
   ],
   "metadata": {
    "collapsed": false,
    "ExecuteTime": {
     "end_time": "2024-11-07T18:21:04.657546Z",
     "start_time": "2024-11-07T18:21:03.111197Z"
    }
   },
   "id": "6f7eb779cd361a56",
   "outputs": [],
   "execution_count": 67
  },
  {
   "cell_type": "code",
   "source": [
    "orders_agg_cleaned[['isFraud', 'fraud_category_fraudcategory']].value_counts()"
   ],
   "metadata": {
    "collapsed": false,
    "ExecuteTime": {
     "end_time": "2024-11-07T18:21:06.197997Z",
     "start_time": "2024-11-07T18:21:06.174743Z"
    }
   },
   "id": "f96587a7258bc849",
   "outputs": [
    {
     "data": {
      "text/plain": [
       "isFraud  fraud_category_fraudcategory\n",
       "False    Legit                           277387\n",
       "         Grey Area                         6092\n",
       "True     Fraud                             5927\n",
       "         Suspected Fraud                   1979\n",
       "Name: count, dtype: int64"
      ]
     },
     "execution_count": 68,
     "metadata": {},
     "output_type": "execute_result"
    }
   ],
   "execution_count": 68
  },
  {
   "cell_type": "code",
   "source": [
    "orders_agg_cleaned.drop(columns=['fraud_category_fraudcategory'], inplace=True)"
   ],
   "metadata": {
    "collapsed": false,
    "ExecuteTime": {
     "end_time": "2024-11-07T18:22:30.714734Z",
     "start_time": "2024-11-07T18:22:30.211359Z"
    }
   },
   "id": "1a4c1fb2b9f32705",
   "outputs": [],
   "execution_count": 69
  },
  {
   "cell_type": "code",
   "source": [
    "orders_agg_cleaned.drop(columns=['email_details_account_details_linkedin_registered_seon'], inplace=True)"
   ],
   "metadata": {
    "collapsed": false,
    "ExecuteTime": {
     "end_time": "2024-11-07T18:22:35.482077Z",
     "start_time": "2024-11-07T18:22:35.218441Z"
    }
   },
   "id": "78b02d60aca29e9e",
   "outputs": [],
   "execution_count": 70
  },
  {
   "cell_type": "code",
   "source": "orders_agg_cleaned[orders_agg_cleaned.isna().any(axis=1)].sum()",
   "metadata": {
    "collapsed": false,
    "ExecuteTime": {
     "end_time": "2024-11-07T18:25:34.844779Z",
     "start_time": "2024-11-07T18:25:33.917745Z"
    }
   },
   "id": "d2c8aa5ab4536bd7",
   "outputs": [
    {
     "data": {
      "text/plain": [
       "id_number_installments_plans          0\n",
       "order_id_orders                       0\n",
       "total_amount_orders                 0.0\n",
       "customer_email_orders                 0\n",
       "merchant_name_orders                  0\n",
       "                                   ... \n",
       "full_name_addresses                   0\n",
       "payment_method_expires_in_months      0\n",
       "card_expires_before_tenure            0\n",
       "card_unique_identifier                0\n",
       "isFraud                               0\n",
       "Length: 115, dtype: object"
      ]
     },
     "execution_count": 77,
     "metadata": {},
     "output_type": "execute_result"
    }
   ],
   "execution_count": 77
  },
  {
   "cell_type": "code",
   "source": [
    "orders_agg_cleaned.columns[orders_agg_cleaned.isna().any()].tolist()"
   ],
   "metadata": {
    "collapsed": false,
    "ExecuteTime": {
     "end_time": "2024-11-07T18:25:52.271312Z",
     "start_time": "2024-11-07T18:25:51.642346Z"
    }
   },
   "id": "650d455156cf6795",
   "outputs": [
    {
     "data": {
      "text/plain": [
       "[]"
      ]
     },
     "execution_count": 78,
     "metadata": {},
     "output_type": "execute_result"
    }
   ],
   "execution_count": 78
  },
  {
   "cell_type": "code",
   "source": [
    "orders_agg_cleaned[orders_agg_cleaned.isna().any(axis=1)]"
   ],
   "metadata": {
    "collapsed": false,
    "ExecuteTime": {
     "end_time": "2024-11-07T18:25:55.289792Z",
     "start_time": "2024-11-07T18:25:54.466434Z"
    }
   },
   "id": "58b86c104811934b",
   "outputs": [
    {
     "data": {
      "text/plain": [
       "Empty DataFrame\n",
       "Columns: [id_number_installments_plans, order_id_orders, total_amount_orders, customer_email_orders, merchant_name_orders, category_merchantcategory, checkout_type_orders, num_instalments_orders, ip_address_orders, user_agent_orders, device_fingerprint_orders, payment_method_fingerprint_orders, is_apple_pay_orders, payment_method_country_orders, payment_method_bank_orders, card_type_cleaned_bin, card_brand_cleaned_bin, card_level_cleaned_bin, phone_installments_plans, final_address_district, formatted_address_district, state_emirate_district, district_district, country_district, concatenated_names, total_quantity, max_quantity_name, max_quantity, full_name_idv, identity_number_idv, date_of_expiry_formatted_idv, place_of_issue_idv, sex_idv, employer_idv, occupation_group_idv, nationality_code_idv, ip_last_seen_days_ekata, primary_email_to_name_ekata, ip_geolocation_country_code_ekata, primary_address_validity_level_ekata, primary_email_domain_creation_date_ekata, ip_risk_ekata, ip_risk_score_ekata, primary_email_last_seen_days_ekata, primary_email_valid_ekata, primary_phone_to_name_ekata, ip_primary_address_distance_ekata, primary_phone_carrier_ekata, identity_network_score_ekata, identity_risk_score_ekata, primary_phone_line_type_ekata, primary_address_first_seen_days_ekata, primary_phone_ip_last_seen_days_ekata, ip_connection_type_ekata, primary_address_to_name_ekata, primary_email_first_seen_days_ekata, phone_details_score_seon, phone_details_country_seon, phone_details_carrier_seon, phone_details_account_details_whatsapp_registered_seon, phone_details_account_details_twitter_registered_seon, phone_details_account_details_facebook_registered_seon, phone_details_account_details_telegram_registered_seon, phone_details_account_details_instagram_registered_seon, phone_details_account_details_google_registered_seon, state_seon, ip_details_country_seon, ip_details_public_proxy_seon, ip_details_city_seon, ip_details_spam_number_seon, ip_details_type_seon, ip_details_isp_name_seon, ip_details_score_seon, ip_details_vpn_seon, ip_details_state_prov_seon, fraud_score_seon, email_details_account_details_github_registered_seon, email_details_account_details_facebook_registered_seon, email_details_account_details_spotify_registered_seon, email_details_account_details_google_registered_seon, email_details_account_details_pinterest_registered_seon, email_details_account_details_instagram_registered_seon, email_details_account_details_microsoft_registered_seon, email_details_account_details_apple_registered_seon, email_details_account_details_twitter_registered_seon, email_details_deliverable_seon, email_details_score_seon, email_details_domain_details_created_seon, email_details_domain_details_suspicious_tld_seon, email_details_domain_details_custom_seon, email_details_domain_details_valid_mx_seon, email_details_domain_details_accept_all_seon, email_details_domain_details_registrar_name_seon, email_details_domain_details_registered_seon, email_details_domain_details_registered_to_seon, email_details_domain_details_tld_seon, email_details_domain_details_disposable_seon, email_details_domain_details_spf_strict_seon, email_details_domain_details_website_exists_seon, email_details_domain_details_domain_seon, ...]\n",
       "Index: []\n",
       "\n",
       "[0 rows x 115 columns]"
      ],
      "text/html": [
       "<div>\n",
       "<style scoped>\n",
       "    .dataframe tbody tr th:only-of-type {\n",
       "        vertical-align: middle;\n",
       "    }\n",
       "\n",
       "    .dataframe tbody tr th {\n",
       "        vertical-align: top;\n",
       "    }\n",
       "\n",
       "    .dataframe thead th {\n",
       "        text-align: right;\n",
       "    }\n",
       "</style>\n",
       "<table border=\"1\" class=\"dataframe\">\n",
       "  <thead>\n",
       "    <tr style=\"text-align: right;\">\n",
       "      <th></th>\n",
       "      <th>id_number_installments_plans</th>\n",
       "      <th>order_id_orders</th>\n",
       "      <th>total_amount_orders</th>\n",
       "      <th>customer_email_orders</th>\n",
       "      <th>merchant_name_orders</th>\n",
       "      <th>category_merchantcategory</th>\n",
       "      <th>checkout_type_orders</th>\n",
       "      <th>num_instalments_orders</th>\n",
       "      <th>ip_address_orders</th>\n",
       "      <th>user_agent_orders</th>\n",
       "      <th>...</th>\n",
       "      <th>customer_date_joined</th>\n",
       "      <th>checkout_verified</th>\n",
       "      <th>payment_method_expires</th>\n",
       "      <th>date_of_birth_cleaned</th>\n",
       "      <th>full_name_customers</th>\n",
       "      <th>full_name_addresses</th>\n",
       "      <th>payment_method_expires_in_months</th>\n",
       "      <th>card_expires_before_tenure</th>\n",
       "      <th>card_unique_identifier</th>\n",
       "      <th>isFraud</th>\n",
       "    </tr>\n",
       "  </thead>\n",
       "  <tbody>\n",
       "  </tbody>\n",
       "</table>\n",
       "<p>0 rows × 115 columns</p>\n",
       "</div>"
      ]
     },
     "execution_count": 79,
     "metadata": {},
     "output_type": "execute_result"
    }
   ],
   "execution_count": 79
  },
  {
   "cell_type": "markdown",
   "source": [
    "#### Custom Feature Engineering"
   ],
   "metadata": {
    "collapsed": false
   },
   "id": "842c87fe6e195a33"
  },
  {
   "cell_type": "code",
   "source": [
    "# new features\n",
    "orders_features = pd.read_csv(rawData_dir / 'orders.csv')\n",
    "\n",
    "orders_features = orders_features.loc[(orders_features['num_instalments'] >1) &\n",
    "           (orders_features['currency'] == 'AED') &\n",
    "           (orders_features['status'].isin(['captured', 'denied', 'pending']))\n",
    "           ]"
   ],
   "metadata": {
    "collapsed": false,
    "ExecuteTime": {
     "end_time": "2024-11-07T20:48:55.891539Z",
     "start_time": "2024-11-07T20:48:32.897910Z"
    }
   },
   "id": "f032102eebd1dd3c",
   "outputs": [
    {
     "name": "stderr",
     "output_type": "stream",
     "text": [
      "/var/folders/3s/rv8h_gcs26l2ll42x85k40j80000gn/T/ipykernel_20911/1477044316.py:2: DtypeWarning: Columns (2,25,26,27,28,29,35,37,39,41,42,43,44,45) have mixed types. Specify dtype option on import or set low_memory=False.\n",
      "  orders_features = pd.read_csv(rawData_dir / 'orders.csv')\n"
     ]
    }
   ],
   "execution_count": 81
  },
  {
   "cell_type": "code",
   "source": [
    "orders_features = pd.merge(orders_features, installments_plans, how='left', left_on='order_id', right_on='order_id_installments_plans')"
   ],
   "metadata": {
    "collapsed": false,
    "ExecuteTime": {
     "end_time": "2024-11-07T20:49:07.325324Z",
     "start_time": "2024-11-07T20:49:03.783889Z"
    }
   },
   "id": "b0bf5555a1f7f19e",
   "outputs": [],
   "execution_count": 82
  },
  {
   "cell_type": "code",
   "source": [
    "orders_features['card_last_four_digits'] = orders_features['card_last_four_digits'].fillna(orders_features['card_last_four_digits_installments_plans'])\n",
    "orders_features['card_first_six_digits'] = orders_features['card_first_six_digits'].fillna(orders_features['card_first_six_digits_installments_plans'])\n",
    "\n",
    "orders_features['customer_email'] = orders_features['customer_email'].fillna(orders_features['customer_email_installments_plans'])"
   ],
   "metadata": {
    "collapsed": false,
    "ExecuteTime": {
     "end_time": "2024-11-07T20:49:09.363877Z",
     "start_time": "2024-11-07T20:49:09.224397Z"
    }
   },
   "id": "99afa07b7b589502",
   "outputs": [],
   "execution_count": 83
  },
  {
   "cell_type": "code",
   "source": [
    "orders_features['card_unique_identifier'] = orders_features['card_first_six_digits'].astype(str) + '***' + orders_features['card_last_four_digits'].astype(str)"
   ],
   "metadata": {
    "collapsed": false,
    "ExecuteTime": {
     "end_time": "2024-11-07T20:49:12.012243Z",
     "start_time": "2024-11-07T20:49:10.954427Z"
    }
   },
   "id": "54161c0fde17edd3",
   "outputs": [],
   "execution_count": 84
  },
  {
   "cell_type": "code",
   "source": [
    "orders_features[orders_features['card_unique_identifier'].isna()==True]"
   ],
   "metadata": {
    "collapsed": false,
    "ExecuteTime": {
     "end_time": "2024-11-07T20:49:18.952863Z",
     "start_time": "2024-11-07T20:49:18.914243Z"
    }
   },
   "id": "7df54f23a9d8bbcf",
   "outputs": [
    {
     "data": {
      "text/plain": [
       "Empty DataFrame\n",
       "Columns: [order_id, shipping_id, merchant_id, total_amount, status, status_changed, billing_address_id, convenience_fee, tax_amount, created, reference, currency, customer_email, customer_date_joined, merchant_name, reference_merchant_id, shipping_amount, shipping_address_id, customer_id, checkout_type, num_instalments, payment_method_id, payment_interval, ip_address, user_agent, rules, secure, decision_id, denied_throttling_reasons, throttling_order_ids, checkout_language, device_fingerprint, checkout_verified, checkout_completed, checkout_metadata, payment_method_fingerprint, payment_method_type_id, payment_method_brand, card_last_four_digits, payment_method_expires, card_first_six_digits, is_apple_pay, payment_method_country, is_mada, payment_method_bank, payment_method_type, instalment_plan_id_installments_plans, created_installments_plans, payment_method_fingerprint_installments_plans, downpayment_amount_installments_plans, billing_address_id_installments_plans, device_fingerprint_installments_plans, payment_method_type_id_installments_plans, total_downpayment_installments_plans, checkout_metadata_installments_plans, checkout_completed_installments_plans, plan_installments_plans, payment_method_brand_installments_plans, convenience_fee_installments_plans, decision_id_installments_plans, customer_whitelisted_installments_plans, payment_method_expires_installments_plans, card_last_four_digits_installments_plans, shipping_address_id_installments_plans, card_first_six_digits_installments_plans, checkout_id_installments_plans, secure_installments_plans, total_amount_installments_plans, merchant_id_installments_plans, payment_method_id_installments_plans, is_apple_pay_installments_plans, currency_installments_plans, customer_id_installments_plans, gateway_name_installments_plans, id_number_installments_plans, cancelled_installments_plans, checkout_verified_installments_plans, payment_method_country_installments_plans, shipping_amount_installments_plans, reference_installments_plans, completed_installments_plans, id_verification_level_installments_plans, merchant_name_installments_plans, is_mada_installments_plans, payment_interval_installments_plans, customer_date_joined_installments_plans, status_changed_installments_plans, order_id_installments_plans, checkout_type_installments_plans, customer_email_installments_plans, checkout_language_installments_plans, status_installments_plans, tax_amount_installments_plans, num_instalments_installments_plans, payment_method_bank_installments_plans, customer_blacklisted_installments_plans, shipping_id_installments_plans, payment_method_type_installments_plans, date_of_birth_installments_plans, phone_installments_plans, ...]\n",
       "Index: []\n",
       "\n",
       "[0 rows x 110 columns]"
      ],
      "text/html": [
       "<div>\n",
       "<style scoped>\n",
       "    .dataframe tbody tr th:only-of-type {\n",
       "        vertical-align: middle;\n",
       "    }\n",
       "\n",
       "    .dataframe tbody tr th {\n",
       "        vertical-align: top;\n",
       "    }\n",
       "\n",
       "    .dataframe thead th {\n",
       "        text-align: right;\n",
       "    }\n",
       "</style>\n",
       "<table border=\"1\" class=\"dataframe\">\n",
       "  <thead>\n",
       "    <tr style=\"text-align: right;\">\n",
       "      <th></th>\n",
       "      <th>order_id</th>\n",
       "      <th>shipping_id</th>\n",
       "      <th>merchant_id</th>\n",
       "      <th>total_amount</th>\n",
       "      <th>status</th>\n",
       "      <th>status_changed</th>\n",
       "      <th>billing_address_id</th>\n",
       "      <th>convenience_fee</th>\n",
       "      <th>tax_amount</th>\n",
       "      <th>created</th>\n",
       "      <th>...</th>\n",
       "      <th>user_agent_installments_plans</th>\n",
       "      <th>downpayment_refunded_amount_installments_plans</th>\n",
       "      <th>ip_address_installments_plans</th>\n",
       "      <th>transaction_cost_rate_installments_plans</th>\n",
       "      <th>transaction_cost_amount_installments_plans</th>\n",
       "      <th>total_amount_unpaid_installments_plans</th>\n",
       "      <th>total_amount_due_installments_plans</th>\n",
       "      <th>total_amount_paid_installments_plans</th>\n",
       "      <th>instalment_plan_status_installments_plans</th>\n",
       "      <th>card_unique_identifier</th>\n",
       "    </tr>\n",
       "  </thead>\n",
       "  <tbody>\n",
       "  </tbody>\n",
       "</table>\n",
       "<p>0 rows × 110 columns</p>\n",
       "</div>"
      ]
     },
     "execution_count": 85,
     "metadata": {},
     "output_type": "execute_result"
    }
   ],
   "execution_count": 85
  },
  {
   "cell_type": "code",
   "source": [
    "grouped_counts = orders_features.groupby(['card_unique_identifier', 'status']).size().reset_index(name='counts')\n",
    "pivot = grouped_counts.pivot(index='card_unique_identifier', columns='status', values='counts').fillna(0)\n",
    "pivot = pivot.reset_index()\n",
    "pivot.columns = ['card_unique_identifier', 'captured', 'denied', 'pending']\n",
    "card_orders_count = pivot"
   ],
   "metadata": {
    "collapsed": false,
    "ExecuteTime": {
     "end_time": "2024-11-07T20:49:28.617381Z",
     "start_time": "2024-11-07T20:49:28.074180Z"
    }
   },
   "id": "cc177468628b22ab",
   "outputs": [],
   "execution_count": 86
  },
  {
   "cell_type": "code",
   "source": [
    "cards_due_unpaid = orders_features.groupby(['card_unique_identifier']).agg(\n",
    "    due=('total_amount_due_installments_plans', 'sum'),\n",
    "    unpaid=('total_amount_unpaid_installments_plans', 'sum'),\n",
    "    phones=('phone_installments_plans', 'nunique'),\n",
    "    emails=('customer_email', 'nunique')\n",
    ").reset_index()"
   ],
   "metadata": {
    "collapsed": false,
    "ExecuteTime": {
     "end_time": "2024-11-07T20:49:35.402949Z",
     "start_time": "2024-11-07T20:49:34.599403Z"
    }
   },
   "id": "de2071ea99ee8df6",
   "outputs": [],
   "execution_count": 87
  },
  {
   "cell_type": "code",
   "source": [
    "cards_due_unpaid['total_due_unpaid'] = cards_due_unpaid['due'] + cards_due_unpaid['unpaid']\n",
    "card_orders_count['total_orders'] = card_orders_count['captured'] + card_orders_count['denied'] + card_orders_count['pending']"
   ],
   "metadata": {
    "collapsed": false,
    "ExecuteTime": {
     "end_time": "2024-11-07T20:49:44.188779Z",
     "start_time": "2024-11-07T20:49:44.183544Z"
    }
   },
   "id": "1d5f834ca6565581",
   "outputs": [],
   "execution_count": 88
  },
  {
   "cell_type": "code",
   "source": [
    "card_orders_exposure = pd.merge(card_orders_count, cards_due_unpaid, how='left', on='card_unique_identifier')"
   ],
   "metadata": {
    "collapsed": false,
    "ExecuteTime": {
     "end_time": "2024-11-07T20:49:46.420289Z",
     "start_time": "2024-11-07T20:49:46.350902Z"
    }
   },
   "id": "2e08cb3b697cb8c0",
   "outputs": [],
   "execution_count": 89
  },
  {
   "cell_type": "code",
   "source": "# card_orders_exposure",
   "metadata": {
    "collapsed": false,
    "ExecuteTime": {
     "end_time": "2024-11-07T22:56:27.535889Z",
     "start_time": "2024-11-07T22:56:27.531953Z"
    }
   },
   "id": "15fb14d7fbec26d4",
   "outputs": [],
   "execution_count": 124
  },
  {
   "cell_type": "code",
   "source": [
    "# card_orders_exposure[card_orders_exposure['pending']==460992.0]"
   ],
   "metadata": {
    "collapsed": false,
    "ExecuteTime": {
     "end_time": "2024-11-07T20:50:25.349564Z",
     "start_time": "2024-11-07T20:50:25.347557Z"
    }
   },
   "id": "1351bf3ffd33af3c",
   "outputs": [],
   "execution_count": 91
  },
  {
   "cell_type": "code",
   "source": [
    "# TODO: add days between latest trx on card (overall and captured only)\n",
    "# TODO: add days between latest trx on customer id (overall and captured only)"
   ],
   "metadata": {
    "collapsed": false,
    "ExecuteTime": {
     "end_time": "2024-11-07T20:50:28.198078Z",
     "start_time": "2024-11-07T20:50:28.191606Z"
    }
   },
   "id": "ef8b35f6243b934b",
   "outputs": [],
   "execution_count": 92
  },
  {
   "cell_type": "code",
   "source": [
    "orders_features['created'] = pd.to_datetime(orders_features['created'])\n",
    "\n",
    "# Sort the DataFrame by card_number and transaction_date\n",
    "orders_features = orders_features.sort_values(by=['card_unique_identifier', 'created'])\n",
    "\n",
    "# Use groupby and shift to create a column for the last transaction date per card\n",
    "orders_features['previous_transaction_date'] = orders_features.groupby('card_unique_identifier')['created'].shift(1)\n",
    "\n",
    "# Calculate the difference in days between the current and previous transaction dates\n",
    "orders_features['days_since_last_transaction'] = (orders_features['created'] - orders_features['previous_transaction_date']).dt.total_seconds() / (60 * 60 * 24)"
   ],
   "metadata": {
    "collapsed": false,
    "ExecuteTime": {
     "end_time": "2024-11-07T20:50:35.644964Z",
     "start_time": "2024-11-07T20:50:31.469906Z"
    }
   },
   "id": "e61b2074af0d8fb8",
   "outputs": [],
   "execution_count": 93
  },
  {
   "cell_type": "code",
   "source": [
    "card_last_application_days = orders_features[['order_id','days_since_last_transaction']]"
   ],
   "metadata": {
    "collapsed": false,
    "ExecuteTime": {
     "end_time": "2024-11-07T20:50:37.525859Z",
     "start_time": "2024-11-07T20:50:37.517534Z"
    }
   },
   "id": "f98a525807963dc2",
   "outputs": [],
   "execution_count": 94
  },
  {
   "cell_type": "code",
   "source": [
    "# card_last_application_days['days_since_last_transaction'].fillna(card_last_application_days['days_since_last_transaction'].median(), inplace=True)"
   ],
   "metadata": {
    "collapsed": false,
    "ExecuteTime": {
     "end_time": "2024-11-07T20:52:29.484973Z",
     "start_time": "2024-11-07T20:52:29.481923Z"
    }
   },
   "id": "fcb2491d0bf7c18d",
   "outputs": [],
   "execution_count": 95
  },
  {
   "cell_type": "code",
   "source": "# card_last_application_days",
   "metadata": {
    "collapsed": false,
    "ExecuteTime": {
     "end_time": "2024-11-07T22:56:47.859808Z",
     "start_time": "2024-11-07T22:56:47.856576Z"
    }
   },
   "id": "bf016d3bbf1ea330",
   "outputs": [],
   "execution_count": 125
  },
  {
   "cell_type": "code",
   "source": [
    "orders_agg_cleaned = pd.merge(orders_agg_cleaned, card_last_application_days, how='left', left_on='order_id_orders', right_on='order_id')"
   ],
   "metadata": {
    "collapsed": false,
    "ExecuteTime": {
     "end_time": "2024-11-07T20:52:38.938037Z",
     "start_time": "2024-11-07T20:52:38.256382Z"
    }
   },
   "id": "6a72654eb34d483b",
   "outputs": [],
   "execution_count": 97
  },
  {
   "cell_type": "code",
   "source": [
    "orders_agg_cleaned.drop(columns=['order_id'], inplace=True)"
   ],
   "metadata": {
    "collapsed": false,
    "ExecuteTime": {
     "end_time": "2024-11-07T20:52:41.636994Z",
     "start_time": "2024-11-07T20:52:41.250932Z"
    }
   },
   "id": "1abecc4949f9e2aa",
   "outputs": [],
   "execution_count": 98
  },
  {
   "cell_type": "code",
   "source": [
    "orders_agg_cleaned = pd.merge(orders_agg_cleaned, card_orders_exposure, how='left', on='card_unique_identifier')"
   ],
   "metadata": {
    "collapsed": false,
    "ExecuteTime": {
     "end_time": "2024-11-07T20:52:46.735716Z",
     "start_time": "2024-11-07T20:52:46.100444Z"
    }
   },
   "id": "a4f6e8531ac897b3",
   "outputs": [],
   "execution_count": 99
  },
  {
   "cell_type": "code",
   "source": [
    "orders_agg_cleaned['days_since_last_transaction'].fillna(orders_agg_cleaned['days_since_last_transaction'].median(), inplace=True)"
   ],
   "metadata": {
    "collapsed": false,
    "ExecuteTime": {
     "end_time": "2024-11-07T20:52:50.944761Z",
     "start_time": "2024-11-07T20:52:50.938450Z"
    }
   },
   "id": "c5169c7df95a8229",
   "outputs": [
    {
     "name": "stderr",
     "output_type": "stream",
     "text": [
      "/var/folders/3s/rv8h_gcs26l2ll42x85k40j80000gn/T/ipykernel_20911/2050368766.py:1: FutureWarning: A value is trying to be set on a copy of a DataFrame or Series through chained assignment using an inplace method.\n",
      "The behavior will change in pandas 3.0. This inplace method will never work because the intermediate object on which we are setting values always behaves as a copy.\n",
      "\n",
      "For example, when doing 'df[col].method(value, inplace=True)', try using 'df.method({col: value}, inplace=True)' or df[col] = df[col].method(value) instead, to perform the operation inplace on the original object.\n",
      "\n",
      "\n",
      "  orders_agg_cleaned['days_since_last_transaction'].fillna(orders_agg_cleaned['days_since_last_transaction'].median(), inplace=True)\n"
     ]
    }
   ],
   "execution_count": 100
  },
  {
   "cell_type": "code",
   "source": "orders_agg_cleaned.info()",
   "metadata": {
    "collapsed": false,
    "ExecuteTime": {
     "end_time": "2024-11-07T20:54:17.299652Z",
     "start_time": "2024-11-07T20:54:17.294385Z"
    }
   },
   "id": "86f6e5101fa2b9a5",
   "outputs": [
    {
     "name": "stdout",
     "output_type": "stream",
     "text": [
      "<class 'pandas.core.frame.DataFrame'>\n",
      "RangeIndex: 291385 entries, 0 to 291384\n",
      "Columns: 125 entries, id_number_installments_plans to total_due_unpaid\n",
      "dtypes: bool(2), float64(36), int64(5), object(82)\n",
      "memory usage: 274.0+ MB\n"
     ]
    }
   ],
   "execution_count": 104
  },
  {
   "cell_type": "code",
   "source": [
    "# rename columns\n",
    "orders_agg_cleaned.rename(columns={'total_amount_orders': 'TransactionAmt', 'order_id_orders': 'TransactionID'}, inplace=True)"
   ],
   "metadata": {
    "collapsed": false,
    "ExecuteTime": {
     "end_time": "2024-11-07T20:53:08.363703Z",
     "start_time": "2024-11-07T20:53:08.361388Z"
    }
   },
   "id": "7789e1168c8b3d51",
   "outputs": [],
   "execution_count": 102
  },
  {
   "cell_type": "code",
   "source": [],
   "metadata": {
    "collapsed": false,
    "ExecuteTime": {
     "end_time": "2024-11-07T20:54:41.676963Z",
     "start_time": "2024-11-07T20:54:41.675175Z"
    }
   },
   "id": "4090321b9be9ef6e",
   "outputs": [],
   "execution_count": null
  },
  {
   "cell_type": "code",
   "source": [
    "orders_agg_cleaned = orders_agg_cleaned.replace(',', ' ', regex=True)"
   ],
   "metadata": {
    "collapsed": false,
    "ExecuteTime": {
     "end_time": "2024-11-07T20:54:51.536949Z",
     "start_time": "2024-11-07T20:54:45.789343Z"
    }
   },
   "id": "1136f7ca07cd1628",
   "outputs": [],
   "execution_count": 105
  },
  {
   "cell_type": "code",
   "source": [
    "import re\n",
    "\n",
    "def remove_special_characters(text):\n",
    "    pattern = r'[^a-zA-Z0-9\\s]'\n",
    "    pattern_with_newline = r'[\\n]'\n",
    "    \n",
    "    text = re.sub(pattern, '', text)\n",
    "    text = re.sub(pattern_with_newline, ' ', text)\n",
    "    return text.strip()\n",
    "\n",
    "orders_agg_cleaned['user_agent_orders'] = orders_agg_cleaned['user_agent_orders'].apply(remove_special_characters)\n",
    "orders_agg_cleaned['final_address_district'] = orders_agg_cleaned['final_address_district'].apply(remove_special_characters)\n",
    "orders_agg_cleaned['formatted_address_district'] = orders_agg_cleaned['formatted_address_district'].apply(remove_special_characters)\n",
    "orders_agg_cleaned['concatenated_names'] = orders_agg_cleaned['concatenated_names'].apply(remove_special_characters)\n",
    "orders_agg_cleaned['max_quantity_name'] = orders_agg_cleaned['max_quantity_name'].apply(remove_special_characters)"
   ],
   "metadata": {
    "collapsed": false,
    "ExecuteTime": {
     "end_time": "2024-11-07T20:54:59.378889Z",
     "start_time": "2024-11-07T20:54:56.675745Z"
    }
   },
   "id": "db06592d64e05faf",
   "outputs": [],
   "execution_count": 106
  },
  {
   "cell_type": "code",
   "source": [
    "def remove_special_characters_add_underscore(text):\n",
    "    pattern = r'[^a-zA-Z0-9\\s]'\n",
    "    pattern_with_newline = r'[\\n]'\n",
    "\n",
    "    text = re.sub(pattern, '', text)\n",
    "    text = re.sub(pattern_with_newline, ' ', text)\n",
    "    text = '_'.join(text.split())\n",
    "    return text.strip()"
   ],
   "metadata": {
    "collapsed": false,
    "ExecuteTime": {
     "end_time": "2024-11-07T20:55:08.513513Z",
     "start_time": "2024-11-07T20:55:08.510193Z"
    }
   },
   "id": "fbf04ad1184962c0",
   "outputs": [],
   "execution_count": 107
  },
  {
   "cell_type": "code",
   "source": [
    "orders_agg_cleaned['employer_idv'] = orders_agg_cleaned['employer_idv'].apply(remove_special_characters_add_underscore)\n",
    "orders_agg_cleaned['occupation_group_idv'] = orders_agg_cleaned['occupation_group_idv'].apply(remove_special_characters_add_underscore)\n",
    "orders_agg_cleaned['category_merchantcategory'] = orders_agg_cleaned['category_merchantcategory'].apply(remove_special_characters_add_underscore)\n",
    "\n",
    "orders_agg_cleaned['place_of_issue_idv'] = orders_agg_cleaned['place_of_issue_idv'].apply(remove_special_characters_add_underscore)\n",
    "\n",
    "orders_agg_cleaned['user_agent_orders'] = orders_agg_cleaned['user_agent_orders'].apply(remove_special_characters_add_underscore)\n",
    "orders_agg_cleaned['final_address_district'] = orders_agg_cleaned['final_address_district'].apply(remove_special_characters_add_underscore)\n",
    "orders_agg_cleaned['formatted_address_district'] = orders_agg_cleaned['formatted_address_district'].apply(remove_special_characters_add_underscore)\n",
    "orders_agg_cleaned['concatenated_names'] = orders_agg_cleaned['concatenated_names'].apply(remove_special_characters_add_underscore)\n",
    "orders_agg_cleaned['max_quantity_name'] = orders_agg_cleaned['max_quantity_name'].apply(remove_special_characters_add_underscore)\n"
   ],
   "metadata": {
    "collapsed": false,
    "ExecuteTime": {
     "end_time": "2024-11-07T20:55:24.413353Z",
     "start_time": "2024-11-07T20:55:21.189655Z"
    }
   },
   "id": "1f572f72424124e5",
   "outputs": [],
   "execution_count": 108
  },
  {
   "cell_type": "code",
   "source": [
    "# Temporal splits\n",
    "full_dataset = orders_agg_cleaned.copy()\n",
    "dataset_train = orders_agg_cleaned.loc[~(orders_agg_cleaned['TransactionDT'] >= pd.Timestamp('2023-07-01 00:00:00').timestamp())]\n",
    "dataset_dev = orders_agg_cleaned.loc[(orders_agg_cleaned['TransactionDT'] >= pd.Timestamp('2023-07-01 00:00:00').timestamp()) & (orders_agg_cleaned['TransactionDT'] <= pd.Timestamp('2023-07-31 00:00:00').timestamp())]\n",
    "dataset_test = orders_agg_cleaned.loc[(orders_agg_cleaned['TransactionDT'] > pd.Timestamp('2023-07-31 00:00:00').timestamp())]"
   ],
   "metadata": {
    "collapsed": false,
    "ExecuteTime": {
     "end_time": "2024-11-07T22:40:45.193611Z",
     "start_time": "2024-11-07T22:40:43.487272Z"
    }
   },
   "id": "60e48f0d04b74635",
   "outputs": [],
   "execution_count": 114
  },
  {
   "metadata": {
    "ExecuteTime": {
     "end_time": "2024-11-07T22:40:47.719828Z",
     "start_time": "2024-11-07T22:40:47.713769Z"
    }
   },
   "cell_type": "code",
   "source": "full_dataset['isFraud'].value_counts()",
   "id": "22cfd92a162cc114",
   "outputs": [
    {
     "data": {
      "text/plain": [
       "isFraud\n",
       "False    283479\n",
       "True       7906\n",
       "Name: count, dtype: int64"
      ]
     },
     "execution_count": 115,
     "metadata": {},
     "output_type": "execute_result"
    }
   ],
   "execution_count": 115
  },
  {
   "cell_type": "code",
   "source": [
    "dataset_train['isFraud'].value_counts()"
   ],
   "metadata": {
    "collapsed": false,
    "ExecuteTime": {
     "end_time": "2024-11-07T22:40:50.061682Z",
     "start_time": "2024-11-07T22:40:50.052742Z"
    }
   },
   "id": "b38b61d77acb0338",
   "outputs": [
    {
     "data": {
      "text/plain": [
       "isFraud\n",
       "False    245767\n",
       "True       5261\n",
       "Name: count, dtype: int64"
      ]
     },
     "execution_count": 116,
     "metadata": {},
     "output_type": "execute_result"
    }
   ],
   "execution_count": 116
  },
  {
   "cell_type": "code",
   "source": [
    "dataset_test['isFraud'].value_counts()"
   ],
   "metadata": {
    "collapsed": false,
    "ExecuteTime": {
     "end_time": "2024-11-07T22:40:52.149423Z",
     "start_time": "2024-11-07T22:40:52.145092Z"
    }
   },
   "id": "5f8e6556759e788d",
   "outputs": [
    {
     "data": {
      "text/plain": [
       "isFraud\n",
       "False    26462\n",
       "True      2180\n",
       "Name: count, dtype: int64"
      ]
     },
     "execution_count": 117,
     "metadata": {},
     "output_type": "execute_result"
    }
   ],
   "execution_count": 117
  },
  {
   "metadata": {
    "ExecuteTime": {
     "end_time": "2024-11-07T22:40:54.877717Z",
     "start_time": "2024-11-07T22:40:54.871081Z"
    }
   },
   "cell_type": "code",
   "source": "dataset_dev['isFraud'].value_counts()",
   "id": "d234620eefa190c8",
   "outputs": [
    {
     "data": {
      "text/plain": [
       "isFraud\n",
       "False    11250\n",
       "True       465\n",
       "Name: count, dtype: int64"
      ]
     },
     "execution_count": 118,
     "metadata": {},
     "output_type": "execute_result"
    }
   ],
   "execution_count": 118
  },
  {
   "cell_type": "code",
   "source": [
    "# split into transaction data and identity data\n",
    "transactions_cols = ['TransactionID', 'TransactionAmt', 'category_merchantcategory', 'checkout_type_orders', 'num_instalments_orders', \n",
    "                     # 'secure_orders', \n",
    "                     'is_apple_pay_orders', 'total_quantity', 'max_quantity', 'date_of_expiry_formatted_idv', 'place_of_issue_idv', \n",
    "                     'sex_idv', 'employer_idv', 'occupation_group_idv', 'nationality_code_idv', \n",
    "                     'TransactionDT',\n",
    "                     'customer_date_joined',\n",
    "                     'checkout_verified',\n",
    "                     'payment_method_expires',\n",
    "                     'date_of_birth_cleaned',\n",
    "                     'payment_method_expires_in_months',\n",
    "                     'card_expires_before_tenure',\n",
    "\n",
    "                     'fraud_score_seon',\n",
    "                     'email_details_score_seon',\n",
    "                     \n",
    "                     'email_details_domain_details_created_seon',\n",
    "                     'email_details_breach_details_number_of_breaches_seon',\n",
    "                     \n",
    "                     'email_details_domain_details_suspicious_tld_seon',\n",
    "                     'email_details_domain_details_custom_seon',\n",
    "                     'email_details_domain_details_valid_mx_seon',\n",
    "                     'email_details_domain_details_accept_all_seon',\n",
    "                     'email_details_domain_details_registered_seon',\n",
    "                     'email_details_domain_details_disposable_seon',\n",
    "                     'email_details_domain_details_spf_strict_seon',\n",
    "                     'email_details_domain_details_website_exists_seon',\n",
    "                     'email_details_domain_details_dmarc_enforced_seon',\n",
    "                     \n",
    "                     'ip_last_seen_days_ekata',\n",
    "                     'primary_email_to_name_ekata',\n",
    "                     'primary_email_first_seen_days_ekata',\n",
    "                     'state_seon',\n",
    "                     'ip_details_score_seon',\n",
    "                     'primary_phone_ip_last_seen_days_ekata',\n",
    "                     'phone_details_score_seon',\n",
    "                     'ip_details_spam_number_seon',\n",
    "                     'primary_email_last_seen_days_ekata',\n",
    "                     'identity_risk_score_ekata',\n",
    "                     'primary_email_domain_creation_date_ekata',\n",
    "                     'ip_risk_score_ekata',\n",
    "                     'ip_primary_address_distance_ekata',\n",
    "                     'identity_network_score_ekata',\n",
    "                     'primary_address_first_seen_days_ekata',\n",
    "                     \n",
    "                     'isFraud',\n",
    "                     \n",
    "                     'days_since_last_transaction',\n",
    "                        'captured', 'denied', 'pending', 'total_orders', 'due', 'unpaid', 'phones', 'emails', 'total_due_unpaid'\n",
    "                     ]\n",
    "\n",
    "identity_cols = ['TransactionID', 'id_number_installments_plans', 'customer_email_orders', 'merchant_name_orders', 'ip_address_orders', \n",
    "                 'user_agent_orders', 'device_fingerprint_orders', 'payment_method_fingerprint_orders', 'payment_method_country_orders', \n",
    "                 'payment_method_bank_orders', 'card_type_cleaned_bin', 'card_brand_cleaned_bin', 'card_level_cleaned_bin', \n",
    "                 'phone_installments_plans', 'final_address_district', 'formatted_address_district', 'state_emirate_district', \n",
    "                 'district_district', 'country_district', 'concatenated_names', 'max_quantity_name', 'full_name_idv', 'identity_number_idv',\n",
    "                 'card_unique_identifier',\n",
    "                 'full_name_customers',\n",
    "                 'full_name_addresses',\n",
    "\n",
    "                 'ip_geolocation_country_code_ekata',\n",
    "                 'email_details_domain_details_registrar_name_seon',\n",
    "                 'email_details_domain_details_registered_to_seon',\n",
    "                 'email_details_domain_details_tld_seon',\n",
    "                 'email_details_domain_details_domain_seon',\n",
    "                 'primary_phone_carrier_ekata',\n",
    "                 'primary_phone_line_type_ekata',\n",
    "                 'ip_connection_type_ekata',\n",
    "                 \n",
    "                 'phone_details_country_seon',\n",
    "                 'phone_details_carrier_seon',\n",
    "                 # 'phone_details_type_seon',\n",
    "                 'ip_details_country_seon',\n",
    "                 'ip_details_city_seon',\n",
    "                 'ip_details_type_seon',\n",
    "                 'ip_details_isp_name_seon',\n",
    "                 'ip_details_state_prov_seon',\n",
    "                 'ip_details_vpn_seon',\n",
    "                 # 'ip_details_tor_seon',\n",
    "                 'email_details_deliverable_seon',\n",
    "                 'email_details_account_details_github_registered_seon',\n",
    "                 'email_details_account_details_facebook_registered_seon',\n",
    "                 'email_details_account_details_spotify_registered_seon',\n",
    "                 'email_details_account_details_google_registered_seon',\n",
    "                 'email_details_account_details_pinterest_registered_seon',\n",
    "                 'email_details_account_details_instagram_registered_seon',\n",
    "                 'email_details_account_details_microsoft_registered_seon',\n",
    "                 'email_details_account_details_apple_registered_seon',\n",
    "                 'email_details_account_details_twitter_registered_seon',\n",
    "                 \n",
    "                 # 'secondary_address_validity_level_ekata', \n",
    "                 # 'primary_phone_valid_ekata', \n",
    "                 'primary_address_validity_level_ekata', \n",
    "                 'ip_risk_ekata',   'primary_email_valid_ekata', 'primary_phone_to_name_ekata',\n",
    "                    \n",
    "                  'primary_address_to_name_ekata',  \n",
    "                 # 'phone_details_valid_seon',\n",
    "                 \n",
    "                  'phone_details_account_details_whatsapp_registered_seon',\n",
    "                 'phone_details_account_details_twitter_registered_seon',\n",
    "                 # 'phone_details_account_details_yahoo_registered_seon',\n",
    "                 'phone_details_account_details_facebook_registered_seon',\n",
    "                 'phone_details_account_details_telegram_registered_seon',\n",
    "                 'phone_details_account_details_instagram_registered_seon',\n",
    "                 'phone_details_account_details_google_registered_seon', 'ip_details_public_proxy_seon', \n",
    "                 # 'ip_details_web_proxy_seon',\n",
    "                  \n",
    "\n",
    "                 \n",
    "                 \n",
    "                 \n",
    "                 \n",
    "                 \n",
    "                 \n",
    "                 'email_details_breach_details_first_breach_seon',\n",
    "                 'email_details_breach_details_haveibeenpwned_listed_seon',\n",
    "                 \n",
    "                 \n",
    "                 ]\n"
   ],
   "metadata": {
    "collapsed": false,
    "ExecuteTime": {
     "end_time": "2024-11-07T22:43:02.063603Z",
     "start_time": "2024-11-07T22:43:02.050411Z"
    }
   },
   "id": "b486aa6312e732eb",
   "outputs": [],
   "execution_count": 119
  },
  {
   "metadata": {},
   "cell_type": "code",
   "outputs": [],
   "execution_count": null,
   "source": "preprocessedData_dir = cwd / \"preprocessedData\"",
   "id": "8a3eecf3d27957f1"
  },
  {
   "cell_type": "code",
   "source": [
    "full_transaction = full_dataset[transactions_cols]\n",
    "full_identity = full_dataset[identity_cols]\n",
    "\n",
    "train_transaction = dataset_train[transactions_cols]\n",
    "train_identity = dataset_train[identity_cols]\n",
    "\n",
    "dev_transaction = dataset_dev[transactions_cols]\n",
    "dev_identity = dataset_dev[identity_cols]\n",
    "\n",
    "test_transaction = dataset_test[transactions_cols]\n",
    "test_identity = dataset_test[identity_cols]"
   ],
   "metadata": {
    "collapsed": false,
    "ExecuteTime": {
     "end_time": "2024-11-07T22:48:11.476175Z",
     "start_time": "2024-11-07T22:48:10.272652Z"
    }
   },
   "id": "9daef3844c2f6d55",
   "outputs": [],
   "execution_count": 120
  },
  {
   "cell_type": "code",
   "source": [
    "full_transaction.to_csv(preprocessedData_dir / 'full_transaction.csv', index=False)\n",
    "full_identity.to_csv(preprocessedData_dir / 'full_identity.csv', index=False)\n",
    "\n",
    "train_transaction.to_csv(preprocessedData_dir / 'train_transaction.csv', index=False)\n",
    "train_identity.to_csv(preprocessedData_dir / 'train_identity.csv', index=False)\n",
    "\n",
    "dev_transaction.to_csv(preprocessedData_dir / 'dev_transaction.csv', index=False)\n",
    "dev_identity.to_csv(preprocessedData_dir / 'dev_identity.csv', index=False)\n",
    "\n",
    "test_transaction.to_csv(preprocessedData_dir / 'test_transaction.csv', index=False)\n",
    "test_identity.to_csv(preprocessedData_dir / 'test_identity.csv', index=False)"
   ],
   "metadata": {
    "collapsed": false,
    "ExecuteTime": {
     "end_time": "2024-11-07T22:48:34.473218Z",
     "start_time": "2024-11-07T22:48:16.355138Z"
    }
   },
   "id": "6ec8fab1ebf2c8ff",
   "outputs": [],
   "execution_count": 121
  },
  {
   "cell_type": "code",
   "source": "# train_transaction.describe(include='all')",
   "metadata": {
    "collapsed": false,
    "ExecuteTime": {
     "end_time": "2024-11-07T22:53:26.763765Z",
     "start_time": "2024-11-07T22:53:26.761660Z"
    }
   },
   "id": "66c28eec97948baf",
   "outputs": [],
   "execution_count": 123
  }
 ],
 "metadata": {
  "kernelspec": {
   "display_name": "Python 3",
   "language": "python",
   "name": "python3"
  },
  "language_info": {
   "codemirror_mode": {
    "name": "ipython",
    "version": 2
   },
   "file_extension": ".py",
   "mimetype": "text/x-python",
   "name": "python",
   "nbconvert_exporter": "python",
   "pygments_lexer": "ipython2",
   "version": "2.7.6"
  }
 },
 "nbformat": 4,
 "nbformat_minor": 5
}
