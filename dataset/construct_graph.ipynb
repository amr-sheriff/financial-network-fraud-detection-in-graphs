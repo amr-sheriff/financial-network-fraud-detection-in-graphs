{
 "cells": [
  {
   "metadata": {
    "ExecuteTime": {
     "end_time": "2024-11-12T19:29:06.944837Z",
     "start_time": "2024-11-12T19:29:06.939312Z"
    }
   },
   "cell_type": "code",
   "source": [
    "from pathlib import Path\n",
    "\n",
    "cwd = Path.cwd()\n",
    "\n",
    "processedDataDir = cwd / 'preprocessedData'\n",
    "graphDataDir = cwd / 'GraphProcessedData'\n",
    "graphDir = cwd / 'graphs'"
   ],
   "id": "22316ca7c968f35e",
   "outputs": [],
   "execution_count": 1
  },
  {
   "cell_type": "code",
   "id": "initial_id",
   "metadata": {
    "collapsed": true,
    "ExecuteTime": {
     "end_time": "2024-11-08T03:31:26.426443Z",
     "start_time": "2024-11-08T03:31:05.250285Z"
    }
   },
   "source": "! python3 GraphProcessor.py --data-dir $processedDataDir --output-dir $graphDataDir --id-cols 'place_of_issue_idv,sex_idv,employer_idv,occupation_group_idv,nationality_code_idv' --cat-cols 'category_merchantcategory,checkout_type_orders,num_instalments_orders,is_apple_pay_orders,card_expires_before_tenure,email_details_domain_details_suspicious_tld_seon,email_details_domain_details_custom_seon,email_details_domain_details_valid_mx_seon,email_details_domain_details_accept_all_seon,email_details_domain_details_registered_seon,email_details_domain_details_disposable_seon,email_details_domain_details_spf_strict_seon,email_details_domain_details_website_exists_seon,email_details_domain_details_dmarc_enforced_seon,primary_email_to_name_ekata,state_seon' --num-cols \"TransactionAmt,TransactionDT,customer_date_joined,payment_method_expires,date_of_birth_cleaned,payment_method_expires_in_months,total_quantity,max_quantity,date_of_expiry_formatted_idv\" --setting transductive --normalize",
   "outputs": [
    {
     "name": "stdout",
     "output_type": "stream",
     "text": [
      "/Users/amrachraf/Projects/financial-network-fraud-detection-in-graphs/dataset/GraphProcessor.py:43: DtypeWarning: Columns (1) have mixed types. Specify dtype option on import or set low_memory=False.\r\n",
      "  identity_df = pd.read_csv(os.path.join(args.data_dir, args.identity))\r\n",
      "2024-11-08 07:31:09,732 INFO root: Shape of transaction data is (291385, 60)\r\n",
      "2024-11-08 07:31:09,732 INFO root: Shape of identity data is (291385, 66)\r\n",
      "2024-11-08 07:31:09,732 INFO root: # Tagged transactions: 291385\r\n",
      "2024-11-08 07:31:09,740 INFO root: Percent fraud for all transactions: 2.71%\r\n",
      "2024-11-08 07:31:09,759 INFO root: Fitted StandardScaler on columns: ['TransactionAmt', 'TransactionDT', 'customer_date_joined', 'payment_method_expires', 'date_of_birth_cleaned', 'payment_method_expires_in_months', 'total_quantity', 'max_quantity', 'date_of_expiry_formatted_idv']\r\n",
      "2024-11-08 07:31:09,851 INFO root: Fitted OneHotEncoder on columns: ['category_merchantcategory', 'checkout_type_orders', 'num_instalments_orders', 'is_apple_pay_orders', 'card_expires_before_tenure', 'email_details_domain_details_suspicious_tld_seon', 'email_details_domain_details_custom_seon', 'email_details_domain_details_valid_mx_seon', 'email_details_domain_details_accept_all_seon', 'email_details_domain_details_registered_seon', 'email_details_domain_details_disposable_seon', 'email_details_domain_details_spf_strict_seon', 'email_details_domain_details_website_exists_seon', 'email_details_domain_details_dmarc_enforced_seon', 'primary_email_to_name_ekata', 'state_seon']\r\n",
      "2024-11-08 07:31:09,861 INFO root: Transformed numerical features, shape: (291385, 9)\r\n",
      "2024-11-08 07:31:10,276 INFO root: Transformed categorical features, shape: (291385, 76)\r\n",
      "2024-11-08 07:31:10,374 INFO root: Combined feature shape: (291385, 85)\r\n",
      "2024-11-08 07:31:15,968 INFO root: Generating relation files...\r\n",
      "2024-11-08 07:31:15,968 INFO root: Found the following distinct relation types: ['place_of_issue_idv', 'sex_idv', 'employer_idv', 'occupation_group_idv', 'nationality_code_idv', 'id_number_installments_plans', 'customer_email_orders', 'merchant_name_orders', 'ip_address_orders', 'user_agent_orders', 'device_fingerprint_orders', 'payment_method_fingerprint_orders', 'payment_method_country_orders', 'payment_method_bank_orders', 'card_type_cleaned_bin', 'card_brand_cleaned_bin', 'card_level_cleaned_bin', 'phone_installments_plans', 'final_address_district', 'formatted_address_district', 'state_emirate_district', 'district_district', 'country_district', 'concatenated_names', 'max_quantity_name', 'full_name_idv', 'identity_number_idv', 'card_unique_identifier', 'full_name_customers', 'full_name_addresses', 'ip_geolocation_country_code_ekata', 'email_details_domain_details_registrar_name_seon', 'email_details_domain_details_registered_to_seon', 'email_details_domain_details_tld_seon', 'email_details_domain_details_domain_seon', 'primary_phone_carrier_ekata', 'primary_phone_line_type_ekata', 'ip_connection_type_ekata', 'phone_details_country_seon', 'phone_details_carrier_seon', 'ip_details_country_seon', 'ip_details_city_seon', 'ip_details_type_seon', 'ip_details_isp_name_seon', 'ip_details_state_prov_seon', 'ip_details_vpn_seon', 'email_details_deliverable_seon', 'email_details_account_details_github_registered_seon', 'email_details_account_details_facebook_registered_seon', 'email_details_account_details_spotify_registered_seon', 'email_details_account_details_google_registered_seon', 'email_details_account_details_pinterest_registered_seon', 'email_details_account_details_instagram_registered_seon', 'email_details_account_details_microsoft_registered_seon', 'email_details_account_details_apple_registered_seon', 'email_details_account_details_twitter_registered_seon', 'primary_address_validity_level_ekata', 'ip_risk_ekata', 'primary_email_valid_ekata', 'primary_phone_to_name_ekata', 'primary_address_to_name_ekata', 'phone_details_account_details_whatsapp_registered_seon', 'phone_details_account_details_twitter_registered_seon', 'phone_details_account_details_facebook_registered_seon', 'phone_details_account_details_telegram_registered_seon', 'phone_details_account_details_instagram_registered_seon', 'phone_details_account_details_google_registered_seon', 'ip_details_public_proxy_seon', 'email_details_breach_details_first_breach_seon', 'email_details_breach_details_haveibeenpwned_listed_seon']\r\n",
      "2024-11-08 07:31:16,290 INFO root: Shape of merged identity data: (291385, 71)\r\n",
      "2024-11-08 07:31:16,400 INFO root: Wrote edgelist to: /Users/amrachraf/Projects/financial-network-fraud-detection-in-graphs/dataset/GraphProcessedData/relation_place_of_issue_idv_edgelist.csv\r\n",
      "2024-11-08 07:31:16,400 INFO root: Number of edges for relation place_of_issue_idv: 291385\r\n",
      "2024-11-08 07:31:16,511 INFO root: Wrote edgelist to: /Users/amrachraf/Projects/financial-network-fraud-detection-in-graphs/dataset/GraphProcessedData/relation_sex_idv_edgelist.csv\r\n",
      "2024-11-08 07:31:16,511 INFO root: Number of edges for relation sex_idv: 291385\r\n",
      "2024-11-08 07:31:16,625 INFO root: Wrote edgelist to: /Users/amrachraf/Projects/financial-network-fraud-detection-in-graphs/dataset/GraphProcessedData/relation_employer_idv_edgelist.csv\r\n",
      "2024-11-08 07:31:16,625 INFO root: Number of edges for relation employer_idv: 291385\r\n",
      "2024-11-08 07:31:16,736 INFO root: Wrote edgelist to: /Users/amrachraf/Projects/financial-network-fraud-detection-in-graphs/dataset/GraphProcessedData/relation_occupation_group_idv_edgelist.csv\r\n",
      "2024-11-08 07:31:16,736 INFO root: Number of edges for relation occupation_group_idv: 291385\r\n",
      "2024-11-08 07:31:16,847 INFO root: Wrote edgelist to: /Users/amrachraf/Projects/financial-network-fraud-detection-in-graphs/dataset/GraphProcessedData/relation_nationality_code_idv_edgelist.csv\r\n",
      "2024-11-08 07:31:16,847 INFO root: Number of edges for relation nationality_code_idv: 291385\r\n",
      "2024-11-08 07:31:17,021 INFO root: Wrote edgelist to: /Users/amrachraf/Projects/financial-network-fraud-detection-in-graphs/dataset/GraphProcessedData/relation_id_number_installments_plans_edgelist.csv\r\n",
      "2024-11-08 07:31:17,022 INFO root: Number of edges for relation id_number_installments_plans: 291385\r\n",
      "2024-11-08 07:31:17,192 INFO root: Wrote edgelist to: /Users/amrachraf/Projects/financial-network-fraud-detection-in-graphs/dataset/GraphProcessedData/relation_customer_email_orders_edgelist.csv\r\n",
      "2024-11-08 07:31:17,192 INFO root: Number of edges for relation customer_email_orders: 291385\r\n",
      "2024-11-08 07:31:17,320 INFO root: Wrote edgelist to: /Users/amrachraf/Projects/financial-network-fraud-detection-in-graphs/dataset/GraphProcessedData/relation_merchant_name_orders_edgelist.csv\r\n",
      "2024-11-08 07:31:17,320 INFO root: Number of edges for relation merchant_name_orders: 291385\r\n",
      "2024-11-08 07:31:17,490 INFO root: Wrote edgelist to: /Users/amrachraf/Projects/financial-network-fraud-detection-in-graphs/dataset/GraphProcessedData/relation_ip_address_orders_edgelist.csv\r\n",
      "2024-11-08 07:31:17,490 INFO root: Number of edges for relation ip_address_orders: 291385\r\n",
      "2024-11-08 07:31:17,908 INFO root: Wrote edgelist to: /Users/amrachraf/Projects/financial-network-fraud-detection-in-graphs/dataset/GraphProcessedData/relation_user_agent_orders_edgelist.csv\r\n",
      "2024-11-08 07:31:17,909 INFO root: Number of edges for relation user_agent_orders: 291385\r\n",
      "2024-11-08 07:31:18,100 INFO root: Wrote edgelist to: /Users/amrachraf/Projects/financial-network-fraud-detection-in-graphs/dataset/GraphProcessedData/relation_device_fingerprint_orders_edgelist.csv\r\n",
      "2024-11-08 07:31:18,100 INFO root: Number of edges for relation device_fingerprint_orders: 291385\r\n",
      "2024-11-08 07:31:18,324 INFO root: Wrote edgelist to: /Users/amrachraf/Projects/financial-network-fraud-detection-in-graphs/dataset/GraphProcessedData/relation_payment_method_fingerprint_orders_edgelist.csv\r\n",
      "2024-11-08 07:31:18,324 INFO root: Number of edges for relation payment_method_fingerprint_orders: 291385\r\n",
      "2024-11-08 07:31:18,423 INFO root: Wrote edgelist to: /Users/amrachraf/Projects/financial-network-fraud-detection-in-graphs/dataset/GraphProcessedData/relation_payment_method_country_orders_edgelist.csv\r\n",
      "2024-11-08 07:31:18,423 INFO root: Number of edges for relation payment_method_country_orders: 291385\r\n",
      "2024-11-08 07:31:18,597 INFO root: Wrote edgelist to: /Users/amrachraf/Projects/financial-network-fraud-detection-in-graphs/dataset/GraphProcessedData/relation_payment_method_bank_orders_edgelist.csv\r\n",
      "2024-11-08 07:31:18,597 INFO root: Number of edges for relation payment_method_bank_orders: 291385\r\n",
      "2024-11-08 07:31:18,703 INFO root: Wrote edgelist to: /Users/amrachraf/Projects/financial-network-fraud-detection-in-graphs/dataset/GraphProcessedData/relation_card_type_cleaned_bin_edgelist.csv\r\n",
      "2024-11-08 07:31:18,703 INFO root: Number of edges for relation card_type_cleaned_bin: 291385\r\n",
      "2024-11-08 07:31:18,821 INFO root: Wrote edgelist to: /Users/amrachraf/Projects/financial-network-fraud-detection-in-graphs/dataset/GraphProcessedData/relation_card_brand_cleaned_bin_edgelist.csv\r\n",
      "2024-11-08 07:31:18,821 INFO root: Number of edges for relation card_brand_cleaned_bin: 291385\r\n",
      "2024-11-08 07:31:18,930 INFO root: Wrote edgelist to: /Users/amrachraf/Projects/financial-network-fraud-detection-in-graphs/dataset/GraphProcessedData/relation_card_level_cleaned_bin_edgelist.csv\r\n",
      "2024-11-08 07:31:18,930 INFO root: Number of edges for relation card_level_cleaned_bin: 291385\r\n",
      "2024-11-08 07:31:19,130 INFO root: Wrote edgelist to: /Users/amrachraf/Projects/financial-network-fraud-detection-in-graphs/dataset/GraphProcessedData/relation_phone_installments_plans_edgelist.csv\r\n",
      "2024-11-08 07:31:19,130 INFO root: Number of edges for relation phone_installments_plans: 291385\r\n",
      "2024-11-08 07:31:19,296 INFO root: Wrote edgelist to: /Users/amrachraf/Projects/financial-network-fraud-detection-in-graphs/dataset/GraphProcessedData/relation_final_address_district_edgelist.csv\r\n",
      "2024-11-08 07:31:19,296 INFO root: Number of edges for relation final_address_district: 232410\r\n",
      "2024-11-08 07:31:19,491 INFO root: Wrote edgelist to: /Users/amrachraf/Projects/financial-network-fraud-detection-in-graphs/dataset/GraphProcessedData/relation_formatted_address_district_edgelist.csv\r\n",
      "2024-11-08 07:31:19,491 INFO root: Number of edges for relation formatted_address_district: 291385\r\n",
      "2024-11-08 07:31:19,604 INFO root: Wrote edgelist to: /Users/amrachraf/Projects/financial-network-fraud-detection-in-graphs/dataset/GraphProcessedData/relation_state_emirate_district_edgelist.csv\r\n",
      "2024-11-08 07:31:19,604 INFO root: Number of edges for relation state_emirate_district: 291385\r\n",
      "2024-11-08 07:31:19,724 INFO root: Wrote edgelist to: /Users/amrachraf/Projects/financial-network-fraud-detection-in-graphs/dataset/GraphProcessedData/relation_district_district_edgelist.csv\r\n",
      "2024-11-08 07:31:19,724 INFO root: Number of edges for relation district_district: 291385\r\n",
      "2024-11-08 07:31:19,864 INFO root: Wrote edgelist to: /Users/amrachraf/Projects/financial-network-fraud-detection-in-graphs/dataset/GraphProcessedData/relation_country_district_edgelist.csv\r\n",
      "2024-11-08 07:31:19,864 INFO root: Number of edges for relation country_district: 291385\r\n",
      "2024-11-08 07:31:20,282 INFO root: Wrote edgelist to: /Users/amrachraf/Projects/financial-network-fraud-detection-in-graphs/dataset/GraphProcessedData/relation_concatenated_names_edgelist.csv\r\n",
      "2024-11-08 07:31:20,282 INFO root: Number of edges for relation concatenated_names: 279970\r\n",
      "2024-11-08 07:31:20,567 INFO root: Wrote edgelist to: /Users/amrachraf/Projects/financial-network-fraud-detection-in-graphs/dataset/GraphProcessedData/relation_max_quantity_name_edgelist.csv\r\n",
      "2024-11-08 07:31:20,567 INFO root: Number of edges for relation max_quantity_name: 275355\r\n",
      "2024-11-08 07:31:20,713 INFO root: Wrote edgelist to: /Users/amrachraf/Projects/financial-network-fraud-detection-in-graphs/dataset/GraphProcessedData/relation_full_name_idv_edgelist.csv\r\n",
      "2024-11-08 07:31:20,713 INFO root: Number of edges for relation full_name_idv: 291385\r\n",
      "2024-11-08 07:31:20,861 INFO root: Wrote edgelist to: /Users/amrachraf/Projects/financial-network-fraud-detection-in-graphs/dataset/GraphProcessedData/relation_identity_number_idv_edgelist.csv\r\n",
      "2024-11-08 07:31:20,862 INFO root: Number of edges for relation identity_number_idv: 291385\r\n",
      "2024-11-08 07:31:21,011 INFO root: Wrote edgelist to: /Users/amrachraf/Projects/financial-network-fraud-detection-in-graphs/dataset/GraphProcessedData/relation_card_unique_identifier_edgelist.csv\r\n",
      "2024-11-08 07:31:21,011 INFO root: Number of edges for relation card_unique_identifier: 291385\r\n",
      "2024-11-08 07:31:21,157 INFO root: Wrote edgelist to: /Users/amrachraf/Projects/financial-network-fraud-detection-in-graphs/dataset/GraphProcessedData/relation_full_name_customers_edgelist.csv\r\n",
      "2024-11-08 07:31:21,157 INFO root: Number of edges for relation full_name_customers: 291385\r\n",
      "2024-11-08 07:31:21,330 INFO root: Wrote edgelist to: /Users/amrachraf/Projects/financial-network-fraud-detection-in-graphs/dataset/GraphProcessedData/relation_full_name_addresses_edgelist.csv\r\n",
      "2024-11-08 07:31:21,330 INFO root: Number of edges for relation full_name_addresses: 291385\r\n",
      "2024-11-08 07:31:21,466 INFO root: Wrote edgelist to: /Users/amrachraf/Projects/financial-network-fraud-detection-in-graphs/dataset/GraphProcessedData/relation_ip_geolocation_country_code_ekata_edgelist.csv\r\n",
      "2024-11-08 07:31:21,466 INFO root: Number of edges for relation ip_geolocation_country_code_ekata: 291385\r\n",
      "2024-11-08 07:31:21,588 INFO root: Wrote edgelist to: /Users/amrachraf/Projects/financial-network-fraud-detection-in-graphs/dataset/GraphProcessedData/relation_email_details_domain_details_registrar_name_seon_edgelist.csv\r\n",
      "2024-11-08 07:31:21,589 INFO root: Number of edges for relation email_details_domain_details_registrar_name_seon: 291385\r\n",
      "2024-11-08 07:31:21,781 INFO root: Wrote edgelist to: /Users/amrachraf/Projects/financial-network-fraud-detection-in-graphs/dataset/GraphProcessedData/relation_email_details_domain_details_registered_to_seon_edgelist.csv\r\n",
      "2024-11-08 07:31:21,781 INFO root: Number of edges for relation email_details_domain_details_registered_to_seon: 291385\r\n",
      "2024-11-08 07:31:21,890 INFO root: Wrote edgelist to: /Users/amrachraf/Projects/financial-network-fraud-detection-in-graphs/dataset/GraphProcessedData/relation_email_details_domain_details_tld_seon_edgelist.csv\r\n",
      "2024-11-08 07:31:21,890 INFO root: Number of edges for relation email_details_domain_details_tld_seon: 291385\r\n",
      "2024-11-08 07:31:22,009 INFO root: Wrote edgelist to: /Users/amrachraf/Projects/financial-network-fraud-detection-in-graphs/dataset/GraphProcessedData/relation_email_details_domain_details_domain_seon_edgelist.csv\r\n",
      "2024-11-08 07:31:22,009 INFO root: Number of edges for relation email_details_domain_details_domain_seon: 291385\r\n",
      "2024-11-08 07:31:22,125 INFO root: Wrote edgelist to: /Users/amrachraf/Projects/financial-network-fraud-detection-in-graphs/dataset/GraphProcessedData/relation_primary_phone_carrier_ekata_edgelist.csv\r\n",
      "2024-11-08 07:31:22,125 INFO root: Number of edges for relation primary_phone_carrier_ekata: 291385\r\n",
      "2024-11-08 07:31:22,228 INFO root: Wrote edgelist to: /Users/amrachraf/Projects/financial-network-fraud-detection-in-graphs/dataset/GraphProcessedData/relation_primary_phone_line_type_ekata_edgelist.csv\r\n",
      "2024-11-08 07:31:22,228 INFO root: Number of edges for relation primary_phone_line_type_ekata: 291385\r\n",
      "2024-11-08 07:31:22,362 INFO root: Wrote edgelist to: /Users/amrachraf/Projects/financial-network-fraud-detection-in-graphs/dataset/GraphProcessedData/relation_ip_connection_type_ekata_edgelist.csv\r\n",
      "2024-11-08 07:31:22,362 INFO root: Number of edges for relation ip_connection_type_ekata: 291385\r\n",
      "2024-11-08 07:31:22,476 INFO root: Wrote edgelist to: /Users/amrachraf/Projects/financial-network-fraud-detection-in-graphs/dataset/GraphProcessedData/relation_phone_details_country_seon_edgelist.csv\r\n",
      "2024-11-08 07:31:22,476 INFO root: Number of edges for relation phone_details_country_seon: 291385\r\n",
      "2024-11-08 07:31:22,594 INFO root: Wrote edgelist to: /Users/amrachraf/Projects/financial-network-fraud-detection-in-graphs/dataset/GraphProcessedData/relation_phone_details_carrier_seon_edgelist.csv\r\n",
      "2024-11-08 07:31:22,594 INFO root: Number of edges for relation phone_details_carrier_seon: 291385\r\n",
      "2024-11-08 07:31:22,701 INFO root: Wrote edgelist to: /Users/amrachraf/Projects/financial-network-fraud-detection-in-graphs/dataset/GraphProcessedData/relation_ip_details_country_seon_edgelist.csv\r\n",
      "2024-11-08 07:31:22,702 INFO root: Number of edges for relation ip_details_country_seon: 291385\r\n",
      "2024-11-08 07:31:22,814 INFO root: Wrote edgelist to: /Users/amrachraf/Projects/financial-network-fraud-detection-in-graphs/dataset/GraphProcessedData/relation_ip_details_city_seon_edgelist.csv\r\n",
      "2024-11-08 07:31:22,814 INFO root: Number of edges for relation ip_details_city_seon: 291385\r\n",
      "2024-11-08 07:31:22,926 INFO root: Wrote edgelist to: /Users/amrachraf/Projects/financial-network-fraud-detection-in-graphs/dataset/GraphProcessedData/relation_ip_details_type_seon_edgelist.csv\r\n",
      "2024-11-08 07:31:22,926 INFO root: Number of edges for relation ip_details_type_seon: 291385\r\n",
      "2024-11-08 07:31:23,047 INFO root: Wrote edgelist to: /Users/amrachraf/Projects/financial-network-fraud-detection-in-graphs/dataset/GraphProcessedData/relation_ip_details_isp_name_seon_edgelist.csv\r\n",
      "2024-11-08 07:31:23,047 INFO root: Number of edges for relation ip_details_isp_name_seon: 291385\r\n",
      "2024-11-08 07:31:23,160 INFO root: Wrote edgelist to: /Users/amrachraf/Projects/financial-network-fraud-detection-in-graphs/dataset/GraphProcessedData/relation_ip_details_state_prov_seon_edgelist.csv\r\n",
      "2024-11-08 07:31:23,161 INFO root: Number of edges for relation ip_details_state_prov_seon: 291385\r\n",
      "2024-11-08 07:31:23,273 INFO root: Wrote edgelist to: /Users/amrachraf/Projects/financial-network-fraud-detection-in-graphs/dataset/GraphProcessedData/relation_ip_details_vpn_seon_edgelist.csv\r\n",
      "2024-11-08 07:31:23,273 INFO root: Number of edges for relation ip_details_vpn_seon: 291385\r\n",
      "2024-11-08 07:31:23,376 INFO root: Wrote edgelist to: /Users/amrachraf/Projects/financial-network-fraud-detection-in-graphs/dataset/GraphProcessedData/relation_email_details_deliverable_seon_edgelist.csv\r\n",
      "2024-11-08 07:31:23,376 INFO root: Number of edges for relation email_details_deliverable_seon: 291385\r\n",
      "2024-11-08 07:31:23,486 INFO root: Wrote edgelist to: /Users/amrachraf/Projects/financial-network-fraud-detection-in-graphs/dataset/GraphProcessedData/relation_email_details_account_details_github_registered_seon_edgelist.csv\r\n",
      "2024-11-08 07:31:23,486 INFO root: Number of edges for relation email_details_account_details_github_registered_seon: 291385\r\n",
      "2024-11-08 07:31:23,602 INFO root: Wrote edgelist to: /Users/amrachraf/Projects/financial-network-fraud-detection-in-graphs/dataset/GraphProcessedData/relation_email_details_account_details_facebook_registered_seon_edgelist.csv\r\n",
      "2024-11-08 07:31:23,602 INFO root: Number of edges for relation email_details_account_details_facebook_registered_seon: 291385\r\n",
      "2024-11-08 07:31:23,714 INFO root: Wrote edgelist to: /Users/amrachraf/Projects/financial-network-fraud-detection-in-graphs/dataset/GraphProcessedData/relation_email_details_account_details_spotify_registered_seon_edgelist.csv\r\n",
      "2024-11-08 07:31:23,714 INFO root: Number of edges for relation email_details_account_details_spotify_registered_seon: 291385\r\n",
      "2024-11-08 07:31:23,839 INFO root: Wrote edgelist to: /Users/amrachraf/Projects/financial-network-fraud-detection-in-graphs/dataset/GraphProcessedData/relation_email_details_account_details_google_registered_seon_edgelist.csv\r\n",
      "2024-11-08 07:31:23,839 INFO root: Number of edges for relation email_details_account_details_google_registered_seon: 291385\r\n",
      "2024-11-08 07:31:23,951 INFO root: Wrote edgelist to: /Users/amrachraf/Projects/financial-network-fraud-detection-in-graphs/dataset/GraphProcessedData/relation_email_details_account_details_pinterest_registered_seon_edgelist.csv\r\n",
      "2024-11-08 07:31:23,951 INFO root: Number of edges for relation email_details_account_details_pinterest_registered_seon: 291385\r\n",
      "2024-11-08 07:31:24,069 INFO root: Wrote edgelist to: /Users/amrachraf/Projects/financial-network-fraud-detection-in-graphs/dataset/GraphProcessedData/relation_email_details_account_details_instagram_registered_seon_edgelist.csv\r\n",
      "2024-11-08 07:31:24,069 INFO root: Number of edges for relation email_details_account_details_instagram_registered_seon: 291385\r\n",
      "2024-11-08 07:31:24,183 INFO root: Wrote edgelist to: /Users/amrachraf/Projects/financial-network-fraud-detection-in-graphs/dataset/GraphProcessedData/relation_email_details_account_details_microsoft_registered_seon_edgelist.csv\r\n",
      "2024-11-08 07:31:24,183 INFO root: Number of edges for relation email_details_account_details_microsoft_registered_seon: 291385\r\n",
      "2024-11-08 07:31:24,293 INFO root: Wrote edgelist to: /Users/amrachraf/Projects/financial-network-fraud-detection-in-graphs/dataset/GraphProcessedData/relation_email_details_account_details_apple_registered_seon_edgelist.csv\r\n",
      "2024-11-08 07:31:24,293 INFO root: Number of edges for relation email_details_account_details_apple_registered_seon: 291385\r\n",
      "2024-11-08 07:31:24,408 INFO root: Wrote edgelist to: /Users/amrachraf/Projects/financial-network-fraud-detection-in-graphs/dataset/GraphProcessedData/relation_email_details_account_details_twitter_registered_seon_edgelist.csv\r\n",
      "2024-11-08 07:31:24,408 INFO root: Number of edges for relation email_details_account_details_twitter_registered_seon: 291385\r\n",
      "2024-11-08 07:31:24,525 INFO root: Wrote edgelist to: /Users/amrachraf/Projects/financial-network-fraud-detection-in-graphs/dataset/GraphProcessedData/relation_primary_address_validity_level_ekata_edgelist.csv\r\n",
      "2024-11-08 07:31:24,525 INFO root: Number of edges for relation primary_address_validity_level_ekata: 291385\r\n",
      "2024-11-08 07:31:24,637 INFO root: Wrote edgelist to: /Users/amrachraf/Projects/financial-network-fraud-detection-in-graphs/dataset/GraphProcessedData/relation_ip_risk_ekata_edgelist.csv\r\n",
      "2024-11-08 07:31:24,637 INFO root: Number of edges for relation ip_risk_ekata: 291385\r\n",
      "2024-11-08 07:31:24,741 INFO root: Wrote edgelist to: /Users/amrachraf/Projects/financial-network-fraud-detection-in-graphs/dataset/GraphProcessedData/relation_primary_email_valid_ekata_edgelist.csv\r\n",
      "2024-11-08 07:31:24,742 INFO root: Number of edges for relation primary_email_valid_ekata: 291385\r\n",
      "2024-11-08 07:31:24,869 INFO root: Wrote edgelist to: /Users/amrachraf/Projects/financial-network-fraud-detection-in-graphs/dataset/GraphProcessedData/relation_primary_phone_to_name_ekata_edgelist.csv\r\n",
      "2024-11-08 07:31:24,869 INFO root: Number of edges for relation primary_phone_to_name_ekata: 291385\r\n",
      "2024-11-08 07:31:24,980 INFO root: Wrote edgelist to: /Users/amrachraf/Projects/financial-network-fraud-detection-in-graphs/dataset/GraphProcessedData/relation_primary_address_to_name_ekata_edgelist.csv\r\n",
      "2024-11-08 07:31:24,980 INFO root: Number of edges for relation primary_address_to_name_ekata: 291385\r\n",
      "2024-11-08 07:31:25,090 INFO root: Wrote edgelist to: /Users/amrachraf/Projects/financial-network-fraud-detection-in-graphs/dataset/GraphProcessedData/relation_phone_details_account_details_whatsapp_registered_seon_edgelist.csv\r\n",
      "2024-11-08 07:31:25,090 INFO root: Number of edges for relation phone_details_account_details_whatsapp_registered_seon: 291385\r\n",
      "2024-11-08 07:31:25,199 INFO root: Wrote edgelist to: /Users/amrachraf/Projects/financial-network-fraud-detection-in-graphs/dataset/GraphProcessedData/relation_phone_details_account_details_twitter_registered_seon_edgelist.csv\r\n",
      "2024-11-08 07:31:25,199 INFO root: Number of edges for relation phone_details_account_details_twitter_registered_seon: 291385\r\n",
      "2024-11-08 07:31:25,324 INFO root: Wrote edgelist to: /Users/amrachraf/Projects/financial-network-fraud-detection-in-graphs/dataset/GraphProcessedData/relation_phone_details_account_details_facebook_registered_seon_edgelist.csv\r\n",
      "2024-11-08 07:31:25,324 INFO root: Number of edges for relation phone_details_account_details_facebook_registered_seon: 291385\r\n",
      "2024-11-08 07:31:25,435 INFO root: Wrote edgelist to: /Users/amrachraf/Projects/financial-network-fraud-detection-in-graphs/dataset/GraphProcessedData/relation_phone_details_account_details_telegram_registered_seon_edgelist.csv\r\n",
      "2024-11-08 07:31:25,435 INFO root: Number of edges for relation phone_details_account_details_telegram_registered_seon: 291385\r\n",
      "2024-11-08 07:31:25,547 INFO root: Wrote edgelist to: /Users/amrachraf/Projects/financial-network-fraud-detection-in-graphs/dataset/GraphProcessedData/relation_phone_details_account_details_instagram_registered_seon_edgelist.csv\r\n",
      "2024-11-08 07:31:25,547 INFO root: Number of edges for relation phone_details_account_details_instagram_registered_seon: 291385\r\n",
      "2024-11-08 07:31:25,663 INFO root: Wrote edgelist to: /Users/amrachraf/Projects/financial-network-fraud-detection-in-graphs/dataset/GraphProcessedData/relation_phone_details_account_details_google_registered_seon_edgelist.csv\r\n",
      "2024-11-08 07:31:25,663 INFO root: Number of edges for relation phone_details_account_details_google_registered_seon: 291385\r\n",
      "2024-11-08 07:31:25,776 INFO root: Wrote edgelist to: /Users/amrachraf/Projects/financial-network-fraud-detection-in-graphs/dataset/GraphProcessedData/relation_ip_details_public_proxy_seon_edgelist.csv\r\n",
      "2024-11-08 07:31:25,776 INFO root: Number of edges for relation ip_details_public_proxy_seon: 291385\r\n",
      "2024-11-08 07:31:25,950 INFO root: Wrote edgelist to: /Users/amrachraf/Projects/financial-network-fraud-detection-in-graphs/dataset/GraphProcessedData/relation_email_details_breach_details_first_breach_seon_edgelist.csv\r\n",
      "2024-11-08 07:31:25,950 INFO root: Number of edges for relation email_details_breach_details_first_breach_seon: 291385\r\n",
      "2024-11-08 07:31:26,061 INFO root: Wrote edgelist to: /Users/amrachraf/Projects/financial-network-fraud-detection-in-graphs/dataset/GraphProcessedData/relation_email_details_breach_details_haveibeenpwned_listed_seon_edgelist.csv\r\n",
      "2024-11-08 07:31:26,061 INFO root: Number of edges for relation email_details_breach_details_haveibeenpwned_listed_seon: 291385\r\n",
      "2024-11-08 07:31:26,106 INFO root: Saved num_scaler to: /Users/amrachraf/Projects/financial-network-fraud-detection-in-graphs/dataset/GraphProcessedData/num_scaler.pkl\r\n",
      "2024-11-08 07:31:26,106 INFO root: Saved cat_encoder to: /Users/amrachraf/Projects/financial-network-fraud-detection-in-graphs/dataset/GraphProcessedData/cat_encoder.pkl\r\n",
      "2024-11-08 07:31:26,106 INFO root: Processing completed successfully\r\n"
     ]
    }
   ],
   "execution_count": 9
  },
  {
   "metadata": {
    "ExecuteTime": {
     "end_time": "2024-11-12T08:24:52.166683Z",
     "start_time": "2024-11-12T08:18:36.469550Z"
    }
   },
   "cell_type": "code",
   "source": "! python3 GraphConstructor_v2.py --data-dir $graphDataDir --output-dir $graphDir --setting transductive --train-ratio 0.8 --val-ratio 0.1 --random-seed 42 --target-node-type transaction",
   "id": "d922004f0bc98323",
   "outputs": [
    {
     "name": "stdout",
     "output_type": "stream",
     "text": [
      "2024-11-12 12:18:40,167 INFO __main__: Processing graph in transductive setting...\r\n",
      "2024-11-12 12:18:41,023 INFO __main__: Found files matching pattern relation_*_edgelist.csv: ['/Users/amrachraf/Projects/financial-network-fraud-detection-in-graphs/dataset/GraphProcessedData/relation_country_district_edgelist.csv', '/Users/amrachraf/Projects/financial-network-fraud-detection-in-graphs/dataset/GraphProcessedData/relation_card_unique_identifier_edgelist.csv', '/Users/amrachraf/Projects/financial-network-fraud-detection-in-graphs/dataset/GraphProcessedData/relation_place_of_issue_idv_edgelist.csv', '/Users/amrachraf/Projects/financial-network-fraud-detection-in-graphs/dataset/GraphProcessedData/relation_email_details_account_details_apple_registered_seon_edgelist.csv', '/Users/amrachraf/Projects/financial-network-fraud-detection-in-graphs/dataset/GraphProcessedData/relation_ip_details_state_prov_seon_edgelist.csv', '/Users/amrachraf/Projects/financial-network-fraud-detection-in-graphs/dataset/GraphProcessedData/relation_payment_method_bank_orders_edgelist.csv', '/Users/amrachraf/Projects/financial-network-fraud-detection-in-graphs/dataset/GraphProcessedData/relation_full_name_idv_edgelist.csv', '/Users/amrachraf/Projects/financial-network-fraud-detection-in-graphs/dataset/GraphProcessedData/relation_email_details_domain_details_domain_seon_edgelist.csv', '/Users/amrachraf/Projects/financial-network-fraud-detection-in-graphs/dataset/GraphProcessedData/relation_final_address_district_edgelist.csv', '/Users/amrachraf/Projects/financial-network-fraud-detection-in-graphs/dataset/GraphProcessedData/relation_ip_details_isp_name_seon_edgelist.csv', '/Users/amrachraf/Projects/financial-network-fraud-detection-in-graphs/dataset/GraphProcessedData/relation_email_details_domain_details_registrar_name_seon_edgelist.csv', '/Users/amrachraf/Projects/financial-network-fraud-detection-in-graphs/dataset/GraphProcessedData/relation_card_brand_cleaned_bin_edgelist.csv', '/Users/amrachraf/Projects/financial-network-fraud-detection-in-graphs/dataset/GraphProcessedData/relation_email_details_account_details_instagram_registered_seon_edgelist.csv', '/Users/amrachraf/Projects/financial-network-fraud-detection-in-graphs/dataset/GraphProcessedData/relation_phone_installments_plans_edgelist.csv', '/Users/amrachraf/Projects/financial-network-fraud-detection-in-graphs/dataset/GraphProcessedData/relation_primary_email_valid_ekata_edgelist.csv', '/Users/amrachraf/Projects/financial-network-fraud-detection-in-graphs/dataset/GraphProcessedData/relation_phone_details_carrier_seon_edgelist.csv', '/Users/amrachraf/Projects/financial-network-fraud-detection-in-graphs/dataset/GraphProcessedData/relation_email_details_breach_details_haveibeenpwned_listed_seon_edgelist.csv', '/Users/amrachraf/Projects/financial-network-fraud-detection-in-graphs/dataset/GraphProcessedData/relation_phone_details_account_details_twitter_registered_seon_edgelist.csv', '/Users/amrachraf/Projects/financial-network-fraud-detection-in-graphs/dataset/GraphProcessedData/relation_email_details_deliverable_seon_edgelist.csv', '/Users/amrachraf/Projects/financial-network-fraud-detection-in-graphs/dataset/GraphProcessedData/relation_user_agent_orders_edgelist.csv', '/Users/amrachraf/Projects/financial-network-fraud-detection-in-graphs/dataset/GraphProcessedData/relation_sex_idv_edgelist.csv', '/Users/amrachraf/Projects/financial-network-fraud-detection-in-graphs/dataset/GraphProcessedData/relation_ip_address_orders_edgelist.csv', '/Users/amrachraf/Projects/financial-network-fraud-detection-in-graphs/dataset/GraphProcessedData/relation_concatenated_names_edgelist.csv', '/Users/amrachraf/Projects/financial-network-fraud-detection-in-graphs/dataset/GraphProcessedData/relation_employer_idv_edgelist.csv', '/Users/amrachraf/Projects/financial-network-fraud-detection-in-graphs/dataset/GraphProcessedData/relation_device_fingerprint_orders_edgelist.csv', '/Users/amrachraf/Projects/financial-network-fraud-detection-in-graphs/dataset/GraphProcessedData/relation_identity_number_idv_edgelist.csv', '/Users/amrachraf/Projects/financial-network-fraud-detection-in-graphs/dataset/GraphProcessedData/relation_email_details_account_details_pinterest_registered_seon_edgelist.csv', '/Users/amrachraf/Projects/financial-network-fraud-detection-in-graphs/dataset/GraphProcessedData/relation_state_emirate_district_edgelist.csv', '/Users/amrachraf/Projects/financial-network-fraud-detection-in-graphs/dataset/GraphProcessedData/relation_email_details_domain_details_tld_seon_edgelist.csv', '/Users/amrachraf/Projects/financial-network-fraud-detection-in-graphs/dataset/GraphProcessedData/relation_occupation_group_idv_edgelist.csv', '/Users/amrachraf/Projects/financial-network-fraud-detection-in-graphs/dataset/GraphProcessedData/relation_ip_geolocation_country_code_ekata_edgelist.csv', '/Users/amrachraf/Projects/financial-network-fraud-detection-in-graphs/dataset/GraphProcessedData/relation_email_details_account_details_spotify_registered_seon_edgelist.csv', '/Users/amrachraf/Projects/financial-network-fraud-detection-in-graphs/dataset/GraphProcessedData/relation_card_type_cleaned_bin_edgelist.csv', '/Users/amrachraf/Projects/financial-network-fraud-detection-in-graphs/dataset/GraphProcessedData/relation_email_details_domain_details_registered_to_seon_edgelist.csv', '/Users/amrachraf/Projects/financial-network-fraud-detection-in-graphs/dataset/GraphProcessedData/relation_phone_details_account_details_whatsapp_registered_seon_edgelist.csv', '/Users/amrachraf/Projects/financial-network-fraud-detection-in-graphs/dataset/GraphProcessedData/relation_primary_phone_line_type_ekata_edgelist.csv', '/Users/amrachraf/Projects/financial-network-fraud-detection-in-graphs/dataset/GraphProcessedData/relation_phone_details_account_details_facebook_registered_seon_edgelist.csv', '/Users/amrachraf/Projects/financial-network-fraud-detection-in-graphs/dataset/GraphProcessedData/relation_max_quantity_name_edgelist.csv', '/Users/amrachraf/Projects/financial-network-fraud-detection-in-graphs/dataset/GraphProcessedData/relation_primary_address_to_name_ekata_edgelist.csv', '/Users/amrachraf/Projects/financial-network-fraud-detection-in-graphs/dataset/GraphProcessedData/relation_primary_address_validity_level_ekata_edgelist.csv', '/Users/amrachraf/Projects/financial-network-fraud-detection-in-graphs/dataset/GraphProcessedData/relation_card_level_cleaned_bin_edgelist.csv', '/Users/amrachraf/Projects/financial-network-fraud-detection-in-graphs/dataset/GraphProcessedData/relation_full_name_addresses_edgelist.csv', '/Users/amrachraf/Projects/financial-network-fraud-detection-in-graphs/dataset/GraphProcessedData/relation_ip_risk_ekata_edgelist.csv', '/Users/amrachraf/Projects/financial-network-fraud-detection-in-graphs/dataset/GraphProcessedData/relation_phone_details_account_details_instagram_registered_seon_edgelist.csv', '/Users/amrachraf/Projects/financial-network-fraud-detection-in-graphs/dataset/GraphProcessedData/relation_email_details_account_details_twitter_registered_seon_edgelist.csv', '/Users/amrachraf/Projects/financial-network-fraud-detection-in-graphs/dataset/GraphProcessedData/relation_phone_details_account_details_telegram_registered_seon_edgelist.csv', '/Users/amrachraf/Projects/financial-network-fraud-detection-in-graphs/dataset/GraphProcessedData/relation_district_district_edgelist.csv', '/Users/amrachraf/Projects/financial-network-fraud-detection-in-graphs/dataset/GraphProcessedData/relation_email_details_account_details_microsoft_registered_seon_edgelist.csv', '/Users/amrachraf/Projects/financial-network-fraud-detection-in-graphs/dataset/GraphProcessedData/relation_phone_details_country_seon_edgelist.csv', '/Users/amrachraf/Projects/financial-network-fraud-detection-in-graphs/dataset/GraphProcessedData/relation_ip_details_country_seon_edgelist.csv', '/Users/amrachraf/Projects/financial-network-fraud-detection-in-graphs/dataset/GraphProcessedData/relation_ip_details_vpn_seon_edgelist.csv', '/Users/amrachraf/Projects/financial-network-fraud-detection-in-graphs/dataset/GraphProcessedData/relation_email_details_account_details_facebook_registered_seon_edgelist.csv', '/Users/amrachraf/Projects/financial-network-fraud-detection-in-graphs/dataset/GraphProcessedData/relation_nationality_code_idv_edgelist.csv', '/Users/amrachraf/Projects/financial-network-fraud-detection-in-graphs/dataset/GraphProcessedData/relation_formatted_address_district_edgelist.csv', '/Users/amrachraf/Projects/financial-network-fraud-detection-in-graphs/dataset/GraphProcessedData/relation_id_number_installments_plans_edgelist.csv', '/Users/amrachraf/Projects/financial-network-fraud-detection-in-graphs/dataset/GraphProcessedData/relation_email_details_breach_details_first_breach_seon_edgelist.csv', '/Users/amrachraf/Projects/financial-network-fraud-detection-in-graphs/dataset/GraphProcessedData/relation_payment_method_fingerprint_orders_edgelist.csv', '/Users/amrachraf/Projects/financial-network-fraud-detection-in-graphs/dataset/GraphProcessedData/relation_ip_details_city_seon_edgelist.csv', '/Users/amrachraf/Projects/financial-network-fraud-detection-in-graphs/dataset/GraphProcessedData/relation_phone_details_account_details_google_registered_seon_edgelist.csv', '/Users/amrachraf/Projects/financial-network-fraud-detection-in-graphs/dataset/GraphProcessedData/relation_email_details_account_details_google_registered_seon_edgelist.csv', '/Users/amrachraf/Projects/financial-network-fraud-detection-in-graphs/dataset/GraphProcessedData/relation_full_name_customers_edgelist.csv', '/Users/amrachraf/Projects/financial-network-fraud-detection-in-graphs/dataset/GraphProcessedData/relation_payment_method_country_orders_edgelist.csv', '/Users/amrachraf/Projects/financial-network-fraud-detection-in-graphs/dataset/GraphProcessedData/relation_primary_phone_to_name_ekata_edgelist.csv', '/Users/amrachraf/Projects/financial-network-fraud-detection-in-graphs/dataset/GraphProcessedData/relation_email_details_account_details_github_registered_seon_edgelist.csv', '/Users/amrachraf/Projects/financial-network-fraud-detection-in-graphs/dataset/GraphProcessedData/relation_primary_phone_carrier_ekata_edgelist.csv', '/Users/amrachraf/Projects/financial-network-fraud-detection-in-graphs/dataset/GraphProcessedData/relation_merchant_name_orders_edgelist.csv', '/Users/amrachraf/Projects/financial-network-fraud-detection-in-graphs/dataset/GraphProcessedData/relation_ip_connection_type_ekata_edgelist.csv', '/Users/amrachraf/Projects/financial-network-fraud-detection-in-graphs/dataset/GraphProcessedData/relation_customer_email_orders_edgelist.csv', '/Users/amrachraf/Projects/financial-network-fraud-detection-in-graphs/dataset/GraphProcessedData/relation_ip_details_type_seon_edgelist.csv', '/Users/amrachraf/Projects/financial-network-fraud-detection-in-graphs/dataset/GraphProcessedData/relation_ip_details_public_proxy_seon_edgelist.csv']\r\n",
      "2024-11-12 12:18:41,025 INFO __main__: Found 70 relation files\r\n",
      "2024-11-12 12:18:41,025 INFO __main__: Processing edge files...\r\n",
      "2024-11-12 12:18:41,058 INFO __main__: Processing relation: country_district\r\n",
      "2024-11-12 12:18:41,106 INFO __main__: Loaded 291385 edges for relation country_district\r\n",
      "2024-11-12 12:18:45,757 INFO __main__: Created edge tensors for relation country_district\r\n",
      "2024-11-12 12:18:45,757 INFO __main__: Processing relation: card_unique_identifier\r\n",
      "2024-11-12 12:18:45,827 INFO __main__: Loaded 291385 edges for relation card_unique_identifier\r\n",
      "2024-11-12 12:18:50,297 INFO __main__: Created edge tensors for relation card_unique_identifier\r\n",
      "2024-11-12 12:18:50,297 INFO __main__: Processing relation: place_of_issue_idv\r\n",
      "2024-11-12 12:18:50,328 INFO __main__: Loaded 291385 edges for relation place_of_issue_idv\r\n",
      "2024-11-12 12:18:54,654 INFO __main__: Created edge tensors for relation place_of_issue_idv\r\n",
      "2024-11-12 12:18:54,654 INFO __main__: Processing relation: email_details_account_details_apple_registered_seon\r\n",
      "2024-11-12 12:18:54,691 INFO __main__: Loaded 291385 edges for relation email_details_account_details_apple_registered_seon\r\n",
      "2024-11-12 12:18:58,994 INFO __main__: Created edge tensors for relation email_details_account_details_apple_registered_seon\r\n",
      "2024-11-12 12:18:58,995 INFO __main__: Processing relation: ip_details_state_prov_seon\r\n",
      "2024-11-12 12:18:59,028 INFO __main__: Loaded 291385 edges for relation ip_details_state_prov_seon\r\n",
      "2024-11-12 12:19:03,337 INFO __main__: Created edge tensors for relation ip_details_state_prov_seon\r\n",
      "2024-11-12 12:19:03,337 INFO __main__: Processing relation: payment_method_bank_orders\r\n",
      "2024-11-12 12:19:03,389 INFO __main__: Loaded 291385 edges for relation payment_method_bank_orders\r\n",
      "2024-11-12 12:19:07,768 INFO __main__: Created edge tensors for relation payment_method_bank_orders\r\n",
      "2024-11-12 12:19:07,769 INFO __main__: Processing relation: full_name_idv\r\n",
      "2024-11-12 12:19:07,804 INFO __main__: Loaded 291385 edges for relation full_name_idv\r\n",
      "2024-11-12 12:19:12,248 INFO __main__: Created edge tensors for relation full_name_idv\r\n",
      "2024-11-12 12:19:12,248 INFO __main__: Processing relation: email_details_domain_details_domain_seon\r\n",
      "2024-11-12 12:19:12,279 INFO __main__: Loaded 291385 edges for relation email_details_domain_details_domain_seon\r\n",
      "2024-11-12 12:19:16,751 INFO __main__: Created edge tensors for relation email_details_domain_details_domain_seon\r\n",
      "2024-11-12 12:19:16,751 INFO __main__: Processing relation: final_address_district\r\n",
      "2024-11-12 12:19:16,835 INFO __main__: Loaded 232410 edges for relation final_address_district\r\n",
      "2024-11-12 12:19:20,423 INFO __main__: Created edge tensors for relation final_address_district\r\n",
      "2024-11-12 12:19:20,423 INFO __main__: Processing relation: ip_details_isp_name_seon\r\n",
      "2024-11-12 12:19:20,455 INFO __main__: Loaded 291385 edges for relation ip_details_isp_name_seon\r\n",
      "2024-11-12 12:19:24,923 INFO __main__: Created edge tensors for relation ip_details_isp_name_seon\r\n",
      "2024-11-12 12:19:24,923 INFO __main__: Processing relation: email_details_domain_details_registrar_name_seon\r\n",
      "2024-11-12 12:19:24,956 INFO __main__: Loaded 291385 edges for relation email_details_domain_details_registrar_name_seon\r\n",
      "2024-11-12 12:19:29,411 INFO __main__: Created edge tensors for relation email_details_domain_details_registrar_name_seon\r\n",
      "2024-11-12 12:19:29,411 INFO __main__: Processing relation: card_brand_cleaned_bin\r\n",
      "2024-11-12 12:19:29,444 INFO __main__: Loaded 291385 edges for relation card_brand_cleaned_bin\r\n",
      "2024-11-12 12:19:33,889 INFO __main__: Created edge tensors for relation card_brand_cleaned_bin\r\n",
      "2024-11-12 12:19:33,889 INFO __main__: Processing relation: email_details_account_details_instagram_registered_seon\r\n",
      "2024-11-12 12:19:33,920 INFO __main__: Loaded 291385 edges for relation email_details_account_details_instagram_registered_seon\r\n",
      "2024-11-12 12:19:38,374 INFO __main__: Created edge tensors for relation email_details_account_details_instagram_registered_seon\r\n",
      "2024-11-12 12:19:38,374 INFO __main__: Processing relation: phone_installments_plans\r\n",
      "2024-11-12 12:19:38,413 INFO __main__: Loaded 291385 edges for relation phone_installments_plans\r\n",
      "2024-11-12 12:19:42,316 INFO __main__: Created edge tensors for relation phone_installments_plans\r\n",
      "2024-11-12 12:19:42,316 INFO __main__: Processing relation: primary_email_valid_ekata\r\n",
      "2024-11-12 12:19:42,345 INFO __main__: Loaded 291385 edges for relation primary_email_valid_ekata\r\n",
      "2024-11-12 12:19:46,793 INFO __main__: Created edge tensors for relation primary_email_valid_ekata\r\n",
      "2024-11-12 12:19:46,793 INFO __main__: Processing relation: phone_details_carrier_seon\r\n",
      "2024-11-12 12:19:46,824 INFO __main__: Loaded 291385 edges for relation phone_details_carrier_seon\r\n",
      "2024-11-12 12:19:51,300 INFO __main__: Created edge tensors for relation phone_details_carrier_seon\r\n",
      "2024-11-12 12:19:51,300 INFO __main__: Processing relation: email_details_breach_details_haveibeenpwned_listed_seon\r\n",
      "2024-11-12 12:19:51,331 INFO __main__: Loaded 291385 edges for relation email_details_breach_details_haveibeenpwned_listed_seon\r\n",
      "2024-11-12 12:19:55,824 INFO __main__: Created edge tensors for relation email_details_breach_details_haveibeenpwned_listed_seon\r\n",
      "2024-11-12 12:19:55,824 INFO __main__: Processing relation: phone_details_account_details_twitter_registered_seon\r\n",
      "2024-11-12 12:19:55,854 INFO __main__: Loaded 291385 edges for relation phone_details_account_details_twitter_registered_seon\r\n",
      "2024-11-12 12:20:00,313 INFO __main__: Created edge tensors for relation phone_details_account_details_twitter_registered_seon\r\n",
      "2024-11-12 12:20:00,313 INFO __main__: Processing relation: email_details_deliverable_seon\r\n",
      "2024-11-12 12:20:00,343 INFO __main__: Loaded 291385 edges for relation email_details_deliverable_seon\r\n",
      "2024-11-12 12:20:04,820 INFO __main__: Created edge tensors for relation email_details_deliverable_seon\r\n",
      "2024-11-12 12:20:04,820 INFO __main__: Processing relation: user_agent_orders\r\n",
      "2024-11-12 12:20:04,982 INFO __main__: Loaded 291385 edges for relation user_agent_orders\r\n",
      "2024-11-12 12:20:09,482 INFO __main__: Created edge tensors for relation user_agent_orders\r\n",
      "2024-11-12 12:20:09,482 INFO __main__: Processing relation: sex_idv\r\n",
      "2024-11-12 12:20:09,513 INFO __main__: Loaded 291385 edges for relation sex_idv\r\n",
      "2024-11-12 12:20:13,966 INFO __main__: Created edge tensors for relation sex_idv\r\n",
      "2024-11-12 12:20:13,966 INFO __main__: Processing relation: ip_address_orders\r\n",
      "2024-11-12 12:20:14,076 INFO __main__: Loaded 291385 edges for relation ip_address_orders\r\n",
      "2024-11-12 12:20:18,578 INFO __main__: Created edge tensors for relation ip_address_orders\r\n",
      "2024-11-12 12:20:18,578 INFO __main__: Processing relation: concatenated_names\r\n",
      "2024-11-12 12:20:18,792 INFO __main__: Loaded 279970 edges for relation concatenated_names\r\n",
      "2024-11-12 12:20:23,135 INFO __main__: Created edge tensors for relation concatenated_names\r\n",
      "2024-11-12 12:20:23,135 INFO __main__: Processing relation: employer_idv\r\n",
      "2024-11-12 12:20:23,168 INFO __main__: Loaded 291385 edges for relation employer_idv\r\n",
      "2024-11-12 12:20:27,644 INFO __main__: Created edge tensors for relation employer_idv\r\n",
      "2024-11-12 12:20:27,644 INFO __main__: Processing relation: device_fingerprint_orders\r\n",
      "2024-11-12 12:20:27,723 INFO __main__: Loaded 291385 edges for relation device_fingerprint_orders\r\n",
      "2024-11-12 12:20:32,275 INFO __main__: Created edge tensors for relation device_fingerprint_orders\r\n",
      "2024-11-12 12:20:32,276 INFO __main__: Processing relation: identity_number_idv\r\n",
      "2024-11-12 12:20:32,305 INFO __main__: Loaded 291385 edges for relation identity_number_idv\r\n",
      "2024-11-12 12:20:36,797 INFO __main__: Created edge tensors for relation identity_number_idv\r\n",
      "2024-11-12 12:20:36,797 INFO __main__: Processing relation: email_details_account_details_pinterest_registered_seon\r\n",
      "2024-11-12 12:20:36,827 INFO __main__: Loaded 291385 edges for relation email_details_account_details_pinterest_registered_seon\r\n",
      "2024-11-12 12:20:41,286 INFO __main__: Created edge tensors for relation email_details_account_details_pinterest_registered_seon\r\n",
      "2024-11-12 12:20:41,286 INFO __main__: Processing relation: state_emirate_district\r\n",
      "2024-11-12 12:20:41,317 INFO __main__: Loaded 291385 edges for relation state_emirate_district\r\n",
      "2024-11-12 12:20:45,812 INFO __main__: Created edge tensors for relation state_emirate_district\r\n",
      "2024-11-12 12:20:45,812 INFO __main__: Processing relation: email_details_domain_details_tld_seon\r\n",
      "2024-11-12 12:20:45,842 INFO __main__: Loaded 291385 edges for relation email_details_domain_details_tld_seon\r\n",
      "2024-11-12 12:20:50,314 INFO __main__: Created edge tensors for relation email_details_domain_details_tld_seon\r\n",
      "2024-11-12 12:20:50,314 INFO __main__: Processing relation: occupation_group_idv\r\n",
      "2024-11-12 12:20:50,344 INFO __main__: Loaded 291385 edges for relation occupation_group_idv\r\n",
      "2024-11-12 12:20:54,807 INFO __main__: Created edge tensors for relation occupation_group_idv\r\n",
      "2024-11-12 12:20:54,807 INFO __main__: Processing relation: ip_geolocation_country_code_ekata\r\n",
      "2024-11-12 12:20:54,836 INFO __main__: Loaded 291385 edges for relation ip_geolocation_country_code_ekata\r\n",
      "2024-11-12 12:20:59,336 INFO __main__: Created edge tensors for relation ip_geolocation_country_code_ekata\r\n",
      "2024-11-12 12:20:59,336 INFO __main__: Processing relation: email_details_account_details_spotify_registered_seon\r\n",
      "2024-11-12 12:20:59,367 INFO __main__: Loaded 291385 edges for relation email_details_account_details_spotify_registered_seon\r\n",
      "2024-11-12 12:21:03,822 INFO __main__: Created edge tensors for relation email_details_account_details_spotify_registered_seon\r\n",
      "2024-11-12 12:21:03,823 INFO __main__: Processing relation: card_type_cleaned_bin\r\n",
      "2024-11-12 12:21:03,851 INFO __main__: Loaded 291385 edges for relation card_type_cleaned_bin\r\n",
      "2024-11-12 12:21:08,347 INFO __main__: Created edge tensors for relation card_type_cleaned_bin\r\n",
      "2024-11-12 12:21:08,347 INFO __main__: Processing relation: email_details_domain_details_registered_to_seon\r\n",
      "2024-11-12 12:21:08,377 INFO __main__: Loaded 291385 edges for relation email_details_domain_details_registered_to_seon\r\n",
      "2024-11-12 12:21:12,860 INFO __main__: Created edge tensors for relation email_details_domain_details_registered_to_seon\r\n",
      "2024-11-12 12:21:12,860 INFO __main__: Processing relation: phone_details_account_details_whatsapp_registered_seon\r\n",
      "2024-11-12 12:21:12,892 INFO __main__: Loaded 291385 edges for relation phone_details_account_details_whatsapp_registered_seon\r\n",
      "2024-11-12 12:21:17,381 INFO __main__: Created edge tensors for relation phone_details_account_details_whatsapp_registered_seon\r\n",
      "2024-11-12 12:21:17,382 INFO __main__: Processing relation: primary_phone_line_type_ekata\r\n",
      "2024-11-12 12:21:17,415 INFO __main__: Loaded 291385 edges for relation primary_phone_line_type_ekata\r\n",
      "2024-11-12 12:21:21,893 INFO __main__: Created edge tensors for relation primary_phone_line_type_ekata\r\n",
      "2024-11-12 12:21:21,894 INFO __main__: Processing relation: phone_details_account_details_facebook_registered_seon\r\n",
      "2024-11-12 12:21:21,924 INFO __main__: Loaded 291385 edges for relation phone_details_account_details_facebook_registered_seon\r\n",
      "2024-11-12 12:21:26,433 INFO __main__: Created edge tensors for relation phone_details_account_details_facebook_registered_seon\r\n",
      "2024-11-12 12:21:26,433 INFO __main__: Processing relation: max_quantity_name\r\n",
      "2024-11-12 12:21:26,509 INFO __main__: Loaded 275355 edges for relation max_quantity_name\r\n",
      "2024-11-12 12:21:30,750 INFO __main__: Created edge tensors for relation max_quantity_name\r\n",
      "2024-11-12 12:21:30,750 INFO __main__: Processing relation: primary_address_to_name_ekata\r\n",
      "2024-11-12 12:21:30,780 INFO __main__: Loaded 291385 edges for relation primary_address_to_name_ekata\r\n",
      "2024-11-12 12:21:35,261 INFO __main__: Created edge tensors for relation primary_address_to_name_ekata\r\n",
      "2024-11-12 12:21:35,261 INFO __main__: Processing relation: primary_address_validity_level_ekata\r\n",
      "2024-11-12 12:21:35,295 INFO __main__: Loaded 291385 edges for relation primary_address_validity_level_ekata\r\n",
      "2024-11-12 12:21:39,794 INFO __main__: Created edge tensors for relation primary_address_validity_level_ekata\r\n",
      "2024-11-12 12:21:39,794 INFO __main__: Processing relation: card_level_cleaned_bin\r\n",
      "2024-11-12 12:21:39,825 INFO __main__: Loaded 291385 edges for relation card_level_cleaned_bin\r\n",
      "2024-11-12 12:21:44,323 INFO __main__: Created edge tensors for relation card_level_cleaned_bin\r\n",
      "2024-11-12 12:21:44,323 INFO __main__: Processing relation: full_name_addresses\r\n",
      "2024-11-12 12:21:44,395 INFO __main__: Loaded 291385 edges for relation full_name_addresses\r\n",
      "2024-11-12 12:21:48,969 INFO __main__: Created edge tensors for relation full_name_addresses\r\n",
      "2024-11-12 12:21:48,969 INFO __main__: Processing relation: ip_risk_ekata\r\n",
      "2024-11-12 12:21:49,000 INFO __main__: Loaded 291385 edges for relation ip_risk_ekata\r\n",
      "2024-11-12 12:21:53,485 INFO __main__: Created edge tensors for relation ip_risk_ekata\r\n",
      "2024-11-12 12:21:53,485 INFO __main__: Processing relation: phone_details_account_details_instagram_registered_seon\r\n",
      "2024-11-12 12:21:53,514 INFO __main__: Loaded 291385 edges for relation phone_details_account_details_instagram_registered_seon\r\n",
      "2024-11-12 12:21:57,977 INFO __main__: Created edge tensors for relation phone_details_account_details_instagram_registered_seon\r\n",
      "2024-11-12 12:21:57,977 INFO __main__: Processing relation: email_details_account_details_twitter_registered_seon\r\n",
      "2024-11-12 12:21:58,009 INFO __main__: Loaded 291385 edges for relation email_details_account_details_twitter_registered_seon\r\n",
      "2024-11-12 12:22:02,447 INFO __main__: Created edge tensors for relation email_details_account_details_twitter_registered_seon\r\n",
      "2024-11-12 12:22:02,447 INFO __main__: Processing relation: phone_details_account_details_telegram_registered_seon\r\n",
      "2024-11-12 12:22:02,478 INFO __main__: Loaded 291385 edges for relation phone_details_account_details_telegram_registered_seon\r\n",
      "2024-11-12 12:22:06,927 INFO __main__: Created edge tensors for relation phone_details_account_details_telegram_registered_seon\r\n",
      "2024-11-12 12:22:06,927 INFO __main__: Processing relation: district_district\r\n",
      "2024-11-12 12:22:06,966 INFO __main__: Loaded 291385 edges for relation district_district\r\n",
      "2024-11-12 12:22:11,445 INFO __main__: Created edge tensors for relation district_district\r\n",
      "2024-11-12 12:22:11,445 INFO __main__: Processing relation: email_details_account_details_microsoft_registered_seon\r\n",
      "2024-11-12 12:22:11,474 INFO __main__: Loaded 291385 edges for relation email_details_account_details_microsoft_registered_seon\r\n",
      "2024-11-12 12:22:15,911 INFO __main__: Created edge tensors for relation email_details_account_details_microsoft_registered_seon\r\n",
      "2024-11-12 12:22:15,911 INFO __main__: Processing relation: phone_details_country_seon\r\n",
      "2024-11-12 12:22:15,941 INFO __main__: Loaded 291385 edges for relation phone_details_country_seon\r\n",
      "2024-11-12 12:22:20,411 INFO __main__: Created edge tensors for relation phone_details_country_seon\r\n",
      "2024-11-12 12:22:20,411 INFO __main__: Processing relation: ip_details_country_seon\r\n",
      "2024-11-12 12:22:20,441 INFO __main__: Loaded 291385 edges for relation ip_details_country_seon\r\n",
      "2024-11-12 12:22:24,811 INFO __main__: Created edge tensors for relation ip_details_country_seon\r\n",
      "2024-11-12 12:22:24,811 INFO __main__: Processing relation: ip_details_vpn_seon\r\n",
      "2024-11-12 12:22:24,841 INFO __main__: Loaded 291385 edges for relation ip_details_vpn_seon\r\n",
      "2024-11-12 12:22:29,188 INFO __main__: Created edge tensors for relation ip_details_vpn_seon\r\n",
      "2024-11-12 12:22:29,188 INFO __main__: Processing relation: email_details_account_details_facebook_registered_seon\r\n",
      "2024-11-12 12:22:29,217 INFO __main__: Loaded 291385 edges for relation email_details_account_details_facebook_registered_seon\r\n",
      "2024-11-12 12:22:33,617 INFO __main__: Created edge tensors for relation email_details_account_details_facebook_registered_seon\r\n",
      "2024-11-12 12:22:33,617 INFO __main__: Processing relation: nationality_code_idv\r\n",
      "2024-11-12 12:22:33,647 INFO __main__: Loaded 291385 edges for relation nationality_code_idv\r\n",
      "2024-11-12 12:22:38,096 INFO __main__: Created edge tensors for relation nationality_code_idv\r\n",
      "2024-11-12 12:22:38,096 INFO __main__: Processing relation: formatted_address_district\r\n",
      "2024-11-12 12:22:38,171 INFO __main__: Loaded 291385 edges for relation formatted_address_district\r\n",
      "2024-11-12 12:22:42,612 INFO __main__: Created edge tensors for relation formatted_address_district\r\n",
      "2024-11-12 12:22:42,612 INFO __main__: Processing relation: id_number_installments_plans\r\n",
      "2024-11-12 12:22:42,686 INFO __main__: Loaded 291385 edges for relation id_number_installments_plans\r\n",
      "2024-11-12 12:22:47,180 INFO __main__: Created edge tensors for relation id_number_installments_plans\r\n",
      "2024-11-12 12:22:47,180 INFO __main__: Processing relation: email_details_breach_details_first_breach_seon\r\n",
      "2024-11-12 12:22:47,211 INFO __main__: Loaded 291385 edges for relation email_details_breach_details_first_breach_seon\r\n",
      "2024-11-12 12:22:51,072 INFO __main__: Created edge tensors for relation email_details_breach_details_first_breach_seon\r\n",
      "2024-11-12 12:22:51,072 INFO __main__: Processing relation: payment_method_fingerprint_orders\r\n",
      "2024-11-12 12:22:51,186 INFO __main__: Loaded 291385 edges for relation payment_method_fingerprint_orders\r\n",
      "2024-11-12 12:22:55,663 INFO __main__: Created edge tensors for relation payment_method_fingerprint_orders\r\n",
      "2024-11-12 12:22:55,663 INFO __main__: Processing relation: ip_details_city_seon\r\n",
      "2024-11-12 12:22:55,695 INFO __main__: Loaded 291385 edges for relation ip_details_city_seon\r\n",
      "2024-11-12 12:23:00,115 INFO __main__: Created edge tensors for relation ip_details_city_seon\r\n",
      "2024-11-12 12:23:00,115 INFO __main__: Processing relation: phone_details_account_details_google_registered_seon\r\n",
      "2024-11-12 12:23:00,145 INFO __main__: Loaded 291385 edges for relation phone_details_account_details_google_registered_seon\r\n",
      "2024-11-12 12:23:04,567 INFO __main__: Created edge tensors for relation phone_details_account_details_google_registered_seon\r\n",
      "2024-11-12 12:23:04,567 INFO __main__: Processing relation: email_details_account_details_google_registered_seon\r\n",
      "2024-11-12 12:23:04,598 INFO __main__: Loaded 291385 edges for relation email_details_account_details_google_registered_seon\r\n",
      "2024-11-12 12:23:09,049 INFO __main__: Created edge tensors for relation email_details_account_details_google_registered_seon\r\n",
      "2024-11-12 12:23:09,049 INFO __main__: Processing relation: full_name_customers\r\n",
      "2024-11-12 12:23:09,126 INFO __main__: Loaded 291385 edges for relation full_name_customers\r\n",
      "2024-11-12 12:23:13,626 INFO __main__: Created edge tensors for relation full_name_customers\r\n",
      "2024-11-12 12:23:13,626 INFO __main__: Processing relation: payment_method_country_orders\r\n",
      "2024-11-12 12:23:13,652 INFO __main__: Loaded 291385 edges for relation payment_method_country_orders\r\n",
      "2024-11-12 12:23:18,058 INFO __main__: Created edge tensors for relation payment_method_country_orders\r\n",
      "2024-11-12 12:23:18,058 INFO __main__: Processing relation: primary_phone_to_name_ekata\r\n",
      "2024-11-12 12:23:18,090 INFO __main__: Loaded 291385 edges for relation primary_phone_to_name_ekata\r\n",
      "2024-11-12 12:23:22,523 INFO __main__: Created edge tensors for relation primary_phone_to_name_ekata\r\n",
      "2024-11-12 12:23:22,523 INFO __main__: Processing relation: email_details_account_details_github_registered_seon\r\n",
      "2024-11-12 12:23:22,552 INFO __main__: Loaded 291385 edges for relation email_details_account_details_github_registered_seon\r\n",
      "2024-11-12 12:23:26,974 INFO __main__: Created edge tensors for relation email_details_account_details_github_registered_seon\r\n",
      "2024-11-12 12:23:26,974 INFO __main__: Processing relation: primary_phone_carrier_ekata\r\n",
      "2024-11-12 12:23:27,005 INFO __main__: Loaded 291385 edges for relation primary_phone_carrier_ekata\r\n",
      "2024-11-12 12:23:31,376 INFO __main__: Created edge tensors for relation primary_phone_carrier_ekata\r\n",
      "2024-11-12 12:23:31,376 INFO __main__: Processing relation: merchant_name_orders\r\n",
      "2024-11-12 12:23:31,415 INFO __main__: Loaded 291385 edges for relation merchant_name_orders\r\n",
      "2024-11-12 12:23:35,795 INFO __main__: Created edge tensors for relation merchant_name_orders\r\n",
      "2024-11-12 12:23:35,795 INFO __main__: Processing relation: ip_connection_type_ekata\r\n",
      "2024-11-12 12:23:35,825 INFO __main__: Loaded 291385 edges for relation ip_connection_type_ekata\r\n",
      "2024-11-12 12:23:40,281 INFO __main__: Created edge tensors for relation ip_connection_type_ekata\r\n",
      "2024-11-12 12:23:40,281 INFO __main__: Processing relation: customer_email_orders\r\n",
      "2024-11-12 12:23:40,362 INFO __main__: Loaded 291385 edges for relation customer_email_orders\r\n",
      "2024-11-12 12:23:44,874 INFO __main__: Created edge tensors for relation customer_email_orders\r\n",
      "2024-11-12 12:23:44,874 INFO __main__: Processing relation: ip_details_type_seon\r\n",
      "2024-11-12 12:23:44,903 INFO __main__: Loaded 291385 edges for relation ip_details_type_seon\r\n",
      "2024-11-12 12:23:49,353 INFO __main__: Created edge tensors for relation ip_details_type_seon\r\n",
      "2024-11-12 12:23:49,353 INFO __main__: Processing relation: ip_details_public_proxy_seon\r\n",
      "2024-11-12 12:23:49,383 INFO __main__: Loaded 291385 edges for relation ip_details_public_proxy_seon\r\n",
      "2024-11-12 12:23:53,851 INFO __main__: Created edge tensors for relation ip_details_public_proxy_seon\r\n",
      "2024-11-12 12:23:53,908 INFO __main__: Split sizes - Train: 233108, Val: 29138, Test: 29139\r\n",
      "2024-11-12 12:23:53,913 INFO __main__: Train set class distribution:\r\n",
      "2024-11-12 12:23:53,913 INFO __main__:   Class 0: 226783 samples, 97.29%\r\n",
      "2024-11-12 12:23:53,913 INFO __main__:   Class 1: 6325 samples, 2.71%\r\n",
      "2024-11-12 12:23:53,913 INFO __main__: Validation set class distribution:\r\n",
      "2024-11-12 12:23:53,913 INFO __main__:   Class 0: 28348 samples, 97.29%\r\n",
      "2024-11-12 12:23:53,913 INFO __main__:   Class 1: 790 samples, 2.71%\r\n",
      "2024-11-12 12:23:53,913 INFO __main__: Test set class distribution:\r\n",
      "2024-11-12 12:23:53,913 INFO __main__:   Class 0: 28348 samples, 97.29%\r\n",
      "2024-11-12 12:23:53,913 INFO __main__:   Class 1: 791 samples, 2.71%\r\n",
      "2024-11-12 12:23:53,913 INFO __main__: Constructing PyG graph...\r\n",
      "2024-11-12 12:23:53,914 INFO __main__: Created PyG graph with node types: ['transaction', 'country_district', 'card_unique_identifier', 'place_of_issue_idv', 'email_details_account_details_apple_registered_seon', 'ip_details_state_prov_seon', 'payment_method_bank_orders', 'full_name_idv', 'email_details_domain_details_domain_seon', 'final_address_district', 'ip_details_isp_name_seon', 'email_details_domain_details_registrar_name_seon', 'card_brand_cleaned_bin', 'email_details_account_details_instagram_registered_seon', 'phone_installments_plans', 'primary_email_valid_ekata', 'phone_details_carrier_seon', 'email_details_breach_details_haveibeenpwned_listed_seon', 'phone_details_account_details_twitter_registered_seon', 'email_details_deliverable_seon', 'user_agent_orders', 'sex_idv', 'ip_address_orders', 'concatenated_names', 'employer_idv', 'device_fingerprint_orders', 'identity_number_idv', 'email_details_account_details_pinterest_registered_seon', 'state_emirate_district', 'email_details_domain_details_tld_seon', 'occupation_group_idv', 'ip_geolocation_country_code_ekata', 'email_details_account_details_spotify_registered_seon', 'card_type_cleaned_bin', 'email_details_domain_details_registered_to_seon', 'phone_details_account_details_whatsapp_registered_seon', 'primary_phone_line_type_ekata', 'phone_details_account_details_facebook_registered_seon', 'max_quantity_name', 'primary_address_to_name_ekata', 'primary_address_validity_level_ekata', 'card_level_cleaned_bin', 'full_name_addresses', 'ip_risk_ekata', 'phone_details_account_details_instagram_registered_seon', 'email_details_account_details_twitter_registered_seon', 'phone_details_account_details_telegram_registered_seon', 'district_district', 'email_details_account_details_microsoft_registered_seon', 'phone_details_country_seon', 'ip_details_country_seon', 'ip_details_vpn_seon', 'email_details_account_details_facebook_registered_seon', 'nationality_code_idv', 'formatted_address_district', 'id_number_installments_plans', 'email_details_breach_details_first_breach_seon', 'payment_method_fingerprint_orders', 'ip_details_city_seon', 'phone_details_account_details_google_registered_seon', 'email_details_account_details_google_registered_seon', 'full_name_customers', 'payment_method_country_orders', 'primary_phone_to_name_ekata', 'email_details_account_details_github_registered_seon', 'primary_phone_carrier_ekata', 'merchant_name_orders', 'ip_connection_type_ekata', 'customer_email_orders', 'ip_details_type_seon', 'ip_details_public_proxy_seon']\r\n",
      "2024-11-12 12:23:53,914 INFO __main__: And edge types: [('transaction', 'has_country_district', 'country_district'), ('country_district', 'rev_has_country_district', 'transaction'), ('transaction', 'has_card_unique_identifier', 'card_unique_identifier'), ('card_unique_identifier', 'rev_has_card_unique_identifier', 'transaction'), ('transaction', 'has_place_of_issue_idv', 'place_of_issue_idv'), ('place_of_issue_idv', 'rev_has_place_of_issue_idv', 'transaction'), ('transaction', 'has_email_details_account_details_apple_registered_seon', 'email_details_account_details_apple_registered_seon'), ('email_details_account_details_apple_registered_seon', 'rev_has_email_details_account_details_apple_registered_seon', 'transaction'), ('transaction', 'has_ip_details_state_prov_seon', 'ip_details_state_prov_seon'), ('ip_details_state_prov_seon', 'rev_has_ip_details_state_prov_seon', 'transaction'), ('transaction', 'has_payment_method_bank_orders', 'payment_method_bank_orders'), ('payment_method_bank_orders', 'rev_has_payment_method_bank_orders', 'transaction'), ('transaction', 'has_full_name_idv', 'full_name_idv'), ('full_name_idv', 'rev_has_full_name_idv', 'transaction'), ('transaction', 'has_email_details_domain_details_domain_seon', 'email_details_domain_details_domain_seon'), ('email_details_domain_details_domain_seon', 'rev_has_email_details_domain_details_domain_seon', 'transaction'), ('transaction', 'has_final_address_district', 'final_address_district'), ('final_address_district', 'rev_has_final_address_district', 'transaction'), ('transaction', 'has_ip_details_isp_name_seon', 'ip_details_isp_name_seon'), ('ip_details_isp_name_seon', 'rev_has_ip_details_isp_name_seon', 'transaction'), ('transaction', 'has_email_details_domain_details_registrar_name_seon', 'email_details_domain_details_registrar_name_seon'), ('email_details_domain_details_registrar_name_seon', 'rev_has_email_details_domain_details_registrar_name_seon', 'transaction'), ('transaction', 'has_card_brand_cleaned_bin', 'card_brand_cleaned_bin'), ('card_brand_cleaned_bin', 'rev_has_card_brand_cleaned_bin', 'transaction'), ('transaction', 'has_email_details_account_details_instagram_registered_seon', 'email_details_account_details_instagram_registered_seon'), ('email_details_account_details_instagram_registered_seon', 'rev_has_email_details_account_details_instagram_registered_seon', 'transaction'), ('transaction', 'has_phone_installments_plans', 'phone_installments_plans'), ('phone_installments_plans', 'rev_has_phone_installments_plans', 'transaction'), ('transaction', 'has_primary_email_valid_ekata', 'primary_email_valid_ekata'), ('primary_email_valid_ekata', 'rev_has_primary_email_valid_ekata', 'transaction'), ('transaction', 'has_phone_details_carrier_seon', 'phone_details_carrier_seon'), ('phone_details_carrier_seon', 'rev_has_phone_details_carrier_seon', 'transaction'), ('transaction', 'has_email_details_breach_details_haveibeenpwned_listed_seon', 'email_details_breach_details_haveibeenpwned_listed_seon'), ('email_details_breach_details_haveibeenpwned_listed_seon', 'rev_has_email_details_breach_details_haveibeenpwned_listed_seon', 'transaction'), ('transaction', 'has_phone_details_account_details_twitter_registered_seon', 'phone_details_account_details_twitter_registered_seon'), ('phone_details_account_details_twitter_registered_seon', 'rev_has_phone_details_account_details_twitter_registered_seon', 'transaction'), ('transaction', 'has_email_details_deliverable_seon', 'email_details_deliverable_seon'), ('email_details_deliverable_seon', 'rev_has_email_details_deliverable_seon', 'transaction'), ('transaction', 'has_user_agent_orders', 'user_agent_orders'), ('user_agent_orders', 'rev_has_user_agent_orders', 'transaction'), ('transaction', 'has_sex_idv', 'sex_idv'), ('sex_idv', 'rev_has_sex_idv', 'transaction'), ('transaction', 'has_ip_address_orders', 'ip_address_orders'), ('ip_address_orders', 'rev_has_ip_address_orders', 'transaction'), ('transaction', 'has_concatenated_names', 'concatenated_names'), ('concatenated_names', 'rev_has_concatenated_names', 'transaction'), ('transaction', 'has_employer_idv', 'employer_idv'), ('employer_idv', 'rev_has_employer_idv', 'transaction'), ('transaction', 'has_device_fingerprint_orders', 'device_fingerprint_orders'), ('device_fingerprint_orders', 'rev_has_device_fingerprint_orders', 'transaction'), ('transaction', 'has_identity_number_idv', 'identity_number_idv'), ('identity_number_idv', 'rev_has_identity_number_idv', 'transaction'), ('transaction', 'has_email_details_account_details_pinterest_registered_seon', 'email_details_account_details_pinterest_registered_seon'), ('email_details_account_details_pinterest_registered_seon', 'rev_has_email_details_account_details_pinterest_registered_seon', 'transaction'), ('transaction', 'has_state_emirate_district', 'state_emirate_district'), ('state_emirate_district', 'rev_has_state_emirate_district', 'transaction'), ('transaction', 'has_email_details_domain_details_tld_seon', 'email_details_domain_details_tld_seon'), ('email_details_domain_details_tld_seon', 'rev_has_email_details_domain_details_tld_seon', 'transaction'), ('transaction', 'has_occupation_group_idv', 'occupation_group_idv'), ('occupation_group_idv', 'rev_has_occupation_group_idv', 'transaction'), ('transaction', 'has_ip_geolocation_country_code_ekata', 'ip_geolocation_country_code_ekata'), ('ip_geolocation_country_code_ekata', 'rev_has_ip_geolocation_country_code_ekata', 'transaction'), ('transaction', 'has_email_details_account_details_spotify_registered_seon', 'email_details_account_details_spotify_registered_seon'), ('email_details_account_details_spotify_registered_seon', 'rev_has_email_details_account_details_spotify_registered_seon', 'transaction'), ('transaction', 'has_card_type_cleaned_bin', 'card_type_cleaned_bin'), ('card_type_cleaned_bin', 'rev_has_card_type_cleaned_bin', 'transaction'), ('transaction', 'has_email_details_domain_details_registered_to_seon', 'email_details_domain_details_registered_to_seon'), ('email_details_domain_details_registered_to_seon', 'rev_has_email_details_domain_details_registered_to_seon', 'transaction'), ('transaction', 'has_phone_details_account_details_whatsapp_registered_seon', 'phone_details_account_details_whatsapp_registered_seon'), ('phone_details_account_details_whatsapp_registered_seon', 'rev_has_phone_details_account_details_whatsapp_registered_seon', 'transaction'), ('transaction', 'has_primary_phone_line_type_ekata', 'primary_phone_line_type_ekata'), ('primary_phone_line_type_ekata', 'rev_has_primary_phone_line_type_ekata', 'transaction'), ('transaction', 'has_phone_details_account_details_facebook_registered_seon', 'phone_details_account_details_facebook_registered_seon'), ('phone_details_account_details_facebook_registered_seon', 'rev_has_phone_details_account_details_facebook_registered_seon', 'transaction'), ('transaction', 'has_max_quantity_name', 'max_quantity_name'), ('max_quantity_name', 'rev_has_max_quantity_name', 'transaction'), ('transaction', 'has_primary_address_to_name_ekata', 'primary_address_to_name_ekata'), ('primary_address_to_name_ekata', 'rev_has_primary_address_to_name_ekata', 'transaction'), ('transaction', 'has_primary_address_validity_level_ekata', 'primary_address_validity_level_ekata'), ('primary_address_validity_level_ekata', 'rev_has_primary_address_validity_level_ekata', 'transaction'), ('transaction', 'has_card_level_cleaned_bin', 'card_level_cleaned_bin'), ('card_level_cleaned_bin', 'rev_has_card_level_cleaned_bin', 'transaction'), ('transaction', 'has_full_name_addresses', 'full_name_addresses'), ('full_name_addresses', 'rev_has_full_name_addresses', 'transaction'), ('transaction', 'has_ip_risk_ekata', 'ip_risk_ekata'), ('ip_risk_ekata', 'rev_has_ip_risk_ekata', 'transaction'), ('transaction', 'has_phone_details_account_details_instagram_registered_seon', 'phone_details_account_details_instagram_registered_seon'), ('phone_details_account_details_instagram_registered_seon', 'rev_has_phone_details_account_details_instagram_registered_seon', 'transaction'), ('transaction', 'has_email_details_account_details_twitter_registered_seon', 'email_details_account_details_twitter_registered_seon'), ('email_details_account_details_twitter_registered_seon', 'rev_has_email_details_account_details_twitter_registered_seon', 'transaction'), ('transaction', 'has_phone_details_account_details_telegram_registered_seon', 'phone_details_account_details_telegram_registered_seon'), ('phone_details_account_details_telegram_registered_seon', 'rev_has_phone_details_account_details_telegram_registered_seon', 'transaction'), ('transaction', 'has_district_district', 'district_district'), ('district_district', 'rev_has_district_district', 'transaction'), ('transaction', 'has_email_details_account_details_microsoft_registered_seon', 'email_details_account_details_microsoft_registered_seon'), ('email_details_account_details_microsoft_registered_seon', 'rev_has_email_details_account_details_microsoft_registered_seon', 'transaction'), ('transaction', 'has_phone_details_country_seon', 'phone_details_country_seon'), ('phone_details_country_seon', 'rev_has_phone_details_country_seon', 'transaction'), ('transaction', 'has_ip_details_country_seon', 'ip_details_country_seon'), ('ip_details_country_seon', 'rev_has_ip_details_country_seon', 'transaction'), ('transaction', 'has_ip_details_vpn_seon', 'ip_details_vpn_seon'), ('ip_details_vpn_seon', 'rev_has_ip_details_vpn_seon', 'transaction'), ('transaction', 'has_email_details_account_details_facebook_registered_seon', 'email_details_account_details_facebook_registered_seon'), ('email_details_account_details_facebook_registered_seon', 'rev_has_email_details_account_details_facebook_registered_seon', 'transaction'), ('transaction', 'has_nationality_code_idv', 'nationality_code_idv'), ('nationality_code_idv', 'rev_has_nationality_code_idv', 'transaction'), ('transaction', 'has_formatted_address_district', 'formatted_address_district'), ('formatted_address_district', 'rev_has_formatted_address_district', 'transaction'), ('transaction', 'has_id_number_installments_plans', 'id_number_installments_plans'), ('id_number_installments_plans', 'rev_has_id_number_installments_plans', 'transaction'), ('transaction', 'has_email_details_breach_details_first_breach_seon', 'email_details_breach_details_first_breach_seon'), ('email_details_breach_details_first_breach_seon', 'rev_has_email_details_breach_details_first_breach_seon', 'transaction'), ('transaction', 'has_payment_method_fingerprint_orders', 'payment_method_fingerprint_orders'), ('payment_method_fingerprint_orders', 'rev_has_payment_method_fingerprint_orders', 'transaction'), ('transaction', 'has_ip_details_city_seon', 'ip_details_city_seon'), ('ip_details_city_seon', 'rev_has_ip_details_city_seon', 'transaction'), ('transaction', 'has_phone_details_account_details_google_registered_seon', 'phone_details_account_details_google_registered_seon'), ('phone_details_account_details_google_registered_seon', 'rev_has_phone_details_account_details_google_registered_seon', 'transaction'), ('transaction', 'has_email_details_account_details_google_registered_seon', 'email_details_account_details_google_registered_seon'), ('email_details_account_details_google_registered_seon', 'rev_has_email_details_account_details_google_registered_seon', 'transaction'), ('transaction', 'has_full_name_customers', 'full_name_customers'), ('full_name_customers', 'rev_has_full_name_customers', 'transaction'), ('transaction', 'has_payment_method_country_orders', 'payment_method_country_orders'), ('payment_method_country_orders', 'rev_has_payment_method_country_orders', 'transaction'), ('transaction', 'has_primary_phone_to_name_ekata', 'primary_phone_to_name_ekata'), ('primary_phone_to_name_ekata', 'rev_has_primary_phone_to_name_ekata', 'transaction'), ('transaction', 'has_email_details_account_details_github_registered_seon', 'email_details_account_details_github_registered_seon'), ('email_details_account_details_github_registered_seon', 'rev_has_email_details_account_details_github_registered_seon', 'transaction'), ('transaction', 'has_primary_phone_carrier_ekata', 'primary_phone_carrier_ekata'), ('primary_phone_carrier_ekata', 'rev_has_primary_phone_carrier_ekata', 'transaction'), ('transaction', 'has_merchant_name_orders', 'merchant_name_orders'), ('merchant_name_orders', 'rev_has_merchant_name_orders', 'transaction'), ('transaction', 'has_ip_connection_type_ekata', 'ip_connection_type_ekata'), ('ip_connection_type_ekata', 'rev_has_ip_connection_type_ekata', 'transaction'), ('transaction', 'has_customer_email_orders', 'customer_email_orders'), ('customer_email_orders', 'rev_has_customer_email_orders', 'transaction'), ('transaction', 'has_ip_details_type_seon', 'ip_details_type_seon'), ('ip_details_type_seon', 'rev_has_ip_details_type_seon', 'transaction'), ('transaction', 'has_ip_details_public_proxy_seon', 'ip_details_public_proxy_seon'), ('ip_details_public_proxy_seon', 'rev_has_ip_details_public_proxy_seon', 'transaction')]\r\n",
      "2024-11-12 12:23:53,916 INFO __main__: Constructing NetworkX graph...\r\n",
      "2024-11-12 12:24:23,767 INFO __main__: Created NetworkX graph with 2171146 nodes and 20310530 edges\r\n",
      "2024-11-12 12:24:48,046 INFO __main__: Saved graphs and mappings with prefix: \r\n",
      "2024-11-12 12:24:48,046 INFO __main__: PyG graph statistics:\r\n",
      "2024-11-12 12:24:48,046 INFO __main__:   transaction nodes: 291385\r\n",
      "2024-11-12 12:24:48,046 INFO __main__:   country_district nodes: 3\r\n",
      "2024-11-12 12:24:48,046 INFO __main__:   card_unique_identifier nodes: 142761\r\n",
      "2024-11-12 12:24:48,046 INFO __main__:   place_of_issue_idv nodes: 20\r\n",
      "2024-11-12 12:24:48,046 INFO __main__:   email_details_account_details_apple_registered_seon nodes: 3\r\n",
      "2024-11-12 12:24:48,047 INFO __main__:   ip_details_state_prov_seon nodes: 126\r\n",
      "2024-11-12 12:24:48,047 INFO __main__:   payment_method_bank_orders nodes: 478\r\n",
      "2024-11-12 12:24:48,047 INFO __main__:   full_name_idv nodes: 1598\r\n",
      "2024-11-12 12:24:48,047 INFO __main__:   email_details_domain_details_domain_seon nodes: 485\r\n",
      "2024-11-12 12:24:48,047 INFO __main__:   final_address_district nodes: 136051\r\n",
      "2024-11-12 12:24:48,047 INFO __main__:   ip_details_isp_name_seon nodes: 230\r\n",
      "2024-11-12 12:24:48,047 INFO __main__:   email_details_domain_details_registrar_name_seon nodes: 98\r\n",
      "2024-11-12 12:24:48,047 INFO __main__:   card_brand_cleaned_bin nodes: 6\r\n",
      "2024-11-12 12:24:48,047 INFO __main__:   email_details_account_details_instagram_registered_seon nodes: 3\r\n",
      "2024-11-12 12:24:48,047 INFO __main__:   phone_installments_plans nodes: 146309\r\n",
      "2024-11-12 12:24:48,047 INFO __main__:   primary_email_valid_ekata nodes: 3\r\n",
      "2024-11-12 12:24:48,047 INFO __main__:   phone_details_carrier_seon nodes: 8\r\n",
      "2024-11-12 12:24:48,047 INFO __main__:   email_details_breach_details_haveibeenpwned_listed_seon nodes: 3\r\n",
      "2024-11-12 12:24:48,047 INFO __main__:   phone_details_account_details_twitter_registered_seon nodes: 3\r\n",
      "2024-11-12 12:24:48,047 INFO __main__:   email_details_deliverable_seon nodes: 3\r\n",
      "2024-11-12 12:24:48,047 INFO __main__:   user_agent_orders nodes: 32297\r\n",
      "2024-11-12 12:24:48,047 INFO __main__:   sex_idv nodes: 3\r\n",
      "2024-11-12 12:24:48,047 INFO __main__:   ip_address_orders nodes: 258370\r\n",
      "2024-11-12 12:24:48,047 INFO __main__:   concatenated_names nodes: 180201\r\n",
      "2024-11-12 12:24:48,047 INFO __main__:   employer_idv nodes: 1027\r\n",
      "2024-11-12 12:24:48,047 INFO __main__:   device_fingerprint_orders nodes: 75401\r\n",
      "2024-11-12 12:24:48,047 INFO __main__:   identity_number_idv nodes: 1598\r\n",
      "2024-11-12 12:24:48,047 INFO __main__:   email_details_account_details_pinterest_registered_seon nodes: 3\r\n",
      "2024-11-12 12:24:48,047 INFO __main__:   state_emirate_district nodes: 33\r\n",
      "2024-11-12 12:24:48,047 INFO __main__:   email_details_domain_details_tld_seon nodes: 52\r\n",
      "2024-11-12 12:24:48,047 INFO __main__:   occupation_group_idv nodes: 41\r\n",
      "2024-11-12 12:24:48,047 INFO __main__:   ip_geolocation_country_code_ekata nodes: 108\r\n",
      "2024-11-12 12:24:48,047 INFO __main__:   email_details_account_details_spotify_registered_seon nodes: 3\r\n",
      "2024-11-12 12:24:48,047 INFO __main__:   card_type_cleaned_bin nodes: 6\r\n",
      "2024-11-12 12:24:48,047 INFO __main__:   email_details_domain_details_registered_to_seon nodes: 74\r\n",
      "2024-11-12 12:24:48,047 INFO __main__:   phone_details_account_details_whatsapp_registered_seon nodes: 3\r\n",
      "2024-11-12 12:24:48,047 INFO __main__:   primary_phone_line_type_ekata nodes: 4\r\n",
      "2024-11-12 12:24:48,047 INFO __main__:   phone_details_account_details_facebook_registered_seon nodes: 3\r\n",
      "2024-11-12 12:24:48,047 INFO __main__:   max_quantity_name nodes: 87258\r\n",
      "2024-11-12 12:24:48,047 INFO __main__:   primary_address_to_name_ekata nodes: 4\r\n",
      "2024-11-12 12:24:48,047 INFO __main__:   primary_address_validity_level_ekata nodes: 7\r\n",
      "2024-11-12 12:24:48,047 INFO __main__:   card_level_cleaned_bin nodes: 17\r\n",
      "2024-11-12 12:24:48,047 INFO __main__:   full_name_addresses nodes: 135589\r\n",
      "2024-11-12 12:24:48,047 INFO __main__:   ip_risk_ekata nodes: 3\r\n",
      "2024-11-12 12:24:48,047 INFO __main__:   phone_details_account_details_instagram_registered_seon nodes: 3\r\n",
      "2024-11-12 12:24:48,047 INFO __main__:   email_details_account_details_twitter_registered_seon nodes: 3\r\n",
      "2024-11-12 12:24:48,047 INFO __main__:   phone_details_account_details_telegram_registered_seon nodes: 3\r\n",
      "2024-11-12 12:24:48,047 INFO __main__:   district_district nodes: 1203\r\n",
      "2024-11-12 12:24:48,047 INFO __main__:   email_details_account_details_microsoft_registered_seon nodes: 3\r\n",
      "2024-11-12 12:24:48,047 INFO __main__:   phone_details_country_seon nodes: 3\r\n",
      "2024-11-12 12:24:48,047 INFO __main__:   ip_details_country_seon nodes: 60\r\n",
      "2024-11-12 12:24:48,047 INFO __main__:   ip_details_vpn_seon nodes: 3\r\n",
      "2024-11-12 12:24:48,047 INFO __main__:   email_details_account_details_facebook_registered_seon nodes: 3\r\n",
      "2024-11-12 12:24:48,047 INFO __main__:   nationality_code_idv nodes: 95\r\n",
      "2024-11-12 12:24:48,047 INFO __main__:   formatted_address_district nodes: 40383\r\n",
      "2024-11-12 12:24:48,047 INFO __main__:   id_number_installments_plans nodes: 143186\r\n",
      "2024-11-12 12:24:48,047 INFO __main__:   email_details_breach_details_first_breach_seon nodes: 276\r\n",
      "2024-11-12 12:24:48,047 INFO __main__:   payment_method_fingerprint_orders nodes: 188336\r\n",
      "2024-11-12 12:24:48,047 INFO __main__:   ip_details_city_seon nodes: 186\r\n",
      "2024-11-12 12:24:48,047 INFO __main__:   phone_details_account_details_google_registered_seon nodes: 3\r\n",
      "2024-11-12 12:24:48,047 INFO __main__:   email_details_account_details_google_registered_seon nodes: 3\r\n",
      "2024-11-12 12:24:48,047 INFO __main__:   full_name_customers nodes: 143051\r\n",
      "2024-11-12 12:24:48,047 INFO __main__:   payment_method_country_orders nodes: 83\r\n",
      "2024-11-12 12:24:48,047 INFO __main__:   primary_phone_to_name_ekata nodes: 4\r\n",
      "2024-11-12 12:24:48,047 INFO __main__:   email_details_account_details_github_registered_seon nodes: 3\r\n",
      "2024-11-12 12:24:48,047 INFO __main__:   primary_phone_carrier_ekata nodes: 8\r\n",
      "2024-11-12 12:24:48,047 INFO __main__:   merchant_name_orders nodes: 981\r\n",
      "2024-11-12 12:24:48,047 INFO __main__:   ip_connection_type_ekata nodes: 5\r\n",
      "2024-11-12 12:24:48,047 INFO __main__:   customer_email_orders nodes: 161565\r\n",
      "2024-11-12 12:24:48,047 INFO __main__:   ip_details_type_seon nodes: 10\r\n",
      "2024-11-12 12:24:48,047 INFO __main__:   ip_details_public_proxy_seon nodes: 3\r\n",
      "2024-11-12 12:24:48,048 INFO __main__:   ('transaction', 'has_country_district', 'country_district') edges: 291385\r\n",
      "2024-11-12 12:24:48,048 INFO __main__:   ('country_district', 'rev_has_country_district', 'transaction') edges: 291385\r\n",
      "2024-11-12 12:24:48,048 INFO __main__:   ('transaction', 'has_card_unique_identifier', 'card_unique_identifier') edges: 291385\r\n",
      "2024-11-12 12:24:48,048 INFO __main__:   ('card_unique_identifier', 'rev_has_card_unique_identifier', 'transaction') edges: 291385\r\n",
      "2024-11-12 12:24:48,048 INFO __main__:   ('transaction', 'has_place_of_issue_idv', 'place_of_issue_idv') edges: 291385\r\n",
      "2024-11-12 12:24:48,048 INFO __main__:   ('place_of_issue_idv', 'rev_has_place_of_issue_idv', 'transaction') edges: 291385\r\n",
      "2024-11-12 12:24:48,048 INFO __main__:   ('transaction', 'has_email_details_account_details_apple_registered_seon', 'email_details_account_details_apple_registered_seon') edges: 291385\r\n",
      "2024-11-12 12:24:48,048 INFO __main__:   ('email_details_account_details_apple_registered_seon', 'rev_has_email_details_account_details_apple_registered_seon', 'transaction') edges: 291385\r\n",
      "2024-11-12 12:24:48,048 INFO __main__:   ('transaction', 'has_ip_details_state_prov_seon', 'ip_details_state_prov_seon') edges: 291385\r\n",
      "2024-11-12 12:24:48,048 INFO __main__:   ('ip_details_state_prov_seon', 'rev_has_ip_details_state_prov_seon', 'transaction') edges: 291385\r\n",
      "2024-11-12 12:24:48,048 INFO __main__:   ('transaction', 'has_payment_method_bank_orders', 'payment_method_bank_orders') edges: 291385\r\n",
      "2024-11-12 12:24:48,048 INFO __main__:   ('payment_method_bank_orders', 'rev_has_payment_method_bank_orders', 'transaction') edges: 291385\r\n",
      "2024-11-12 12:24:48,048 INFO __main__:   ('transaction', 'has_full_name_idv', 'full_name_idv') edges: 291385\r\n",
      "2024-11-12 12:24:48,048 INFO __main__:   ('full_name_idv', 'rev_has_full_name_idv', 'transaction') edges: 291385\r\n",
      "2024-11-12 12:24:48,048 INFO __main__:   ('transaction', 'has_email_details_domain_details_domain_seon', 'email_details_domain_details_domain_seon') edges: 291385\r\n",
      "2024-11-12 12:24:48,048 INFO __main__:   ('email_details_domain_details_domain_seon', 'rev_has_email_details_domain_details_domain_seon', 'transaction') edges: 291385\r\n",
      "2024-11-12 12:24:48,048 INFO __main__:   ('transaction', 'has_final_address_district', 'final_address_district') edges: 232410\r\n",
      "2024-11-12 12:24:48,048 INFO __main__:   ('final_address_district', 'rev_has_final_address_district', 'transaction') edges: 232410\r\n",
      "2024-11-12 12:24:48,048 INFO __main__:   ('transaction', 'has_ip_details_isp_name_seon', 'ip_details_isp_name_seon') edges: 291385\r\n",
      "2024-11-12 12:24:48,048 INFO __main__:   ('ip_details_isp_name_seon', 'rev_has_ip_details_isp_name_seon', 'transaction') edges: 291385\r\n",
      "2024-11-12 12:24:48,048 INFO __main__:   ('transaction', 'has_email_details_domain_details_registrar_name_seon', 'email_details_domain_details_registrar_name_seon') edges: 291385\r\n",
      "2024-11-12 12:24:48,048 INFO __main__:   ('email_details_domain_details_registrar_name_seon', 'rev_has_email_details_domain_details_registrar_name_seon', 'transaction') edges: 291385\r\n",
      "2024-11-12 12:24:48,048 INFO __main__:   ('transaction', 'has_card_brand_cleaned_bin', 'card_brand_cleaned_bin') edges: 291385\r\n",
      "2024-11-12 12:24:48,048 INFO __main__:   ('card_brand_cleaned_bin', 'rev_has_card_brand_cleaned_bin', 'transaction') edges: 291385\r\n",
      "2024-11-12 12:24:48,048 INFO __main__:   ('transaction', 'has_email_details_account_details_instagram_registered_seon', 'email_details_account_details_instagram_registered_seon') edges: 291385\r\n",
      "2024-11-12 12:24:48,048 INFO __main__:   ('email_details_account_details_instagram_registered_seon', 'rev_has_email_details_account_details_instagram_registered_seon', 'transaction') edges: 291385\r\n",
      "2024-11-12 12:24:48,048 INFO __main__:   ('transaction', 'has_phone_installments_plans', 'phone_installments_plans') edges: 291385\r\n",
      "2024-11-12 12:24:48,048 INFO __main__:   ('phone_installments_plans', 'rev_has_phone_installments_plans', 'transaction') edges: 291385\r\n",
      "2024-11-12 12:24:48,048 INFO __main__:   ('transaction', 'has_primary_email_valid_ekata', 'primary_email_valid_ekata') edges: 291385\r\n",
      "2024-11-12 12:24:48,048 INFO __main__:   ('primary_email_valid_ekata', 'rev_has_primary_email_valid_ekata', 'transaction') edges: 291385\r\n",
      "2024-11-12 12:24:48,048 INFO __main__:   ('transaction', 'has_phone_details_carrier_seon', 'phone_details_carrier_seon') edges: 291385\r\n",
      "2024-11-12 12:24:48,048 INFO __main__:   ('phone_details_carrier_seon', 'rev_has_phone_details_carrier_seon', 'transaction') edges: 291385\r\n",
      "2024-11-12 12:24:48,048 INFO __main__:   ('transaction', 'has_email_details_breach_details_haveibeenpwned_listed_seon', 'email_details_breach_details_haveibeenpwned_listed_seon') edges: 291385\r\n",
      "2024-11-12 12:24:48,048 INFO __main__:   ('email_details_breach_details_haveibeenpwned_listed_seon', 'rev_has_email_details_breach_details_haveibeenpwned_listed_seon', 'transaction') edges: 291385\r\n",
      "2024-11-12 12:24:48,048 INFO __main__:   ('transaction', 'has_phone_details_account_details_twitter_registered_seon', 'phone_details_account_details_twitter_registered_seon') edges: 291385\r\n",
      "2024-11-12 12:24:48,048 INFO __main__:   ('phone_details_account_details_twitter_registered_seon', 'rev_has_phone_details_account_details_twitter_registered_seon', 'transaction') edges: 291385\r\n",
      "2024-11-12 12:24:48,048 INFO __main__:   ('transaction', 'has_email_details_deliverable_seon', 'email_details_deliverable_seon') edges: 291385\r\n",
      "2024-11-12 12:24:48,048 INFO __main__:   ('email_details_deliverable_seon', 'rev_has_email_details_deliverable_seon', 'transaction') edges: 291385\r\n",
      "2024-11-12 12:24:48,048 INFO __main__:   ('transaction', 'has_user_agent_orders', 'user_agent_orders') edges: 291385\r\n",
      "2024-11-12 12:24:48,048 INFO __main__:   ('user_agent_orders', 'rev_has_user_agent_orders', 'transaction') edges: 291385\r\n",
      "2024-11-12 12:24:48,048 INFO __main__:   ('transaction', 'has_sex_idv', 'sex_idv') edges: 291385\r\n",
      "2024-11-12 12:24:48,048 INFO __main__:   ('sex_idv', 'rev_has_sex_idv', 'transaction') edges: 291385\r\n",
      "2024-11-12 12:24:48,048 INFO __main__:   ('transaction', 'has_ip_address_orders', 'ip_address_orders') edges: 291385\r\n",
      "2024-11-12 12:24:48,049 INFO __main__:   ('ip_address_orders', 'rev_has_ip_address_orders', 'transaction') edges: 291385\r\n",
      "2024-11-12 12:24:48,049 INFO __main__:   ('transaction', 'has_concatenated_names', 'concatenated_names') edges: 279970\r\n",
      "2024-11-12 12:24:48,049 INFO __main__:   ('concatenated_names', 'rev_has_concatenated_names', 'transaction') edges: 279970\r\n",
      "2024-11-12 12:24:48,049 INFO __main__:   ('transaction', 'has_employer_idv', 'employer_idv') edges: 291385\r\n",
      "2024-11-12 12:24:48,049 INFO __main__:   ('employer_idv', 'rev_has_employer_idv', 'transaction') edges: 291385\r\n",
      "2024-11-12 12:24:48,049 INFO __main__:   ('transaction', 'has_device_fingerprint_orders', 'device_fingerprint_orders') edges: 291385\r\n",
      "2024-11-12 12:24:48,049 INFO __main__:   ('device_fingerprint_orders', 'rev_has_device_fingerprint_orders', 'transaction') edges: 291385\r\n",
      "2024-11-12 12:24:48,049 INFO __main__:   ('transaction', 'has_identity_number_idv', 'identity_number_idv') edges: 291385\r\n",
      "2024-11-12 12:24:48,049 INFO __main__:   ('identity_number_idv', 'rev_has_identity_number_idv', 'transaction') edges: 291385\r\n",
      "2024-11-12 12:24:48,049 INFO __main__:   ('transaction', 'has_email_details_account_details_pinterest_registered_seon', 'email_details_account_details_pinterest_registered_seon') edges: 291385\r\n",
      "2024-11-12 12:24:48,049 INFO __main__:   ('email_details_account_details_pinterest_registered_seon', 'rev_has_email_details_account_details_pinterest_registered_seon', 'transaction') edges: 291385\r\n",
      "2024-11-12 12:24:48,049 INFO __main__:   ('transaction', 'has_state_emirate_district', 'state_emirate_district') edges: 291385\r\n",
      "2024-11-12 12:24:48,049 INFO __main__:   ('state_emirate_district', 'rev_has_state_emirate_district', 'transaction') edges: 291385\r\n",
      "2024-11-12 12:24:48,049 INFO __main__:   ('transaction', 'has_email_details_domain_details_tld_seon', 'email_details_domain_details_tld_seon') edges: 291385\r\n",
      "2024-11-12 12:24:48,049 INFO __main__:   ('email_details_domain_details_tld_seon', 'rev_has_email_details_domain_details_tld_seon', 'transaction') edges: 291385\r\n",
      "2024-11-12 12:24:48,049 INFO __main__:   ('transaction', 'has_occupation_group_idv', 'occupation_group_idv') edges: 291385\r\n",
      "2024-11-12 12:24:48,049 INFO __main__:   ('occupation_group_idv', 'rev_has_occupation_group_idv', 'transaction') edges: 291385\r\n",
      "2024-11-12 12:24:48,049 INFO __main__:   ('transaction', 'has_ip_geolocation_country_code_ekata', 'ip_geolocation_country_code_ekata') edges: 291385\r\n",
      "2024-11-12 12:24:48,049 INFO __main__:   ('ip_geolocation_country_code_ekata', 'rev_has_ip_geolocation_country_code_ekata', 'transaction') edges: 291385\r\n",
      "2024-11-12 12:24:48,049 INFO __main__:   ('transaction', 'has_email_details_account_details_spotify_registered_seon', 'email_details_account_details_spotify_registered_seon') edges: 291385\r\n",
      "2024-11-12 12:24:48,049 INFO __main__:   ('email_details_account_details_spotify_registered_seon', 'rev_has_email_details_account_details_spotify_registered_seon', 'transaction') edges: 291385\r\n",
      "2024-11-12 12:24:48,049 INFO __main__:   ('transaction', 'has_card_type_cleaned_bin', 'card_type_cleaned_bin') edges: 291385\r\n",
      "2024-11-12 12:24:48,049 INFO __main__:   ('card_type_cleaned_bin', 'rev_has_card_type_cleaned_bin', 'transaction') edges: 291385\r\n",
      "2024-11-12 12:24:48,049 INFO __main__:   ('transaction', 'has_email_details_domain_details_registered_to_seon', 'email_details_domain_details_registered_to_seon') edges: 291385\r\n",
      "2024-11-12 12:24:48,049 INFO __main__:   ('email_details_domain_details_registered_to_seon', 'rev_has_email_details_domain_details_registered_to_seon', 'transaction') edges: 291385\r\n",
      "2024-11-12 12:24:48,049 INFO __main__:   ('transaction', 'has_phone_details_account_details_whatsapp_registered_seon', 'phone_details_account_details_whatsapp_registered_seon') edges: 291385\r\n",
      "2024-11-12 12:24:48,049 INFO __main__:   ('phone_details_account_details_whatsapp_registered_seon', 'rev_has_phone_details_account_details_whatsapp_registered_seon', 'transaction') edges: 291385\r\n",
      "2024-11-12 12:24:48,049 INFO __main__:   ('transaction', 'has_primary_phone_line_type_ekata', 'primary_phone_line_type_ekata') edges: 291385\r\n",
      "2024-11-12 12:24:48,049 INFO __main__:   ('primary_phone_line_type_ekata', 'rev_has_primary_phone_line_type_ekata', 'transaction') edges: 291385\r\n",
      "2024-11-12 12:24:48,049 INFO __main__:   ('transaction', 'has_phone_details_account_details_facebook_registered_seon', 'phone_details_account_details_facebook_registered_seon') edges: 291385\r\n",
      "2024-11-12 12:24:48,049 INFO __main__:   ('phone_details_account_details_facebook_registered_seon', 'rev_has_phone_details_account_details_facebook_registered_seon', 'transaction') edges: 291385\r\n",
      "2024-11-12 12:24:48,049 INFO __main__:   ('transaction', 'has_max_quantity_name', 'max_quantity_name') edges: 275355\r\n",
      "2024-11-12 12:24:48,049 INFO __main__:   ('max_quantity_name', 'rev_has_max_quantity_name', 'transaction') edges: 275355\r\n",
      "2024-11-12 12:24:48,049 INFO __main__:   ('transaction', 'has_primary_address_to_name_ekata', 'primary_address_to_name_ekata') edges: 291385\r\n",
      "2024-11-12 12:24:48,049 INFO __main__:   ('primary_address_to_name_ekata', 'rev_has_primary_address_to_name_ekata', 'transaction') edges: 291385\r\n",
      "2024-11-12 12:24:48,049 INFO __main__:   ('transaction', 'has_primary_address_validity_level_ekata', 'primary_address_validity_level_ekata') edges: 291385\r\n",
      "2024-11-12 12:24:48,049 INFO __main__:   ('primary_address_validity_level_ekata', 'rev_has_primary_address_validity_level_ekata', 'transaction') edges: 291385\r\n",
      "2024-11-12 12:24:48,049 INFO __main__:   ('transaction', 'has_card_level_cleaned_bin', 'card_level_cleaned_bin') edges: 291385\r\n",
      "2024-11-12 12:24:48,049 INFO __main__:   ('card_level_cleaned_bin', 'rev_has_card_level_cleaned_bin', 'transaction') edges: 291385\r\n",
      "2024-11-12 12:24:48,049 INFO __main__:   ('transaction', 'has_full_name_addresses', 'full_name_addresses') edges: 291385\r\n",
      "2024-11-12 12:24:48,049 INFO __main__:   ('full_name_addresses', 'rev_has_full_name_addresses', 'transaction') edges: 291385\r\n",
      "2024-11-12 12:24:48,049 INFO __main__:   ('transaction', 'has_ip_risk_ekata', 'ip_risk_ekata') edges: 291385\r\n",
      "2024-11-12 12:24:48,049 INFO __main__:   ('ip_risk_ekata', 'rev_has_ip_risk_ekata', 'transaction') edges: 291385\r\n",
      "2024-11-12 12:24:48,050 INFO __main__:   ('transaction', 'has_phone_details_account_details_instagram_registered_seon', 'phone_details_account_details_instagram_registered_seon') edges: 291385\r\n",
      "2024-11-12 12:24:48,050 INFO __main__:   ('phone_details_account_details_instagram_registered_seon', 'rev_has_phone_details_account_details_instagram_registered_seon', 'transaction') edges: 291385\r\n",
      "2024-11-12 12:24:48,050 INFO __main__:   ('transaction', 'has_email_details_account_details_twitter_registered_seon', 'email_details_account_details_twitter_registered_seon') edges: 291385\r\n",
      "2024-11-12 12:24:48,050 INFO __main__:   ('email_details_account_details_twitter_registered_seon', 'rev_has_email_details_account_details_twitter_registered_seon', 'transaction') edges: 291385\r\n",
      "2024-11-12 12:24:48,050 INFO __main__:   ('transaction', 'has_phone_details_account_details_telegram_registered_seon', 'phone_details_account_details_telegram_registered_seon') edges: 291385\r\n",
      "2024-11-12 12:24:48,050 INFO __main__:   ('phone_details_account_details_telegram_registered_seon', 'rev_has_phone_details_account_details_telegram_registered_seon', 'transaction') edges: 291385\r\n",
      "2024-11-12 12:24:48,050 INFO __main__:   ('transaction', 'has_district_district', 'district_district') edges: 291385\r\n",
      "2024-11-12 12:24:48,050 INFO __main__:   ('district_district', 'rev_has_district_district', 'transaction') edges: 291385\r\n",
      "2024-11-12 12:24:48,050 INFO __main__:   ('transaction', 'has_email_details_account_details_microsoft_registered_seon', 'email_details_account_details_microsoft_registered_seon') edges: 291385\r\n",
      "2024-11-12 12:24:48,050 INFO __main__:   ('email_details_account_details_microsoft_registered_seon', 'rev_has_email_details_account_details_microsoft_registered_seon', 'transaction') edges: 291385\r\n",
      "2024-11-12 12:24:48,050 INFO __main__:   ('transaction', 'has_phone_details_country_seon', 'phone_details_country_seon') edges: 291385\r\n",
      "2024-11-12 12:24:48,050 INFO __main__:   ('phone_details_country_seon', 'rev_has_phone_details_country_seon', 'transaction') edges: 291385\r\n",
      "2024-11-12 12:24:48,050 INFO __main__:   ('transaction', 'has_ip_details_country_seon', 'ip_details_country_seon') edges: 291385\r\n",
      "2024-11-12 12:24:48,050 INFO __main__:   ('ip_details_country_seon', 'rev_has_ip_details_country_seon', 'transaction') edges: 291385\r\n",
      "2024-11-12 12:24:48,050 INFO __main__:   ('transaction', 'has_ip_details_vpn_seon', 'ip_details_vpn_seon') edges: 291385\r\n",
      "2024-11-12 12:24:48,050 INFO __main__:   ('ip_details_vpn_seon', 'rev_has_ip_details_vpn_seon', 'transaction') edges: 291385\r\n",
      "2024-11-12 12:24:48,050 INFO __main__:   ('transaction', 'has_email_details_account_details_facebook_registered_seon', 'email_details_account_details_facebook_registered_seon') edges: 291385\r\n",
      "2024-11-12 12:24:48,050 INFO __main__:   ('email_details_account_details_facebook_registered_seon', 'rev_has_email_details_account_details_facebook_registered_seon', 'transaction') edges: 291385\r\n",
      "2024-11-12 12:24:48,050 INFO __main__:   ('transaction', 'has_nationality_code_idv', 'nationality_code_idv') edges: 291385\r\n",
      "2024-11-12 12:24:48,050 INFO __main__:   ('nationality_code_idv', 'rev_has_nationality_code_idv', 'transaction') edges: 291385\r\n",
      "2024-11-12 12:24:48,050 INFO __main__:   ('transaction', 'has_formatted_address_district', 'formatted_address_district') edges: 291385\r\n",
      "2024-11-12 12:24:48,050 INFO __main__:   ('formatted_address_district', 'rev_has_formatted_address_district', 'transaction') edges: 291385\r\n",
      "2024-11-12 12:24:48,050 INFO __main__:   ('transaction', 'has_id_number_installments_plans', 'id_number_installments_plans') edges: 291385\r\n",
      "2024-11-12 12:24:48,050 INFO __main__:   ('id_number_installments_plans', 'rev_has_id_number_installments_plans', 'transaction') edges: 291385\r\n",
      "2024-11-12 12:24:48,050 INFO __main__:   ('transaction', 'has_email_details_breach_details_first_breach_seon', 'email_details_breach_details_first_breach_seon') edges: 291385\r\n",
      "2024-11-12 12:24:48,050 INFO __main__:   ('email_details_breach_details_first_breach_seon', 'rev_has_email_details_breach_details_first_breach_seon', 'transaction') edges: 291385\r\n",
      "2024-11-12 12:24:48,050 INFO __main__:   ('transaction', 'has_payment_method_fingerprint_orders', 'payment_method_fingerprint_orders') edges: 291385\r\n",
      "2024-11-12 12:24:48,050 INFO __main__:   ('payment_method_fingerprint_orders', 'rev_has_payment_method_fingerprint_orders', 'transaction') edges: 291385\r\n",
      "2024-11-12 12:24:48,050 INFO __main__:   ('transaction', 'has_ip_details_city_seon', 'ip_details_city_seon') edges: 291385\r\n",
      "2024-11-12 12:24:48,050 INFO __main__:   ('ip_details_city_seon', 'rev_has_ip_details_city_seon', 'transaction') edges: 291385\r\n",
      "2024-11-12 12:24:48,050 INFO __main__:   ('transaction', 'has_phone_details_account_details_google_registered_seon', 'phone_details_account_details_google_registered_seon') edges: 291385\r\n",
      "2024-11-12 12:24:48,050 INFO __main__:   ('phone_details_account_details_google_registered_seon', 'rev_has_phone_details_account_details_google_registered_seon', 'transaction') edges: 291385\r\n",
      "2024-11-12 12:24:48,050 INFO __main__:   ('transaction', 'has_email_details_account_details_google_registered_seon', 'email_details_account_details_google_registered_seon') edges: 291385\r\n",
      "2024-11-12 12:24:48,050 INFO __main__:   ('email_details_account_details_google_registered_seon', 'rev_has_email_details_account_details_google_registered_seon', 'transaction') edges: 291385\r\n",
      "2024-11-12 12:24:48,050 INFO __main__:   ('transaction', 'has_full_name_customers', 'full_name_customers') edges: 291385\r\n",
      "2024-11-12 12:24:48,050 INFO __main__:   ('full_name_customers', 'rev_has_full_name_customers', 'transaction') edges: 291385\r\n",
      "2024-11-12 12:24:48,050 INFO __main__:   ('transaction', 'has_payment_method_country_orders', 'payment_method_country_orders') edges: 291385\r\n",
      "2024-11-12 12:24:48,050 INFO __main__:   ('payment_method_country_orders', 'rev_has_payment_method_country_orders', 'transaction') edges: 291385\r\n",
      "2024-11-12 12:24:48,050 INFO __main__:   ('transaction', 'has_primary_phone_to_name_ekata', 'primary_phone_to_name_ekata') edges: 291385\r\n",
      "2024-11-12 12:24:48,050 INFO __main__:   ('primary_phone_to_name_ekata', 'rev_has_primary_phone_to_name_ekata', 'transaction') edges: 291385\r\n",
      "2024-11-12 12:24:48,050 INFO __main__:   ('transaction', 'has_email_details_account_details_github_registered_seon', 'email_details_account_details_github_registered_seon') edges: 291385\r\n",
      "2024-11-12 12:24:48,050 INFO __main__:   ('email_details_account_details_github_registered_seon', 'rev_has_email_details_account_details_github_registered_seon', 'transaction') edges: 291385\r\n",
      "2024-11-12 12:24:48,050 INFO __main__:   ('transaction', 'has_primary_phone_carrier_ekata', 'primary_phone_carrier_ekata') edges: 291385\r\n",
      "2024-11-12 12:24:48,050 INFO __main__:   ('primary_phone_carrier_ekata', 'rev_has_primary_phone_carrier_ekata', 'transaction') edges: 291385\r\n",
      "2024-11-12 12:24:48,051 INFO __main__:   ('transaction', 'has_merchant_name_orders', 'merchant_name_orders') edges: 291385\r\n",
      "2024-11-12 12:24:48,051 INFO __main__:   ('merchant_name_orders', 'rev_has_merchant_name_orders', 'transaction') edges: 291385\r\n",
      "2024-11-12 12:24:48,051 INFO __main__:   ('transaction', 'has_ip_connection_type_ekata', 'ip_connection_type_ekata') edges: 291385\r\n",
      "2024-11-12 12:24:48,051 INFO __main__:   ('ip_connection_type_ekata', 'rev_has_ip_connection_type_ekata', 'transaction') edges: 291385\r\n",
      "2024-11-12 12:24:48,051 INFO __main__:   ('transaction', 'has_customer_email_orders', 'customer_email_orders') edges: 291385\r\n",
      "2024-11-12 12:24:48,051 INFO __main__:   ('customer_email_orders', 'rev_has_customer_email_orders', 'transaction') edges: 291385\r\n",
      "2024-11-12 12:24:48,051 INFO __main__:   ('transaction', 'has_ip_details_type_seon', 'ip_details_type_seon') edges: 291385\r\n",
      "2024-11-12 12:24:48,051 INFO __main__:   ('ip_details_type_seon', 'rev_has_ip_details_type_seon', 'transaction') edges: 291385\r\n",
      "2024-11-12 12:24:48,051 INFO __main__:   ('transaction', 'has_ip_details_public_proxy_seon', 'ip_details_public_proxy_seon') edges: 291385\r\n",
      "2024-11-12 12:24:48,051 INFO __main__:   ('ip_details_public_proxy_seon', 'rev_has_ip_details_public_proxy_seon', 'transaction') edges: 291385\r\n",
      "2024-11-12 12:24:48,051 INFO __main__: Graph construction completed successfully\r\n"
     ]
    }
   ],
   "execution_count": 2
  },
  {
   "metadata": {},
   "cell_type": "markdown",
   "source": "### Graph Analysis",
   "id": "7f7a1de048ac9f00"
  },
  {
   "metadata": {
    "ExecuteTime": {
     "end_time": "2024-11-12T17:42:03.345547Z",
     "start_time": "2024-11-12T17:42:01.125849Z"
    }
   },
   "cell_type": "code",
   "source": [
    "from utils import load_graph\n",
    "import networkx as nx"
   ],
   "id": "fcc6706a9701257b",
   "outputs": [],
   "execution_count": 2
  },
  {
   "metadata": {
    "ExecuteTime": {
     "end_time": "2024-11-12T17:42:28.356265Z",
     "start_time": "2024-11-12T17:42:06.945897Z"
    }
   },
   "cell_type": "code",
   "source": "_, nx_graph, _ = load_graph(graphDir)",
   "id": "3cd777a0040b044d",
   "outputs": [],
   "execution_count": 3
  },
  {
   "metadata": {
    "ExecuteTime": {
     "end_time": "2024-11-12T17:42:38.336716Z",
     "start_time": "2024-11-12T17:42:33.595591Z"
    }
   },
   "cell_type": "code",
   "source": [
    "stats = dict()\n",
    "\n",
    "stats['num_nodes'] = nx_graph.number_of_nodes()\n",
    "stats['num_edges'] = nx_graph.number_of_edges()\n",
    "stats['average_degree'] = sum(dict(nx_graph.degree()).values()) / nx_graph.number_of_nodes()\n",
    "stats['density'] = nx.density(nx_graph)\n",
    "degree_centrality = nx.degree_centrality(nx_graph)\n",
    "stats['max_degree_centrality'] = max(degree_centrality.values())"
   ],
   "id": "b033a67d32af86d8",
   "outputs": [],
   "execution_count": 4
  },
  {
   "metadata": {
    "ExecuteTime": {
     "end_time": "2024-11-12T17:42:38.362341Z",
     "start_time": "2024-11-12T17:42:38.354814Z"
    }
   },
   "cell_type": "code",
   "source": "stats",
   "id": "82f256806505c6e5",
   "outputs": [
    {
     "data": {
      "text/plain": [
       "{'num_nodes': 2171146,\n",
       " 'num_edges': 20310530,\n",
       " 'average_degree': 18.709501802274005,\n",
       " 'density': 8.617343292260078e-06,\n",
       " 'max_degree_centrality': 0.13409376158662825}"
      ]
     },
     "execution_count": 5,
     "metadata": {},
     "output_type": "execute_result"
    }
   ],
   "execution_count": 5
  },
  {
   "metadata": {
    "ExecuteTime": {
     "end_time": "2024-11-12T17:42:39.110893Z",
     "start_time": "2024-11-12T17:42:39.107843Z"
    }
   },
   "cell_type": "code",
   "source": "nx_graph.is_directed()",
   "id": "bc705132b46b7513",
   "outputs": [
    {
     "data": {
      "text/plain": [
       "False"
      ]
     },
     "execution_count": 6,
     "metadata": {},
     "output_type": "execute_result"
    }
   ],
   "execution_count": 6
  },
  {
   "metadata": {
    "ExecuteTime": {
     "end_time": "2024-11-12T17:42:52.297849Z",
     "start_time": "2024-11-12T17:42:41.908125Z"
    }
   },
   "cell_type": "code",
   "source": "is_bipartite = nx.is_bipartite(nx_graph)",
   "id": "b5ad5447dbba4c72",
   "outputs": [],
   "execution_count": 7
  },
  {
   "metadata": {
    "ExecuteTime": {
     "end_time": "2024-11-12T17:42:52.320867Z",
     "start_time": "2024-11-12T17:42:52.315101Z"
    }
   },
   "cell_type": "code",
   "source": "print(f\"Is the graph bipartite? {is_bipartite}\")",
   "id": "12344b7dcffbcce3",
   "outputs": [
    {
     "name": "stdout",
     "output_type": "stream",
     "text": [
      "Is the graph bipartite? True\n"
     ]
    }
   ],
   "execution_count": 8
  },
  {
   "metadata": {
    "ExecuteTime": {
     "end_time": "2024-11-12T22:53:10.888746Z",
     "start_time": "2024-11-12T22:53:10.808158Z"
    }
   },
   "cell_type": "code",
   "source": [
    "%load_ext autoreload\n",
    "%autoreload 2\n",
    "\n",
    "from plot_graph import visualize_graph"
   ],
   "id": "c20f7ea494bd0f34",
   "outputs": [
    {
     "name": "stdout",
     "output_type": "stream",
     "text": [
      "The autoreload extension is already loaded. To reload it, use:\n",
      "  %reload_ext autoreload\n"
     ]
    }
   ],
   "execution_count": 36
  },
  {
   "metadata": {
    "ExecuteTime": {
     "end_time": "2024-11-12T22:53:42.293187Z",
     "start_time": "2024-11-12T22:53:11.808134Z"
    }
   },
   "cell_type": "code",
   "source": "visualize_graph(graphDir)",
   "id": "c242f803af6caf8b",
   "outputs": [],
   "execution_count": 37
  },
  {
   "metadata": {
    "ExecuteTime": {
     "end_time": "2024-11-11T13:18:50.325076Z",
     "start_time": "2024-11-11T13:18:49.932873Z"
    }
   },
   "cell_type": "code",
   "source": "nodes_data = list(nx_graph.nodes(data=True))",
   "id": "398214a1cc5afca3",
   "outputs": [],
   "execution_count": 96
  },
  {
   "metadata": {
    "ExecuteTime": {
     "end_time": "2024-11-11T13:21:02.568710Z",
     "start_time": "2024-11-11T13:21:02.531588Z"
    }
   },
   "cell_type": "code",
   "source": "nodes_data[2]",
   "id": "e20678eea9db63dc",
   "outputs": [
    {
     "data": {
      "text/plain": [
       "('transaction_2',\n",
       " {'type': 'transaction',\n",
       "  'features': array([-1.07702486e-01, -1.92793049e-02,  1.32325411e-01,  8.90130699e-01,\n",
       "          1.18594522e-04,  8.65350544e-01, -4.30457219e-02, -2.18096767e-02,\n",
       "         -3.42885032e-02,  0.00000000e+00,  0.00000000e+00,  0.00000000e+00,\n",
       "          0.00000000e+00,  0.00000000e+00,  0.00000000e+00,  0.00000000e+00,\n",
       "          0.00000000e+00,  0.00000000e+00,  0.00000000e+00,  0.00000000e+00,\n",
       "          0.00000000e+00,  0.00000000e+00,  0.00000000e+00,  0.00000000e+00,\n",
       "          0.00000000e+00,  0.00000000e+00,  0.00000000e+00,  1.00000000e+00,\n",
       "          0.00000000e+00,  0.00000000e+00,  0.00000000e+00,  0.00000000e+00,\n",
       "          0.00000000e+00,  0.00000000e+00,  0.00000000e+00,  0.00000000e+00,\n",
       "          1.00000000e+00,  0.00000000e+00,  1.00000000e+00,  0.00000000e+00,\n",
       "          0.00000000e+00,  0.00000000e+00,  0.00000000e+00,  0.00000000e+00,\n",
       "          0.00000000e+00,  1.00000000e+00,  0.00000000e+00,  0.00000000e+00,\n",
       "          1.00000000e+00,  0.00000000e+00,  0.00000000e+00,  0.00000000e+00,\n",
       "          1.00000000e+00,  0.00000000e+00,  0.00000000e+00,  1.00000000e+00,\n",
       "          0.00000000e+00,  0.00000000e+00,  1.00000000e+00,  0.00000000e+00,\n",
       "          0.00000000e+00,  1.00000000e+00,  0.00000000e+00,  0.00000000e+00,\n",
       "          1.00000000e+00,  0.00000000e+00,  0.00000000e+00,  1.00000000e+00,\n",
       "          0.00000000e+00,  0.00000000e+00,  1.00000000e+00,  0.00000000e+00,\n",
       "          0.00000000e+00,  1.00000000e+00,  0.00000000e+00,  0.00000000e+00,\n",
       "          1.00000000e+00,  0.00000000e+00,  0.00000000e+00,  0.00000000e+00,\n",
       "          1.00000000e+00,  0.00000000e+00,  0.00000000e+00,  0.00000000e+00,\n",
       "          1.00000000e+00], dtype=float32),\n",
       "  'label': 1,\n",
       "  'train_mask': True,\n",
       "  'val_mask': False,\n",
       "  'test_mask': False,\n",
       "  'bipartite': 0})"
      ]
     },
     "execution_count": 99,
     "metadata": {},
     "output_type": "execute_result"
    }
   ],
   "execution_count": 99
  },
  {
   "metadata": {
    "ExecuteTime": {
     "end_time": "2024-11-11T13:21:49.006682Z",
     "start_time": "2024-11-11T13:21:48.360894Z"
    }
   },
   "cell_type": "code",
   "source": [
    "entities_nodes = [(node, data) for node, data in nodes_data\n",
    " if data.get('type') != 'transaction']\n",
    "\n",
    "transaction_nodes = [(node, data) for node, data in nodes_data\n",
    " if data.get('type') == 'transaction']"
   ],
   "id": "5c7956b6ac604256",
   "outputs": [],
   "execution_count": 100
  },
  {
   "metadata": {
    "ExecuteTime": {
     "end_time": "2024-11-11T13:22:36.494539Z",
     "start_time": "2024-11-11T13:22:36.460595Z"
    }
   },
   "cell_type": "code",
   "source": "entities_nodes[0]",
   "id": "e86c2f2900a3d5f6",
   "outputs": [
    {
     "data": {
      "text/plain": [
       "('country_district_0', {'type': 'country_district', 'bipartite': 1})"
      ]
     },
     "execution_count": 104,
     "metadata": {},
     "output_type": "execute_result"
    }
   ],
   "execution_count": 104
  },
  {
   "metadata": {
    "ExecuteTime": {
     "end_time": "2024-11-11T13:25:56.321959Z",
     "start_time": "2024-11-11T13:25:41.951849Z"
    }
   },
   "cell_type": "code",
   "source": "edges_data = list(nx_graph.edges(data=True))",
   "id": "f2de2875b6fa16d1",
   "outputs": [
    {
     "ename": "KeyboardInterrupt",
     "evalue": "",
     "output_type": "error",
     "traceback": [
      "\u001B[0;31m---------------------------------------------------------------------------\u001B[0m",
      "\u001B[0;31mKeyboardInterrupt\u001B[0m                         Traceback (most recent call last)",
      "Cell \u001B[0;32mIn[106], line 1\u001B[0m\n\u001B[0;32m----> 1\u001B[0m edges_data \u001B[38;5;241m=\u001B[39m \u001B[38;5;28;43mlist\u001B[39;49m\u001B[43m(\u001B[49m\u001B[43mnx_graph\u001B[49m\u001B[38;5;241;43m.\u001B[39;49m\u001B[43medges\u001B[49m\u001B[43m(\u001B[49m\u001B[43mdata\u001B[49m\u001B[38;5;241;43m=\u001B[39;49m\u001B[38;5;28;43;01mTrue\u001B[39;49;00m\u001B[43m)\u001B[49m\u001B[43m)\u001B[49m\n",
      "File \u001B[0;32m~/.conda/envs/self-driving-car/lib/python3.9/site-packages/networkx/classes/reportviews.py:843\u001B[0m, in \u001B[0;36mEdgeDataView.__len__\u001B[0;34m(self)\u001B[0m\n\u001B[1;32m    842\u001B[0m \u001B[38;5;28;01mdef\u001B[39;00m \u001B[38;5;21m__len__\u001B[39m(\u001B[38;5;28mself\u001B[39m):\n\u001B[0;32m--> 843\u001B[0m     \u001B[38;5;28;01mreturn\u001B[39;00m \u001B[38;5;28;43msum\u001B[39;49m\u001B[43m(\u001B[49m\u001B[38;5;241;43m1\u001B[39;49m\u001B[43m \u001B[49m\u001B[38;5;28;43;01mfor\u001B[39;49;00m\u001B[43m \u001B[49m\u001B[43me\u001B[49m\u001B[43m \u001B[49m\u001B[38;5;129;43;01min\u001B[39;49;00m\u001B[43m \u001B[49m\u001B[38;5;28;43mself\u001B[39;49m\u001B[43m)\u001B[49m\n",
      "File \u001B[0;32m~/.conda/envs/self-driving-car/lib/python3.9/site-packages/networkx/classes/reportviews.py:843\u001B[0m, in \u001B[0;36m<genexpr>\u001B[0;34m(.0)\u001B[0m\n\u001B[1;32m    842\u001B[0m \u001B[38;5;28;01mdef\u001B[39;00m \u001B[38;5;21m__len__\u001B[39m(\u001B[38;5;28mself\u001B[39m):\n\u001B[0;32m--> 843\u001B[0m     \u001B[38;5;28;01mreturn\u001B[39;00m \u001B[38;5;28msum\u001B[39m(\u001B[38;5;241m1\u001B[39m \u001B[38;5;28;01mfor\u001B[39;00m e \u001B[38;5;129;01min\u001B[39;00m \u001B[38;5;28mself\u001B[39m)\n",
      "File \u001B[0;32m~/.conda/envs/self-driving-car/lib/python3.9/site-packages/networkx/classes/reportviews.py:848\u001B[0m, in \u001B[0;36mEdgeDataView.__iter__\u001B[0;34m(self)\u001B[0m\n\u001B[1;32m    846\u001B[0m seen \u001B[38;5;241m=\u001B[39m {}\n\u001B[1;32m    847\u001B[0m \u001B[38;5;28;01mfor\u001B[39;00m n, nbrs \u001B[38;5;129;01min\u001B[39;00m \u001B[38;5;28mself\u001B[39m\u001B[38;5;241m.\u001B[39m_nodes_nbrs():\n\u001B[0;32m--> 848\u001B[0m     \u001B[38;5;28;01mfor\u001B[39;00m nbr, dd \u001B[38;5;129;01min\u001B[39;00m nbrs\u001B[38;5;241m.\u001B[39mitems():\n\u001B[1;32m    849\u001B[0m         \u001B[38;5;28;01mif\u001B[39;00m nbr \u001B[38;5;129;01mnot\u001B[39;00m \u001B[38;5;129;01min\u001B[39;00m seen:\n\u001B[1;32m    850\u001B[0m             \u001B[38;5;28;01myield\u001B[39;00m \u001B[38;5;28mself\u001B[39m\u001B[38;5;241m.\u001B[39m_report(n, nbr, dd)\n",
      "\u001B[0;31mKeyboardInterrupt\u001B[0m: "
     ]
    }
   ],
   "execution_count": 106
  },
  {
   "metadata": {
    "ExecuteTime": {
     "end_time": "2024-11-11T13:29:53.495364Z",
     "start_time": "2024-11-11T13:29:53.417321Z"
    }
   },
   "cell_type": "code",
   "source": "edges_data[0]",
   "id": "508b34d8455393e0",
   "outputs": [
    {
     "ename": "AttributeError",
     "evalue": "'list' object has no attribute 'get'",
     "output_type": "error",
     "traceback": [
      "\u001B[0;31m---------------------------------------------------------------------------\u001B[0m",
      "\u001B[0;31mAttributeError\u001B[0m                            Traceback (most recent call last)",
      "Cell \u001B[0;32mIn[140], line 1\u001B[0m\n\u001B[0;32m----> 1\u001B[0m \u001B[43medges_data\u001B[49m\u001B[38;5;241;43m.\u001B[39;49m\u001B[43mget\u001B[49m(\u001B[38;5;124m'\u001B[39m\u001B[38;5;124mtransaction_0\u001B[39m\u001B[38;5;124m'\u001B[39m)\n",
      "\u001B[0;31mAttributeError\u001B[0m: 'list' object has no attribute 'get'"
     ]
    }
   ],
   "execution_count": 140
  },
  {
   "metadata": {
    "ExecuteTime": {
     "end_time": "2024-11-11T13:36:58.505002Z",
     "start_time": "2024-11-11T13:36:54.872935Z"
    }
   },
   "cell_type": "code",
   "source": [
    "edge_types = set(data.get('type') for _, _, data in edges_data if 'type' in data)\n",
    "print(\"Edge types:\", edge_types)"
   ],
   "id": "c8b39d3491d4cce3",
   "outputs": [
    {
     "name": "stdout",
     "output_type": "stream",
     "text": [
      "Edge types: {'rev_has_user_agent_orders', 'rev_has_email_details_account_details_spotify_registered_seon', 'rev_has_phone_details_account_details_google_registered_seon', 'rev_has_district_district', 'rev_has_email_details_account_details_github_registered_seon', 'rev_has_ip_details_type_seon', 'rev_has_email_details_domain_details_registrar_name_seon', 'rev_has_primary_phone_carrier_ekata', 'rev_has_email_details_account_details_google_registered_seon', 'rev_has_email_details_deliverable_seon', 'rev_has_email_details_account_details_instagram_registered_seon', 'rev_has_employer_idv', 'rev_has_country_district', 'rev_has_email_details_domain_details_tld_seon', 'rev_has_email_details_domain_details_registered_to_seon', 'rev_has_identity_number_idv', 'rev_has_card_type_cleaned_bin', 'rev_has_sex_idv', 'rev_has_full_name_idv', 'rev_has_payment_method_country_orders', 'rev_has_email_details_breach_details_first_breach_seon', 'rev_has_ip_details_country_seon', 'rev_has_formatted_address_district', 'rev_has_state_emirate_district', 'rev_has_phone_details_account_details_twitter_registered_seon', 'rev_has_ip_geolocation_country_code_ekata', 'rev_has_primary_phone_to_name_ekata', 'rev_has_phone_details_account_details_whatsapp_registered_seon', 'rev_has_primary_address_validity_level_ekata', 'rev_has_ip_connection_type_ekata', 'rev_has_ip_details_vpn_seon', 'rev_has_full_name_addresses', 'rev_has_card_brand_cleaned_bin', 'rev_has_email_details_account_details_twitter_registered_seon', 'rev_has_email_details_account_details_apple_registered_seon', 'rev_has_ip_details_city_seon', 'rev_has_full_name_customers', 'rev_has_place_of_issue_idv', 'rev_has_phone_installments_plans', 'rev_has_card_level_cleaned_bin', 'rev_has_phone_details_carrier_seon', 'rev_has_primary_email_valid_ekata', 'rev_has_payment_method_fingerprint_orders', 'rev_has_customer_email_orders', 'rev_has_primary_address_to_name_ekata', 'rev_has_device_fingerprint_orders', 'rev_has_email_details_account_details_facebook_registered_seon', 'rev_has_merchant_name_orders', 'rev_has_max_quantity_name', 'rev_has_email_details_account_details_pinterest_registered_seon', 'rev_has_final_address_district', 'rev_has_phone_details_account_details_facebook_registered_seon', 'rev_has_phone_details_country_seon', 'rev_has_nationality_code_idv', 'rev_has_phone_details_account_details_telegram_registered_seon', 'rev_has_payment_method_bank_orders', 'rev_has_email_details_breach_details_haveibeenpwned_listed_seon', 'rev_has_email_details_account_details_microsoft_registered_seon', 'rev_has_ip_details_state_prov_seon', 'rev_has_card_unique_identifier', 'rev_has_phone_details_account_details_instagram_registered_seon', 'rev_has_email_details_domain_details_domain_seon', 'rev_has_concatenated_names', 'rev_has_primary_phone_line_type_ekata', 'rev_has_id_number_installments_plans', 'rev_has_ip_details_isp_name_seon', 'rev_has_occupation_group_idv', 'rev_has_ip_risk_ekata', 'rev_has_ip_details_public_proxy_seon', 'rev_has_ip_address_orders'}\n"
     ]
    }
   ],
   "execution_count": 144
  },
  {
   "metadata": {
    "ExecuteTime": {
     "end_time": "2024-11-11T13:37:41.489001Z",
     "start_time": "2024-11-11T13:37:41.404083Z"
    }
   },
   "cell_type": "code",
   "source": "len(edge_types)",
   "id": "f7296f36030eb030",
   "outputs": [
    {
     "data": {
      "text/plain": [
       "70"
      ]
     },
     "execution_count": 145,
     "metadata": {},
     "output_type": "execute_result"
    }
   ],
   "execution_count": 145
  },
  {
   "metadata": {
    "ExecuteTime": {
     "end_time": "2024-11-11T13:31:26.450693Z",
     "start_time": "2024-11-11T13:31:26.414172Z"
    }
   },
   "cell_type": "code",
   "source": "len(nx_graph.edges('transaction_0'))",
   "id": "232a3968d00b1afc",
   "outputs": [
    {
     "data": {
      "text/plain": [
       "70"
      ]
     },
     "execution_count": 142,
     "metadata": {},
     "output_type": "execute_result"
    }
   ],
   "execution_count": 142
  },
  {
   "metadata": {},
   "cell_type": "code",
   "outputs": [],
   "execution_count": null,
   "source": [
    "# target_node = 'transaction_0'\n",
    "# n_hops = 1\n",
    "# g_sub = nx.ego_graph(nx_graph, target_node, radius=n_hops)\n",
    "# \n",
    "# # Visualize the subgraph\n",
    "# plot_networkx_subgraph(g_sub)"
   ],
   "id": "5d544dceec342c26"
  }
 ],
 "metadata": {
  "kernelspec": {
   "display_name": "Python 3",
   "language": "python",
   "name": "python3"
  },
  "language_info": {
   "codemirror_mode": {
    "name": "ipython",
    "version": 2
   },
   "file_extension": ".py",
   "mimetype": "text/x-python",
   "name": "python",
   "nbconvert_exporter": "python",
   "pygments_lexer": "ipython2",
   "version": "2.7.6"
  }
 },
 "nbformat": 4,
 "nbformat_minor": 5
}
